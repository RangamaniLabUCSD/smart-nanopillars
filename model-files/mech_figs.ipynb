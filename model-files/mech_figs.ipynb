{
 "cells": [
  {
   "cell_type": "code",
   "execution_count": null,
   "metadata": {
    "metadata": {}
   },
   "outputs": [],
   "source": [
    "import sys, os, pathlib\n",
    "sys.path.append(\"/root/shared/gitrepos/smart-comp-sci/utils\")\n",
    "sys.path.append(\"/root/shared/gitrepos/smart-comp-sci/mechanotransduction-example\")\n",
    "import smart_analysis\n",
    "from mechanotransduction_ode import mechanotransduction_ode_calc\n",
    "from matplotlib import pyplot as plt\n",
    "plt.style.use(str(pathlib.Path.cwd() / \"..\" / \"utils\" / \"smart_plots.mplstyle\"))\n",
    "import numpy as np"
   ]
  },
  {
   "cell_type": "markdown",
   "metadata": {},
   "source": [
    "Analyze mechanotransduction simulations (provide path to folder containing all cases tested)."
   ]
  },
  {
   "cell_type": "code",
   "execution_count": null,
   "metadata": {},
   "outputs": [],
   "source": [
    "files_dir = \"/root/shared/gitrepos/smart-comp-sci/analysis_data/mechanotransduction/mech_new_results\"\n",
    "npy_dir = pathlib.Path.cwd() / \"..\" / \"analysis_data\" / \"mechanotransduction\" / \"mech_npy_files\"\n",
    "mesh_folder = \"/root/shared/write-meshes/mechanotransduction/meshes\"\n",
    "npy_dir.mkdir(exist_ok=True)\n",
    "test_folders = os.listdir(files_dir)\n",
    "shapes = [\"circle\", \"star\", \"rect\"]\n",
    "full3dstr = [\"full3dtrue\", \"full3dfalse\"]\n",
    "for i in range(len(test_folders)):\n",
    "    shape_logic = [shape in test_folders[i] for shape in shapes]\n",
    "    shape_idx = np.nonzero(shape_logic)[0]\n",
    "    full3d_logic = [full3d in test_folders[i] for full3d in full3dstr]\n",
    "    full3d_idx = np.nonzero(full3d_logic)[0]\n",
    "    results_folder = f\"{files_dir}/{test_folders[i]}\"\n",
    "    mesh_file = \"\"\n",
    "    if len(shape_idx)==1 and len(full3d_idx)==1:\n",
    "        for mesh_folder_test in os.listdir(mesh_folder):\n",
    "            if (shapes[shape_idx[0]] in mesh_folder_test and\n",
    "                full3dstr[full3d_idx[0]] in mesh_folder_test):\n",
    "                mesh_file = f\"{mesh_folder}/{mesh_folder_test}/spreadCell_mesh.h5\"\n",
    "                break\n",
    "    if mesh_file == \"\":\n",
    "        print(f\"Could not find mesh file for {test_folders[i]}\")\n",
    "        continue\n",
    "\n",
    "    if \"circle\" in results_folder and \"full3dfalse\" in results_folder:\n",
    "        axisymm = True\n",
    "    else:\n",
    "        axisymm = False\n",
    "    tVec, results_all = smart_analysis.analyze_all(\n",
    "        mesh_file=mesh_file, results_path=results_folder, display=False, axisymm=axisymm)\n",
    "    results_all.insert(0, tVec) # add time as first element in list\n",
    "    max_length = len(tVec)\n",
    "    for j in range(len(results_all)):\n",
    "        if len(results_all[j]) > max_length:\n",
    "            max_length = len(results_all[j])\n",
    "    for j in range(len(results_all)):\n",
    "        num_zeros = max_length - len(results_all[j])\n",
    "        for k in range(num_zeros):\n",
    "            results_all[j].append(0)\n",
    "    np.save(npy_dir / f\"{test_folders[i]}_redo_results.npy\", results_all)"
   ]
  },
  {
   "cell_type": "markdown",
   "metadata": {},
   "source": [
    "Plot average F-actin for each of the 3 different cell geometries."
   ]
  },
  {
   "cell_type": "code",
   "execution_count": null,
   "metadata": {
    "metadata": {}
   },
   "outputs": [],
   "source": [
    "contact_rad = 13\n",
    "stiffness_vec = [70000000]\n",
    "shape_vec = [\"circle\", \"rect\", \"star\"]\n",
    "symm_vec = [0, 0.25, 0.5]\n",
    "cyto_vol = 480\n",
    "pm_area = 320\n",
    "nuc_vol = 70.6\n",
    "nm_area = 58.5\n",
    "Ac = 133\n",
    "npy_dir = pathlib.Path.cwd() / \"..\" / \"analysis_data\" / \"mechanotransduction\" / \"mech_npy_files\"\n",
    "# geoParam = [cyto_vol, nuc_vol, pm_area, nm_area, Ac]\n",
    "geoParam = [[1925.03/4, nuc_vol, 1294.5/4, nm_area, Ac], [480.1, nuc_vol, 332.7, nm_area, Ac], [952.9/2, nuc_vol, 681.1/2, nm_area, Ac]]\n",
    "var_names_all = [\"Cofilin_P\", \"Fak\", \"mDia\", \"LaminA\", \"FActin\", \"RhoA_GTP\", \"mDia_A\", \"NPC_A\", \"GActin\", \"NPC\",\n",
    "        \"ROCK_A\", \"Myo\", \"Cofilin_NP\", \"LaminA_p\", \"YAPTAZ_nuc\", \"pFak\", \"YAPTAZ_phos\", \"YAPTAZ\", \"RhoA_GDP\", \"LIMK\",\n",
    "        \"Myo_A\", \"ROCK\", \"Positionboolean\", \"LIMK_A\", \"MRTF\", \"MRTF_nuc\"]\n",
    "var_names_saved = [\"Cofilin_NP\", \"Emod\", \"FActin\", \"GActin\", \"LaminA\", \"LIMK_A\", \"mDia_A\", \n",
    "                   \"Myo_A\", \"NPC_A\", \"pFAK\", \"RhoA_GDP\", \"RhoA_GTP\", \"ROCK_A\", \"YAPTAZ\", \"YAPTAZ_nuc\", \"YAPTAZ_phos\"]\n",
    "plot_name = \"FActin\"\n",
    "ode_idx = var_names_all.index(plot_name)\n",
    "results_idx = var_names_saved.index(plot_name) + 1 # add one because time is first el\n",
    "fig, ax = plt.subplots(figsize=(5,3))\n",
    "full3d = False\n",
    "for stiffness in stiffness_vec:\n",
    "    for i in range(len(shape_vec)):\n",
    "        file_cur = f\"{str(npy_dir)}/{shape_vec[i]}_E{stiffness}_full3d{full3d}_results.npy\"\n",
    "        results_cur = np.load(file_cur)\n",
    "        plt.plot(results_cur[0]/60, results_cur[results_idx],label=f\"{shape_vec[i]} {stiffness} kPa\")\n",
    "\n",
    "plt.ylabel(\"F-actin (μM)\")\n",
    "plt.xlabel('Time (min)')\n",
    "plt.xlim([0, 60])\n",
    "\n",
    "plt.savefig(npy_dir / \"Factin.pdf\", format=\"pdf\")"
   ]
  },
  {
   "cell_type": "markdown",
   "metadata": {},
   "source": [
    "Plot average YAP/TAZ nuclear to cytosolic ratio (N/C) for each of the 3 different cell geometries."
   ]
  },
  {
   "cell_type": "code",
   "execution_count": null,
   "metadata": {
    "metadata": {}
   },
   "outputs": [],
   "source": [
    "stiffness_vec = [70000000]#[0.1, 5.7, 70000000.0]\n",
    "shape_vec = [\"circle\", \"rect\", \"star\"]\n",
    "symm_vec = [0, 0.25, 0.5]\n",
    "# plot YAP/TAZ N/C ratio\n",
    "plot_names = [\"YAPTAZ_phos\", \"YAPTAZ\", \"YAPTAZ_nuc\"]\n",
    "ode_idx = []\n",
    "results_idx = []\n",
    "for name in plot_names:\n",
    "    results_idx.append(var_names_saved.index(name) + 1) # add one because time is first el\n",
    "    ode_idx.append(var_names_all.index(name))\n",
    "fig, ax = plt.subplots(figsize=(5,3))\n",
    "full3d = False\n",
    "for stiffness in stiffness_vec:\n",
    "    for i in range(len(shape_vec)):\n",
    "        file_cur = f\"{str(npy_dir)}/{shape_vec[i]}_E{stiffness}_full3d{full3d}_results.npy\"\n",
    "        results_cur = np.load(file_cur)\n",
    "        yaptaz_curratio = results_cur[results_idx[2]]/(results_cur[results_idx[0]]+results_cur[results_idx[1]])\n",
    "        plt.plot(results_cur[0]/60, yaptaz_curratio, label=f\"{shape_vec[i]} on glass\")#{stiffness} kPa\")\n",
    "\n",
    "plt.ylabel(\"YAP/TAZ N/C\")\n",
    "plt.xlabel('Time (min)')\n",
    "plt.xlim([0, 60])\n",
    "\n",
    "plt.savefig(f\"{str(npy_dir)}/YAPTAZ.pdf\", format=\"pdf\")"
   ]
  },
  {
   "cell_type": "markdown",
   "metadata": {},
   "source": [
    "Generate postprocessing plots comparing well-mixed SMART simulation to ODE solution."
   ]
  },
  {
   "cell_type": "code",
   "execution_count": null,
   "metadata": {
    "metadata": {}
   },
   "outputs": [],
   "source": [
    "import postprocess, json\n",
    "output_folder = pathlib.Path.cwd() / \"..\" / \"analysis_data\" / \"mechanotransduction\" / \"mech-refinement\"\n",
    "results_file = output_folder / \"results_mechanotransduction.json\"\n",
    "print(f\"Load results from {results_file}\")\n",
    "all_results = [postprocess.Data(**r) for r in json.loads(results_file.read_text())]\n",
    "postprocess.plot_data(all_results, output_folder, format=\".pdf\")"
   ]
  }
 ],
 "metadata": {
  "kernelspec": {
   "display_name": "Python 3",
   "language": "python",
   "name": "python3"
  },
  "language_info": {
   "codemirror_mode": {
    "name": "ipython",
    "version": 3
   },
   "file_extension": ".py",
   "mimetype": "text/x-python",
   "name": "python",
   "nbconvert_exporter": "python",
   "pygments_lexer": "ipython3",
   "version": "3.10.12"
  }
 },
 "nbformat": 4,
 "nbformat_minor": 2
}
