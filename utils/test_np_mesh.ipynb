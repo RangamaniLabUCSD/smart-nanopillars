{
 "cells": [
  {
   "cell_type": "code",
   "execution_count": null,
   "metadata": {},
   "outputs": [],
   "source": [
    "import spread_cell_mesh_generation as mesh_gen\n",
    "nanopillar_radius = 0.1\n",
    "nanopillar_height = 1.0\n",
    "nanopillar_spacing = 5.0\n",
    "nanopillars = [nanopillar_radius, nanopillar_height, nanopillar_spacing]\n",
    "cell_mesh, facet_markers, cell_markers, substrate_markers, curv_markers = mesh_gen.create_3dcell(\n",
    "                                                                        contactRad=15.0,\n",
    "                                                                        hEdge=0.5, hInnerEdge=0.5,\n",
    "                                                                        thetaExpr=\"\",\n",
    "                                                                        nanopillars=nanopillars,\n",
    "                                                                        return_curvature=True,\n",
    "                                                                        nuc_compression=1.0,\n",
    "                                                                        sym_fraction=1/8)"
   ]
  },
  {
   "cell_type": "code",
   "execution_count": null,
   "metadata": {},
   "outputs": [],
   "source": [
    "import dolfin as d\n",
    "d.File(\"test_np_1.pvd\") << cell_markers"
   ]
  }
 ],
 "metadata": {
  "kernelspec": {
   "display_name": "Python 3",
   "language": "python",
   "name": "python3"
  },
  "language_info": {
   "codemirror_mode": {
    "name": "ipython",
    "version": 3
   },
   "file_extension": ".py",
   "mimetype": "text/x-python",
   "name": "python",
   "nbconvert_exporter": "python",
   "pygments_lexer": "ipython3",
   "version": "3.10.12"
  }
 },
 "nbformat": 4,
 "nbformat_minor": 2
}
