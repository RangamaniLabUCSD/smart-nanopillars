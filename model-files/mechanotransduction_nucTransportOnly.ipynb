{
 "cells": [
  {
   "cell_type": "markdown",
   "id": "15942e38",
   "metadata": {},
   "source": [
    "# Mechanotransduction model in a mammalian cell\n",
    "\n",
    "Here, we partially solve the mechanotransduction model (see mechanotransduction.ipynb for full description). In this case, we assume that the cytoskeletal activation has already been solved for, in which case we only need to solve for alterations in nuclear transport of YAP/TAZ (enhanced opening due to stretch, rupture, etc.)\n",
    "\n",
    "The cytosolic species that must be loaded in are:\n",
    "* Myo_A: activated myosin (associated with stress fiber formation)\n",
    "* FActin: polymerized actin\n",
    "\n",
    "There remain 5 or 6 species to solve for. 2 in the cytosol:\n",
    "* YAPTAZ: dephosphorylated form of YAP/TAZ in the cytosol\n",
    "* YAPTAZ_phos: phosphorylated form of YAP/TAZ (preferentially remains cytosolic)\n",
    "\n",
    "The nuclear membrane species include:\n",
    "* LaminA: dephosphorylated form of Lamin A, a structural componet of the nuclear lamina\n",
    "* NPC_A: activated (open) nuclear pore complexes\n",
    "\n",
    "Finally, the nucleus contains:\n",
    "* YAPTAZ_nuc: concentration of YAP/TAZ in the nucleus\n",
    "* YAPTAZ_nuc_phos: concentration of phosphorylated YAP/TAZ in the nucleus (only allowed when pore forms)"
   ]
  },
  {
   "cell_type": "code",
   "execution_count": 1,
   "id": "4c779524",
   "metadata": {},
   "outputs": [
    {
     "name": "stderr",
     "output_type": "stream",
     "text": [
      "/usr/lib/python3/dist-packages/scipy/__init__.py:146: UserWarning: A NumPy version >=1.17.3 and <1.25.0 is required for this version of SciPy (detected version 1.26.4\n",
      "  warnings.warn(f\"A NumPy version >={np_minversion} and <{np_maxversion}\"\n",
      "ROOT -2024-09-07 00:22:34,795 mechanotransduction - INFO - Starting mechanotransduction example (2904938411.py:30)\n"
     ]
    }
   ],
   "source": [
    "import dolfin as d\n",
    "import sympy as sym\n",
    "import numpy as np\n",
    "import pathlib\n",
    "import logging\n",
    "import argparse\n",
    "import matplotlib.pyplot as plt\n",
    "\n",
    "\n",
    "from smart import config, mesh, model, mesh_tools\n",
    "from smart.units import unit\n",
    "from smart.model_assembly import (\n",
    "    Compartment,\n",
    "    Parameter,\n",
    "    Reaction,\n",
    "    Species,\n",
    "    sbmodel_from_locals,\n",
    ")\n",
    "import sys\n",
    "\n",
    "from mech_parser_args import add_mechanotransduction_nucOnly_arguments, shape2symfraction, Shape\n",
    "here = pathlib.Path.cwd()\n",
    "sys.path.insert(0, (here / \"..\" / \"scripts\").as_posix())\n",
    "import runner as main_run\n",
    "\n",
    "smart_logger = logging.getLogger(\"smart\")\n",
    "smart_logger.setLevel(logging.DEBUG)\n",
    "logger = logging.getLogger(\"mechanotransduction\")\n",
    "logger.setLevel(logging.INFO)\n",
    "logger.info(\"Starting mechanotransduction example\")"
   ]
  },
  {
   "cell_type": "markdown",
   "id": "5a762cd6",
   "metadata": {},
   "source": [
    "If running a series of tests, we use `argparse` to read in the test conditions. Otherwise, we load default parameters to the `args` dict."
   ]
  },
  {
   "cell_type": "code",
   "execution_count": 2,
   "id": "d9a5358a",
   "metadata": {},
   "outputs": [
    {
     "name": "stderr",
     "output_type": "stream",
     "text": [
      "usage: ipykernel_launcher.py [-h]\n",
      "ipykernel_launcher.py: error: unrecognized arguments: --f=/root/.local/share/jupyter/runtime/kernel-v2-1296mhc1fheoUt8Z.json\n"
     ]
    }
   ],
   "source": [
    "# outerExpr13 = \"(1 - z**4/(2000+z**4)) * (r**2 + z**2) + 0.4*(r**2 + (z+9.72)**2)*z**4 / (15 + z**4) - 169\"\n",
    "# innerExpr13 = \"(r/5.3)**2 + ((z-9.6/2)/2.4)**2 - 1\"\n",
    "\n",
    "sys.path.insert(0, \"/root/shared/gitrepos/smart-nanopillars/utils\")\n",
    "import spread_cell_mesh_generation as mesh_gen\n",
    "parser = argparse.ArgumentParser()\n",
    "# add_mechanotransduction_nucOnly_arguments(parser)\n",
    "try: # run as python script on cluster\n",
    "    args = vars(parser.parse_args())\n",
    "except: # not a run on the cluster\n",
    "    results_folder = pathlib.Path(\"results_newStretch_0.2width\")\n",
    "    args = {}\n",
    "    args[\"outdir\"] = results_folder\n",
    "    args[\"time_step\"] = 0.01\n",
    "    args[\"pore_size\"] = 0.1\n",
    "    args[\"pore_loc\"] = 0.0\n",
    "    args[\"pore_rate\"] = 10.0\n",
    "    args[\"transport_rate\"] = 10000.0\n",
    "    args[\"transport_ratio\"] = 10.0\n",
    "    args[\"u0_npc\"] = 5.0\n",
    "    args[\"nuc_compression\"] = 1.8\n",
    "    args[\"full_sims_folder\"] = pathlib.Path(\"/root/scratch/nanopillar-sims/results_nanopillars_indentation_newStretchCombined\")\n",
    "    mesh_folder = pathlib.Path(f\"/root/shared/gitrepos/smart-comp-sci-data/meshes/nanopillars_new/nanopillars_indent{args['nuc_compression']}\")\n",
    "    args[\"mesh_folder\"] = mesh_folder\n",
    "\n",
    "# hEdge = 0.5\n",
    "# hNP = hEdge * 0.1\n",
    "full_sim_folder_cur = args[\"full_sims_folder\"] / f\"nanopillars_indent{args['nuc_compression']}_u0_{args['u0_npc']}\"\n",
    "nanopillars = [0.5, 3.0, 3.5]\n",
    "timer = d.Timer(\"mechanotransduction-example\")"
   ]
  },
  {
   "cell_type": "markdown",
   "id": "e17a3fcb",
   "metadata": {},
   "source": [
    "Now we define units for use in the model."
   ]
  },
  {
   "cell_type": "code",
   "execution_count": 3,
   "id": "adf38767",
   "metadata": {},
   "outputs": [],
   "source": [
    "# Aliases - base units\n",
    "uM = unit.uM\n",
    "um = unit.um\n",
    "molecule = unit.molecule\n",
    "sec = unit.sec\n",
    "dimensionless = unit.dimensionless\n",
    "# Aliases - units used in model\n",
    "D_unit = um**2 / sec\n",
    "flux_unit = uM * um / sec\n",
    "vol_unit = uM\n",
    "surf_unit = molecule / um**2\n",
    "kPa = unit.kilopascal"
   ]
  },
  {
   "cell_type": "markdown",
   "id": "279d49e9",
   "metadata": {},
   "source": [
    "# Model generation\n",
    "\n",
    "For each step of model generation, refer to SMART Example 3 or API documentation for further details.\n",
    "\n",
    "We first define compartments and the compartment container. Note that we can specify nonadjacency for surfaces in the model, which is not required, but can speed up the solution process."
   ]
  },
  {
   "cell_type": "code",
   "execution_count": 4,
   "id": "bf4c746c",
   "metadata": {},
   "outputs": [],
   "source": [
    "Cyto = Compartment(\"Cyto\", 3, um, 1)\n",
    "Nuc = Compartment(\"Nuc\", 3, um, 2)\n",
    "NM = Compartment(\"NM\", 2, um, 12)\n",
    "\n",
    "vol_cyto = 2300  # used to compute pFAK and RhoA fluxes"
   ]
  },
  {
   "cell_type": "markdown",
   "id": "93fe34f1",
   "metadata": {},
   "source": [
    "Compute u_nuc"
   ]
  },
  {
   "cell_type": "code",
   "execution_count": 5,
   "id": "d5ba3502",
   "metadata": {},
   "outputs": [
    {
     "name": "stdout",
     "output_type": "stream",
     "text": [
      "\n"
     ]
    }
   ],
   "source": [
    "loaded = mesh_tools.load_mesh(args[\"mesh_folder\"] / \"spreadCell_mesh.h5\")\n",
    "u_nuc, aInner, bInner = mesh_gen.get_u_nuc(nanopillars[1], max(loaded.mesh.coordinates()[:,2]), \n",
    "                                           0.8, args[\"nuc_compression\"], nanopillars)\n",
    "a_nuc = mesh_gen.compute_stretch(u_nuc, aInner, bInner)\n",
    "d.ALE.move(u_nuc.function_space().mesh(), u_nuc)"
   ]
  },
  {
   "cell_type": "markdown",
   "id": "bf3c4b66",
   "metadata": {},
   "source": [
    "Now we initialize species. For comparison to ODE results, we can see well_mixed to true (fast diffusion)."
   ]
  },
  {
   "cell_type": "code",
   "execution_count": 6,
   "id": "ca2a1953",
   "metadata": {},
   "outputs": [],
   "source": [
    "# LaminA = Species(\"LaminA\", 0.0, surf_unit, 0.001, D_unit, \"NM\")\n",
    "# NPC_A = Species(\"NPC_A\", 0.0, surf_unit, 0.001, D_unit, \"NM\")\n",
    "YAPTAZ = Species(\n",
    "    \"YAPTAZ\", 0.7, vol_unit, 19.0, D_unit, \"Cyto\"\n",
    ")  # non-phosphorylated in the cytosol\n",
    "YAPTAZ_phos = Species(\n",
    "    \"YAPTAZ_phos\", 0.2, vol_unit, 19.0, D_unit, \"Cyto\"\n",
    ")  # phosphorylated in the cytosol\n",
    "YAPTAZ_nuc = Species(\"YAPTAZ_nuc\", 0.7, vol_unit, 19.0, D_unit, \"Nuc\")\n",
    "YAPTAZ_nuc_phos = Species(\"YAPTAZ_nuc_phos\", 0.0, vol_unit, 19.0, D_unit, \"Nuc\")"
   ]
  },
  {
   "cell_type": "markdown",
   "id": "a8769141",
   "metadata": {},
   "source": [
    "Now load in the mesh."
   ]
  },
  {
   "cell_type": "code",
   "execution_count": 7,
   "id": "3a157f4c",
   "metadata": {},
   "outputs": [
    {
     "name": "stderr",
     "output_type": "stream",
     "text": [
      "\u001b[36m\u001b[0m \u001b[97m2024-09-07 00:24:13,459 smart.mesh - INFO - HDF5 mesh, \"parent_mesh\", successfully loaded from file: /root/shared/gitrepos/smart-comp-sci-data/meshes/nanopillars_new/nanopillars_indent1.8/spreadCell_mesh.h5! (mesh.py:245)\u001b[0m \u001b[36m\u001b[0m\n",
      "\u001b[36m\u001b[0m \u001b[97m2024-09-07 00:24:14,243 smart.mesh - INFO - 1 subdomains successfully loaded from file: /root/shared/gitrepos/smart-comp-sci-data/meshes/nanopillars_new/nanopillars_indent1.8/spreadCell_mesh.h5! (mesh.py:258)\u001b[0m \u001b[36m\u001b[0m\n"
     ]
    }
   ],
   "source": [
    "parent_mesh = mesh.ParentMesh(\n",
    "    mesh_filename=str(pathlib.Path(args[\"mesh_folder\"]) / \"spreadCell_mesh.h5\"),\n",
    "    mesh_filetype=\"hdf5\",\n",
    "    name=\"parent_mesh\",\n",
    "    curvature=pathlib.Path(args[\"mesh_folder\"]) / \"curvatures.xdmf\",\n",
    "    extra_keys=[\"subdomain0_2\"]\n",
    ")\n",
    "# substrate_markers = parent_mesh.subdomains[0]"
   ]
  },
  {
   "cell_type": "markdown",
   "id": "42607f0c",
   "metadata": {},
   "source": [
    "Now we define reactions for nuclear transport. F-actin and myosin behave as spatiotemporally varying parameters here."
   ]
  },
  {
   "cell_type": "code",
   "execution_count": 12,
   "id": "9dfc6c7a",
   "metadata": {},
   "outputs": [
    {
     "name": "stderr",
     "output_type": "stream",
     "text": [
      "\u001b[36m\u001b[0m \u001b[97m2024-09-07 00:35:16,019 smart.model_assembly - DEBUG - Loading initial condition for FActin from file (model_assembly.py:668)\u001b[0m \u001b[36m\u001b[0m\n",
      "\u001b[32m2024-09-07 00:35:16,020 smart.model_assembly - INFO - Loading in data for parameter FActin (model_assembly.py:676)\u001b[0m \u001b[97m\u001b[0m\n",
      "\u001b[32m2024-09-07 00:35:16,020 smart.model_assembly - INFO - Parameter FActin linked to xdmf file. (model_assembly.py:700)\u001b[0m \u001b[97m\u001b[0m\n",
      "\u001b[36m\u001b[0m \u001b[97m2024-09-07 00:35:16,022 smart.model_assembly - DEBUG - Loading initial condition for Myo_A from file (model_assembly.py:668)\u001b[0m \u001b[36m\u001b[0m\n",
      "\u001b[32m2024-09-07 00:35:16,022 smart.model_assembly - INFO - Loading in data for parameter Myo_A (model_assembly.py:676)\u001b[0m \u001b[97m\u001b[0m\n",
      "\u001b[32m2024-09-07 00:35:16,023 smart.model_assembly - INFO - Parameter Myo_A linked to xdmf file. (model_assembly.py:700)\u001b[0m \u001b[97m\u001b[0m\n",
      "\u001b[36m\u001b[0m \u001b[97m2024-09-07 00:35:16,025 smart.model_assembly - DEBUG - Loading initial condition for uNPC from file (model_assembly.py:668)\u001b[0m \u001b[36m\u001b[0m\n",
      "\u001b[32m2024-09-07 00:35:16,026 smart.model_assembly - INFO - Loading in data for parameter uNPC (model_assembly.py:676)\u001b[0m \u001b[97m\u001b[0m\n",
      "\u001b[32m2024-09-07 00:35:16,026 smart.model_assembly - INFO - Parameter uNPC linked to xdmf file. (model_assembly.py:700)\u001b[0m \u001b[97m\u001b[0m\n",
      "\u001b[36m\u001b[0m \u001b[97m2024-09-07 00:35:16,028 smart.model_assembly - DEBUG - Loading initial condition for NPC_A from file (model_assembly.py:668)\u001b[0m \u001b[36m\u001b[0m\n",
      "\u001b[32m2024-09-07 00:35:16,029 smart.model_assembly - INFO - Loading in data for parameter NPC_A (model_assembly.py:676)\u001b[0m \u001b[97m\u001b[0m\n",
      "\u001b[32m2024-09-07 00:35:16,030 smart.model_assembly - INFO - Parameter NPC_A linked to xdmf file. (model_assembly.py:700)\u001b[0m \u001b[97m\u001b[0m\n",
      "\u001b[32m2024-09-07 00:35:16,039 smart.model_assembly - DEBUG - Time-dependent parameter pore evaluated from expression. (model_assembly.py:786)\u001b[0m \u001b[97m\u001b[0m\n"
     ]
    }
   ],
   "source": [
    "# Module C: nucleo-cytoplasmic transport\n",
    "# c1: YAP/TAZ dephos. and phos. in the cytosol\n",
    "k_CN = Parameter(\"k_CN\", 0.56, 1 / sec)\n",
    "k_CY = Parameter(\"k_CY\", 0.00076, 1 / (sec * uM**2))\n",
    "k_NC = Parameter(\"k_NC\", 0.14, 1 / sec)\n",
    "FActin = Parameter.from_xdmf(\"FActin\", full_sim_folder_cur / \"FActin.xdmf\", uM, \"Cyto\")\n",
    "Myo_A = Parameter.from_xdmf(\"Myo_A\", full_sim_folder_cur / \"Myo_A.xdmf\", uM, \"Cyto\")\n",
    "if args[\"u0_npc\"] > 0:\n",
    "    # uNPC = Species(\"uNPC\", 0.0, dimensionless, 0.0, D_unit, \"NM\")\n",
    "    uNPC = Parameter.from_xdmf(\"uNPC\", full_sim_folder_cur / \"uNPC.xdmf\", dimensionless, \"NM\")\n",
    "c1 = Reaction(\n",
    "    \"c1\",\n",
    "    [\"YAPTAZ_phos\"],\n",
    "    [\"YAPTAZ\"],\n",
    "    param_map={\"k_CN\": \"k_CN\", \"k_CY\": \"k_CY\", \"k_NC\": \"k_NC\", \n",
    "               \"FActin\": \"FActin\", \"Myo_A\": \"Myo_A\",},\n",
    "    species_map={\n",
    "        \"YAPTAZ\": \"YAPTAZ\",\n",
    "        \"YAPTAZ_phos\": \"YAPTAZ_phos\",\n",
    "    },\n",
    "    eqn_f_str=\"YAPTAZ_phos*(k_CN + k_CY*FActin*Myo_A) - k_NC*YAPTAZ\",\n",
    ")\n",
    "\n",
    "NPC_A = Parameter.from_xdmf(\"NPC_A\", full_sim_folder_cur / \"NPC_A.xdmf\", surf_unit, \"NM\")\n",
    "\n",
    "# c5: nuclear translocation of YAP/TAZ\n",
    "k_insolo = Parameter(\"k_insolo\", 1.0, surf_unit / (sec * uM))\n",
    "k_in2 = Parameter(\"k_in2\", 10.0, 1 / (sec * uM))\n",
    "k_out = Parameter(\"k_out\", 1.0, surf_unit / (sec * uM))\n",
    "if args[\"u0_npc\"] > 0:\n",
    "    u0_NPC = Parameter(\"u0_NPC\", args[\"u0_npc\"], dimensionless)\n",
    "    c5 = Reaction(\n",
    "        \"c5\",\n",
    "        [\"YAPTAZ\"],\n",
    "        [\"YAPTAZ_nuc\"],\n",
    "        param_map={\"k_insolo\": \"k_insolo\", \"k_in2\": \"k_in2\", \"k_out\": \"k_out\", \n",
    "                   \"u0_NPC\": \"u0_NPC\", \"NPC_A\": \"NPC_A\", \"uNPC\": \"uNPC\"},\n",
    "        species_map={\"YAPTAZ\": \"YAPTAZ\", \"YAPTAZ_nuc\": \"YAPTAZ_nuc\"},\n",
    "        explicit_restriction_to_domain=\"NM\",\n",
    "        eqn_f_str=\"YAPTAZ*exp((uNPC-1)/u0_NPC)*(k_insolo + k_in2*NPC_A) - k_out*YAPTAZ_nuc\",\n",
    "    )\n",
    "else:\n",
    "    c5 = Reaction(\n",
    "        \"c5\",\n",
    "        [\"YAPTAZ\"],\n",
    "        [\"YAPTAZ_nuc\"],\n",
    "        param_map={\"k_insolo\": \"k_insolo\", \"k_in2\": \"k_in2\", \"k_out\": \"k_out\", \"NPC_A\": \"NPC_A\"},\n",
    "        species_map={\"YAPTAZ\": \"YAPTAZ\", \"YAPTAZ_nuc\": \"YAPTAZ_nuc\"},\n",
    "        explicit_restriction_to_domain=\"NM\",\n",
    "        eqn_f_str=\"YAPTAZ*(k_insolo + k_in2*NPC_A) - k_out*YAPTAZ_nuc\",\n",
    "    )\n",
    "\n",
    "# c7: nuclear rupture events\n",
    "xPore = args[\"pore_loc\"]\n",
    "xMax = nanopillars[2]*np.round(100./nanopillars[2])\n",
    "np_loc = np.linspace(0.0, xMax, int(np.round(100./nanopillars[2]))+1)\n",
    "assert np.min(np.abs(xPore-np_loc)) < nanopillars[0], \"Pore location should be over nanopillar\"\n",
    "yPore = 0.0\n",
    "zPore = nanopillars[1] + 0.2\n",
    "pore = Parameter.from_expression(\"pore\", \n",
    "                                    f\"(1-exp(-t/{args['pore_rate']}))*\"\n",
    "                                    f\"exp(-(pow(x-{xPore},2)+pow(y-{yPore},2)+pow(z-{zPore},2))\"\n",
    "                                    f\"/(pow({args['pore_size']},2)))\", \n",
    "                                    dimensionless)\n",
    "\n",
    "# c7 and c8: YAP leak due to lysis\n",
    "k_inPore = Parameter(\"k_inPore\", args[\"transport_ratio\"]*args[\"transport_rate\"], surf_unit / (sec * uM))\n",
    "k_outPore = Parameter(\"k_outPore\", args[\"transport_rate\"], surf_unit / (sec * uM))\n",
    "c7 = Reaction(\n",
    "    \"c7\",\n",
    "    [\"YAPTAZ\"],\n",
    "    [\"YAPTAZ_nuc\"],\n",
    "    param_map={\"k_inPore\": \"k_inPore\", \"k_outPore\": \"k_outPore\", \"pore\": \"pore\"},\n",
    "    species_map={\"YAPTAZ\": \"YAPTAZ\", \"YAPTAZ_nuc\": \"YAPTAZ_nuc\"},\n",
    "    explicit_restriction_to_domain=\"NM\",\n",
    "    eqn_f_str=\"YAPTAZ*pore*k_inPore - k_outPore*pore*YAPTAZ_nuc\",\n",
    ")\n",
    "c8 = Reaction(\n",
    "    \"c8\",\n",
    "    [\"YAPTAZ_phos\"],\n",
    "    [\"YAPTAZ_nuc_phos\"],\n",
    "    param_map={\"k_inPore\": \"k_inPore\", \"k_outPore\": \"k_outPore\", \"pore\": \"pore\"},\n",
    "    species_map={\"YAPTAZ_phos\": \"YAPTAZ_phos\", \"YAPTAZ_nuc_phos\": \"YAPTAZ_nuc_phos\"},\n",
    "    explicit_restriction_to_domain=\"NM\",\n",
    "    eqn_f_str=\"YAPTAZ_phos*pore*k_inPore - k_outPore*pore*YAPTAZ_nuc_phos\",\n",
    ")"
   ]
  },
  {
   "cell_type": "code",
   "execution_count": 13,
   "id": "d5a0fcc5",
   "metadata": {
    "lines_to_next_cell": 2
   },
   "outputs": [],
   "source": [
    "pc, sc, cc, rc = sbmodel_from_locals(locals().values())"
   ]
  },
  {
   "cell_type": "code",
   "execution_count": 15,
   "id": "c7c2478f",
   "metadata": {},
   "outputs": [],
   "source": [
    "# set config for current run\n",
    "configCur = config.Config()\n",
    "configCur.flags.update(\n",
    "    {\n",
    "        \"allow_unused_components\": True,\n",
    "    }\n",
    ")\n",
    "configCur.solver.update(\n",
    "    {\n",
    "        \"final_t\": 10000.0,\n",
    "        \"initial_dt\": args[\"time_step\"],\n",
    "        \"time_precision\": 6,\n",
    "        \"use_snes\": True,\n",
    "        \"attempt_timestep_restart_on_divergence\": True,\n",
    "        \"reset_timestep_for_negative_solution\": True,\n",
    "    }\n",
    ")"
   ]
  },
  {
   "cell_type": "code",
   "execution_count": 16,
   "id": "67b9d8b4",
   "metadata": {},
   "outputs": [
    {
     "name": "stderr",
     "output_type": "stream",
     "text": [
      "\n",
      "\n",
      "\u001b[36m\u001b[0m\n",
      "\u001b[36m\u001b[0m \u001b[35m2024-09-07 00:35:27,348 smart.model - DEBUG - Checking validity of model (step 1 of ZZ) (model.py:256)\u001b[0m \u001b[36m\u001b[0m\n",
      "\u001b[36m\u001b[0m\n",
      "\n",
      "\u001b[32m2024-09-07 00:35:27,349 smart.model - DEBUG - Check that mesh/compartment dimensionalities match (model.py:347)\u001b[0m \u001b[97m\u001b[0m\n",
      "\u001b[32m2024-09-07 00:35:27,350 smart.model - DEBUG - Checking for namespace conflicts (model.py:383)\u001b[0m \u001b[97m\u001b[0m\n",
      "\u001b[36m\u001b[0m \u001b[97m2024-09-07 00:35:27,351 smart.model - DEBUG - Step 1 of initialization completed successfully! (model.py:260)\u001b[0m \u001b[36m\u001b[0m\n",
      "\n",
      "\n",
      "\u001b[36m\u001b[0m\n",
      "\u001b[36m\u001b[0m \u001b[35m2024-09-07 00:35:27,351 smart.model - DEBUG - Cross-Container Dependent Initializations (step 2 of ZZ) (model.py:270)\u001b[0m \u001b[36m\u001b[0m\n",
      "\u001b[36m\u001b[0m\n",
      "\n",
      "\u001b[32m2024-09-07 00:35:27,352 smart.model - DEBUG - Turning reactions into unsigned symbolic flux strings (model.py:436)\u001b[0m \u001b[97m\u001b[0m\n",
      "\u001b[32m2024-09-07 00:35:27,374 smart.model - DEBUG - Make sure all reactions have parameters/species defined (model.py:486)\u001b[0m \u001b[97m\u001b[0m\n",
      "\u001b[32m2024-09-07 00:35:27,380 smart.model - DEBUG - Linking parameters, species, and compartments to reactions (model.py:516)\u001b[0m \u001b[97m\u001b[0m\n",
      "\u001b[32m2024-09-07 00:35:27,381 smart.model - DEBUG - Checking for unused parameters, species, or compartments (model.py:580)\u001b[0m \u001b[97m\u001b[0m\n",
      "\u001b[32m2024-09-07 00:35:27,381 smart.model - DEBUG - Linking compartments and compartment dimensionality to species (model.py:637)\u001b[0m \u001b[97m\u001b[0m\n",
      "\u001b[32m2024-09-07 00:35:27,382 smart.model - DEBUG - Linking species to compartments (model.py:655)\u001b[0m \u001b[97m\u001b[0m\n",
      "\u001b[32m2024-09-07 00:35:27,383 smart.model - DEBUG - Getting indices for species for each compartment (model.py:665)\u001b[0m \u001b[97m\u001b[0m\n",
      "\u001b[36m\u001b[0m \u001b[97m2024-09-07 00:35:27,383 smart.model - DEBUG - Step 2 of initialization completed successfully! (model.py:283)\u001b[0m \u001b[36m\u001b[0m\n",
      "\n",
      "\n",
      "\u001b[36m\u001b[0m\n",
      "\u001b[36m\u001b[0m \u001b[35m2024-09-07 00:35:27,384 smart.model - DEBUG - Mesh-related Initializations (step 3 of ZZ) (model.py:291)\u001b[0m \u001b[36m\u001b[0m\n",
      "\u001b[36m\u001b[0m\n",
      "\n",
      "\u001b[32m2024-09-07 00:35:27,384 smart.model - DEBUG - Defining child meshes (model.py:678)\u001b[0m \u001b[97m\u001b[0m\n",
      "\u001b[32m2024-09-07 00:35:27,385 smart.model - DEBUG - Defining parent mesh functions (model.py:696)\u001b[0m \u001b[97m\u001b[0m\n",
      "\u001b[32m2024-09-07 00:35:28,397 smart.model - DEBUG - Extracting submeshes using MeshView (model.py:701)\u001b[0m \u001b[97m\u001b[0m\n",
      "\u001b[32m2024-09-07 00:35:29,331 smart.model - DEBUG - Building MeshView mappings between all child mesh pairs (model.py:708)\u001b[0m \u001b[97m\u001b[0m\n",
      "\n",
      "\n",
      "\u001b[35m\u001b[0m\n",
      "\u001b[35m\u001b[0m\n",
      "\u001b[35m\u001b[0m \u001b[31m2024-09-07 00:35:29,893 smart.model - DEBUG - DEBUGGING 3_5, 3_6 (mesh intersections) (model.py:299)\u001b[0m \u001b[35m\u001b[0m\n",
      "\u001b[35m\u001b[0m\n",
      "\u001b[35m\u001b[0m\n",
      "\n",
      "\n",
      "\u001b[32m2024-09-07 00:35:29,893 smart.model - DEBUG - Getting integration measures for parent mesh and child meshes (model.py:738)\u001b[0m \u001b[97m\u001b[0m\n",
      "\u001b[97m\u001b[0m \u001b[35m2024-09-07 00:35:29,894 smart.model - DEBUG - Step 3 of initialization completed successfully! (model.py:303)\u001b[0m \u001b[97m\u001b[0m\n",
      "\n",
      "\n",
      "\u001b[36m\u001b[0m\n",
      "\u001b[36m\u001b[0m \u001b[35m2024-09-07 00:35:29,895 smart.model - DEBUG - Dolfin Initializations (step 4 of ZZ) (model.py:312)\u001b[0m \u001b[36m\u001b[0m\n",
      "\u001b[36m\u001b[0m\n",
      "\n",
      "\u001b[32m2024-09-07 00:35:31,145 smart.model - DEBUG - Defining dolfin function spaces for compartments (model.py:802)\u001b[0m \u001b[97m\u001b[0m\n",
      "\u001b[32m2024-09-07 00:35:31,145 smart.model - DEBUG - Defining function space for Cyto (dim: 3, species: 2, dofs: 0) (model.py:812)\u001b[0m \u001b[97m\u001b[0m\n",
      "\u001b[32m2024-09-07 00:38:13,492 smart.model - DEBUG - Defining function space for Nuc  (dim: 3, species: 2, dofs: 0) (model.py:812)\u001b[0m \u001b[97m\u001b[0m\n",
      "\u001b[32m2024-09-07 00:38:13,843 smart.model - DEBUG - Defining dolfin functions (model.py:875)\u001b[0m \u001b[97m\u001b[0m\n",
      "\u001b[32m2024-09-07 00:38:13,850 smart.model - DEBUG - Extracting subfunctions/function spaces/dofmap for each species (model.py:914)\u001b[0m \u001b[97m\u001b[0m\n",
      "\u001b[32m2024-09-07 00:38:14,517 smart.model - DEBUG - Naming functions and subfunctions (model.py:934)\u001b[0m \u001b[97m\u001b[0m\n",
      "\u001b[32m2024-09-07 00:38:14,518 smart.model - DEBUG - Checking that dolfin functions were created correctly (model.py:953)\u001b[0m \u001b[97m\u001b[0m\n",
      "\u001b[32m2024-09-07 00:38:14,520 smart.model - DEBUG - Set function values to initial conditions (model.py:987)\u001b[0m \u001b[97m\u001b[0m\n"
     ]
    },
    {
     "name": "stdout",
     "output_type": "stream",
     "text": [
      "*** Warning: Reading non-scalar data in HDF5 Vector\n"
     ]
    },
    {
     "name": "stderr",
     "output_type": "stream",
     "text": [
      "\n",
      "\n",
      "\u001b[36m\u001b[0m\n",
      "\u001b[36m\u001b[0m \u001b[35m2024-09-07 00:38:16,129 smart.model - DEBUG - Dolfin fluxes, forms, and problems+solvers (step 5 of ZZ) (model.py:327)\u001b[0m \u001b[36m\u001b[0m\n",
      "\u001b[36m\u001b[0m\n",
      "\n",
      "\u001b[32m2024-09-07 00:38:16,130 smart.model - DEBUG - Convert reactions to flux objects (model.py:1066)\u001b[0m \u001b[97m\u001b[0m\n",
      "\u001b[32m2024-09-07 00:38:16,130 smart.model_assembly - DEBUG - Getting fluxes for reaction c1 (model_assembly.py:1412)\u001b[0m \u001b[97m\u001b[0m\n",
      "\u001b[32m2024-09-07 00:38:16,155 smart.model_assembly - DEBUG - Getting fluxes for reaction c5 (model_assembly.py:1412)\u001b[0m \u001b[97m\u001b[0m\n",
      "\u001b[32m2024-09-07 00:38:16,163 smart.model_assembly - DEBUG - Flux c5 [YAPTAZ_nuc (f)] scaled by 0.0016605390404271648 micrometer ** 3 * micromolar / molecule (model_assembly.py:1674)\u001b[0m \u001b[97m\u001b[0m\n",
      "\u001b[32m2024-09-07 00:38:16,163 smart.model_assembly - DEBUG - Old flux units: 1 micrometer * micromolar / second (model_assembly.py:1678)\u001b[0m \u001b[97m\u001b[0m\n"
     ]
    },
    {
     "name": "stdout",
     "output_type": "stream",
     "text": [
      "*** Warning: Reading non-scalar data in HDF5 Vector\n",
      "*** Warning: Reading non-scalar data in HDF5 Vector\n",
      "*** Warning: Reading non-scalar data in HDF5 Vector\n"
     ]
    },
    {
     "name": "stderr",
     "output_type": "stream",
     "text": [
      "\u001b[32m2024-09-07 00:38:16,164 smart.model_assembly - DEBUG - New flux units: 1.0 micrometer * micromolar / second (model_assembly.py:1679)\u001b[0m \u001b[97m\u001b[0m\n",
      "\u001b[36m\u001b[0m \u001b[97m2024-09-07 00:38:16,165 smart.model_assembly - DEBUG - DEBUGGING INTEGRATION MEASURE (only fully defined domains are enabled for now) (model_assembly.py:1711)\u001b[0m \u001b[36m\u001b[0m\n",
      "\u001b[32m2024-09-07 00:38:16,180 smart.model_assembly - DEBUG - Flux c5 [YAPTAZ (f)] scaled by 0.0016605390404271648 micrometer ** 3 * micromolar / molecule (model_assembly.py:1674)\u001b[0m \u001b[97m\u001b[0m\n",
      "\u001b[32m2024-09-07 00:38:16,181 smart.model_assembly - DEBUG - Old flux units: 1 micrometer * micromolar / second (model_assembly.py:1678)\u001b[0m \u001b[97m\u001b[0m\n",
      "\u001b[32m2024-09-07 00:38:16,182 smart.model_assembly - DEBUG - New flux units: 1.0 micrometer * micromolar / second (model_assembly.py:1679)\u001b[0m \u001b[97m\u001b[0m\n",
      "\u001b[36m\u001b[0m \u001b[97m2024-09-07 00:38:16,183 smart.model_assembly - DEBUG - DEBUGGING INTEGRATION MEASURE (only fully defined domains are enabled for now) (model_assembly.py:1711)\u001b[0m \u001b[36m\u001b[0m\n",
      "\u001b[32m2024-09-07 00:38:16,191 smart.model_assembly - DEBUG - Getting fluxes for reaction c7 (model_assembly.py:1412)\u001b[0m \u001b[97m\u001b[0m\n",
      "\u001b[32m2024-09-07 00:38:16,196 smart.model_assembly - DEBUG - Flux c7 [YAPTAZ_nuc (f)] scaled by 0.0016605390404271648 micrometer ** 3 * micromolar / molecule (model_assembly.py:1674)\u001b[0m \u001b[97m\u001b[0m\n",
      "\u001b[32m2024-09-07 00:38:16,197 smart.model_assembly - DEBUG - Old flux units: 1 micrometer * micromolar / second (model_assembly.py:1678)\u001b[0m \u001b[97m\u001b[0m\n",
      "\u001b[32m2024-09-07 00:38:16,197 smart.model_assembly - DEBUG - New flux units: 1.0 micrometer * micromolar / second (model_assembly.py:1679)\u001b[0m \u001b[97m\u001b[0m\n",
      "\u001b[36m\u001b[0m \u001b[97m2024-09-07 00:38:16,198 smart.model_assembly - DEBUG - DEBUGGING INTEGRATION MEASURE (only fully defined domains are enabled for now) (model_assembly.py:1711)\u001b[0m \u001b[36m\u001b[0m\n",
      "\u001b[32m2024-09-07 00:38:16,209 smart.model_assembly - DEBUG - Flux c7 [YAPTAZ (f)] scaled by 0.0016605390404271648 micrometer ** 3 * micromolar / molecule (model_assembly.py:1674)\u001b[0m \u001b[97m\u001b[0m\n",
      "\u001b[32m2024-09-07 00:38:16,210 smart.model_assembly - DEBUG - Old flux units: 1 micrometer * micromolar / second (model_assembly.py:1678)\u001b[0m \u001b[97m\u001b[0m\n",
      "\u001b[32m2024-09-07 00:38:16,211 smart.model_assembly - DEBUG - New flux units: 1.0 micrometer * micromolar / second (model_assembly.py:1679)\u001b[0m \u001b[97m\u001b[0m\n",
      "\u001b[36m\u001b[0m \u001b[97m2024-09-07 00:38:16,211 smart.model_assembly - DEBUG - DEBUGGING INTEGRATION MEASURE (only fully defined domains are enabled for now) (model_assembly.py:1711)\u001b[0m \u001b[36m\u001b[0m\n",
      "\u001b[32m2024-09-07 00:38:16,218 smart.model_assembly - DEBUG - Getting fluxes for reaction c8 (model_assembly.py:1412)\u001b[0m \u001b[97m\u001b[0m\n",
      "\u001b[32m2024-09-07 00:38:16,223 smart.model_assembly - DEBUG - Flux c8 [YAPTAZ_nuc_phos (f)] scaled by 0.0016605390404271648 micrometer ** 3 * micromolar / molecule (model_assembly.py:1674)\u001b[0m \u001b[97m\u001b[0m\n",
      "\u001b[32m2024-09-07 00:38:16,223 smart.model_assembly - DEBUG - Old flux units: 1 micrometer * micromolar / second (model_assembly.py:1678)\u001b[0m \u001b[97m\u001b[0m\n",
      "\u001b[32m2024-09-07 00:38:16,224 smart.model_assembly - DEBUG - New flux units: 1.0 micrometer * micromolar / second (model_assembly.py:1679)\u001b[0m \u001b[97m\u001b[0m\n",
      "\u001b[36m\u001b[0m \u001b[97m2024-09-07 00:38:16,224 smart.model_assembly - DEBUG - DEBUGGING INTEGRATION MEASURE (only fully defined domains are enabled for now) (model_assembly.py:1711)\u001b[0m \u001b[36m\u001b[0m\n",
      "\u001b[32m2024-09-07 00:38:16,231 smart.model_assembly - DEBUG - Flux c8 [YAPTAZ_phos (f)] scaled by 0.0016605390404271648 micrometer ** 3 * micromolar / molecule (model_assembly.py:1674)\u001b[0m \u001b[97m\u001b[0m\n",
      "\u001b[32m2024-09-07 00:38:16,232 smart.model_assembly - DEBUG - Old flux units: 1 micrometer * micromolar / second (model_assembly.py:1678)\u001b[0m \u001b[97m\u001b[0m\n",
      "\u001b[32m2024-09-07 00:38:16,233 smart.model_assembly - DEBUG - New flux units: 1.0 micrometer * micromolar / second (model_assembly.py:1679)\u001b[0m \u001b[97m\u001b[0m\n",
      "\u001b[36m\u001b[0m \u001b[97m2024-09-07 00:38:16,233 smart.model_assembly - DEBUG - DEBUGGING INTEGRATION MEASURE (only fully defined domains are enabled for now) (model_assembly.py:1711)\u001b[0m \u001b[36m\u001b[0m\n",
      "\u001b[32m2024-09-07 00:38:16,238 smart.model - DEBUG - Creating functional forms (model.py:1082)\u001b[0m \u001b[97m\u001b[0m\n",
      "\u001b[32m2024-09-07 00:38:16,247 smart.model - DEBUG - Compartment NM has no diffusive forms. (model.py:1196)\u001b[0m \u001b[97m\u001b[0m\n",
      "\u001b[32m2024-09-07 00:38:16,248 smart.model - DEBUG - Formulating problem as F(u;v) == 0 for newton iterations (model.py:1211)\u001b[0m \u001b[97m\u001b[0m\n"
     ]
    },
    {
     "name": "stdout",
     "output_type": "stream",
     "text": [
      "\n",
      "\n",
      "\n",
      "\n",
      "\n",
      "\n"
     ]
    },
    {
     "name": "stderr",
     "output_type": "stream",
     "text": [
      "\u001b[32m2024-09-07 00:38:19,590 smart.model - DEBUG - Initial L2-norm of compartment Cyto is 0.10812461254871852 (model.py:1242)\u001b[0m \u001b[97m\u001b[0m\n",
      "\u001b[32m2024-09-07 00:38:19,677 smart.model - DEBUG - Initial L2-norm of compartment Nuc is 0.00031781336332075804 (model.py:1242)\u001b[0m \u001b[97m\u001b[0m\n",
      "\u001b[32m2024-09-07 00:38:19,678 smart.model - DEBUG - Using SNES solver (model.py:1255)\u001b[0m \u001b[97m\u001b[0m\n",
      "\u001b[32m2024-09-07 00:38:19,681 smart.solvers - DEBUG - cpu 0: (ijk)=(0, 0, 0) (143096, 143096, 143096, 143096) (solvers.py:147)\u001b[0m \u001b[97m\u001b[0m\n",
      "\u001b[32m2024-09-07 00:38:19,717 smart.solvers - DEBUG - cpu 0: (ijk)=(0, 0, 1) (143096, 143096, 143096, 143096) (solvers.py:147)\u001b[0m \u001b[97m\u001b[0m\n",
      "\u001b[32m2024-09-07 00:38:21,880 smart.solvers - DEBUG - cpu 0: (ijk)=(0, 1, 0) (143096, 6618, 143096, 6618) (solvers.py:147)\u001b[0m \u001b[97m\u001b[0m\n",
      "\u001b[32m2024-09-07 00:38:21,909 smart.solvers - DEBUG - cpu 0: (ijk)=(1, 0, 0) (6618, 143096, 6618, 143096) (solvers.py:147)\u001b[0m \u001b[97m\u001b[0m\n",
      "\u001b[32m2024-09-07 00:38:21,942 smart.solvers - DEBUG - cpu 0: (ijk)=(1, 1, 0) (6618, 6618, 6618, 6618) (solvers.py:147)\u001b[0m \u001b[97m\u001b[0m\n",
      "\u001b[32m2024-09-07 00:38:21,967 smart.solvers - DEBUG - cpu 0: (ijk)=(1, 1, 1) (6618, 6618, 6618, 6618) (solvers.py:147)\u001b[0m \u001b[97m\u001b[0m\n",
      "\u001b[36m\u001b[0m \u001b[97m2024-09-07 00:38:22,047 smart.solvers - INFO - Jpetsc_nest assembled, size = (149714, 149714) (solvers.py:199)\u001b[0m \u001b[36m\u001b[0m\n",
      "\n",
      "\u001b[36m\u001b[0m \u001b[35m2024-09-07 00:38:22,048 smart.solvers - INFO - Initializing block residual vector (solvers.py:207)\u001b[0m \u001b[36m\u001b[0m\n",
      "\n",
      "\n",
      "\u001b[36m\u001b[0m\n",
      "\u001b[36m\u001b[0m \u001b[35m2024-09-07 00:38:23,800 smart.model - DEBUG - Model finished initialization! (model.py:244)\u001b[0m \u001b[36m\u001b[0m\n",
      "\u001b[36m\u001b[0m\n",
      "\n",
      "\u001b[36m\u001b[0m \u001b[97m2024-09-07 00:38:23,818 smart.model_assembly - INFO - \n",
      "╒═══════════╤════════════════════════════════════════════════════════════════════════════════════════╤═══════════════╕\n",
      "│           │ Value/Equation                                                                         │ Description   │\n",
      "╞═══════════╪════════════════════════════════════════════════════════════════════════════════════════╪═══════════════╡\n",
      "│ k_CN      │ 5.60×10⁻¹ 1/s                                                                          │               │\n",
      "├───────────┼────────────────────────────────────────────────────────────────────────────────────────┼───────────────┤\n",
      "│ k_CY      │ 7.60×10⁻⁴ 1/s/µM²                                                                      │               │\n",
      "├───────────┼────────────────────────────────────────────────────────────────────────────────────────┼───────────────┤\n",
      "│ k_NC      │ 1.40×10⁻¹ 1/s                                                                          │               │\n",
      "├───────────┼────────────────────────────────────────────────────────────────────────────────────────┼───────────────┤\n",
      "│ FActin    │ nan                                                                                    │               │\n",
      "├───────────┼────────────────────────────────────────────────────────────────────────────────────────┼───────────────┤\n",
      "│ Myo_A     │ nan                                                                                    │               │\n",
      "├───────────┼────────────────────────────────────────────────────────────────────────────────────────┼───────────────┤\n",
      "│ NPC_A     │ nan                                                                                    │               │\n",
      "├───────────┼────────────────────────────────────────────────────────────────────────────────────────┼───────────────┤\n",
      "│ k_insolo  │ 1.00×10⁰ molecule/s/µM/µm²                                                             │               │\n",
      "├───────────┼────────────────────────────────────────────────────────────────────────────────────────┼───────────────┤\n",
      "│ k_in2     │ 1.00×10¹ 1/s/µM                                                                        │               │\n",
      "├───────────┼────────────────────────────────────────────────────────────────────────────────────────┼───────────────┤\n",
      "│ k_out     │ 1.00×10⁰ molecule/s/µM/µm²                                                             │               │\n",
      "├───────────┼────────────────────────────────────────────────────────────────────────────────────────┼───────────────┤\n",
      "│ u0_NPC    │ 5.00×10⁰                                                                               │               │\n",
      "├───────────┼────────────────────────────────────────────────────────────────────────────────────────┼───────────────┤\n",
      "│ pore      │ (1 - exp(-0.1*t))*exp((-pow(x[0], 2) - pow(x[1], 2) - pow(x[2] - 3.2, 2))/pow(0.1, 2)) │               │\n",
      "├───────────┼────────────────────────────────────────────────────────────────────────────────────────┼───────────────┤\n",
      "│ k_inPore  │ 1.00×10⁵ molecule/s/µM/µm²                                                             │               │\n",
      "├───────────┼────────────────────────────────────────────────────────────────────────────────────────┼───────────────┤\n",
      "│ k_outPore │ 1.00×10⁴ molecule/s/µM/µm²                                                             │               │\n",
      "├───────────┼────────────────────────────────────────────────────────────────────────────────────────┼───────────────┤\n",
      "│ uNPC      │ nan                                                                                    │               │\n",
      "╘═══════════╧════════════════════════════════════════════════════════════════════════════════════════╧═══════════════╛\n",
      " (model_assembly.py:371)\u001b[0m \u001b[36m\u001b[0m\n",
      "\u001b[36m\u001b[0m \u001b[97m2024-09-07 00:38:23,824 smart.model_assembly - INFO - \n",
      "╒═════════════════╤═══════════════╤════════════════╤═════════════════════╕\n",
      "│                 │ Compartment   │ D              │ Initial condition   │\n",
      "╞═════════════════╪═══════════════╪════════════════╪═════════════════════╡\n",
      "│ YAPTAZ          │ Cyto          │ 1.90×10¹ µm²/s │ 7.00×10⁻¹ µM        │\n",
      "├─────────────────┼───────────────┼────────────────┼─────────────────────┤\n",
      "│ YAPTAZ_phos     │ Cyto          │ 1.90×10¹ µm²/s │ 2.00×10⁻¹ µM        │\n",
      "├─────────────────┼───────────────┼────────────────┼─────────────────────┤\n",
      "│ YAPTAZ_nuc      │ Nuc           │ 1.90×10¹ µm²/s │ 7.00×10⁻¹ µM        │\n",
      "├─────────────────┼───────────────┼────────────────┼─────────────────────┤\n",
      "│ YAPTAZ_nuc_phos │ Nuc           │ 1.90×10¹ µm²/s │ 0.00×10⁰ µM         │\n",
      "╘═════════════════╧═══════════════╧════════════════╧═════════════════════╛\n",
      " (model_assembly.py:371)\u001b[0m \u001b[36m\u001b[0m\n",
      "\u001b[36m\u001b[0m \u001b[97m2024-09-07 00:38:23,842 smart.model_assembly - INFO - \n",
      "╒══════╤════╤══════════════════╤═══════════╤════════════╤═════════╤════════════════╤══════════════╕\n",
      "│      │    │   Dimensionality │   Species │   Vertices │   Cells │   Marker value │ Size         │\n",
      "╞══════╪════╪══════════════════╪═══════════╪════════════╪═════════╪════════════════╪══════════════╡\n",
      "│ Cyto │    │                3 │         2 │      71548 │  325665 │              1 │ 4.40×10² µm³ │\n",
      "├──────┼────┼──────────────────┼───────────┼────────────┼─────────┼────────────────┼──────────────┤\n",
      "│ Nuc  │    │                3 │         2 │       3309 │   12306 │              2 │ 6.85×10¹ µm³ │\n",
      "├──────┼────┼──────────────────┼───────────┼────────────┼─────────┼────────────────┼──────────────┤\n",
      "│ NM   │    │                2 │         0 │       1984 │    3810 │             12 │ 5.11×10¹ µm² │\n",
      "╘══════╧════╧══════════════════╧═══════════╧════════════╧═════════╧════════════════╧══════════════╛\n",
      " (model_assembly.py:371)\u001b[0m \u001b[36m\u001b[0m\n",
      "\u001b[36m\u001b[0m \u001b[97m2024-09-07 00:38:23,849 smart.model_assembly - INFO - \n",
      "╒════╤═════════════════╤═════════════════════╤══════════════════════════════════════════════════╤═══════════════════════╕\n",
      "│    │ Reactants       │ Products            │ Equation                                         │ Type                  │\n",
      "╞════╪═════════════════╪═════════════════════╪══════════════════════════════════════════════════╪═══════════════════════╡\n",
      "│ c1 │ ['YAPTAZ_phos'] │ ['YAPTAZ']          │ -YAPTAZ*k_NC + YAPTAZ_phos*(FActin*Myo_A*k_CY +  │ volume                │\n",
      "│    │                 │                     │ k_CN)                                            │                       │\n",
      "├────┼─────────────────┼─────────────────────┼──────────────────────────────────────────────────┼───────────────────────┤\n",
      "│ c5 │ ['YAPTAZ']      │ ['YAPTAZ_nuc']      │ YAPTAZ*(NPC_A*k_in2 + k_insolo)*exp((uNPC -      │ volume_surface_volume │\n",
      "│    │                 │                     │ 1)/u0_NPC) - YAPTAZ_nuc*k_out                    │                       │\n",
      "├────┼─────────────────┼─────────────────────┼──────────────────────────────────────────────────┼───────────────────────┤\n",
      "│ c7 │ ['YAPTAZ']      │ ['YAPTAZ_nuc']      │ YAPTAZ*k_inPore*pore - YAPTAZ_nuc*k_outPore*pore │ volume_surface_volume │\n",
      "├────┼─────────────────┼─────────────────────┼──────────────────────────────────────────────────┼───────────────────────┤\n",
      "│ c8 │ ['YAPTAZ_phos'] │ ['YAPTAZ_nuc_phos'] │ -YAPTAZ_nuc_phos*k_outPore*pore +                │ volume_surface_volume │\n",
      "│    │                 │                     │ YAPTAZ_phos*k_inPore*pore                        │                       │\n",
      "╘════╧═════════════════╧═════════════════════╧══════════════════════════════════════════════════╧═══════════════════════╛\n",
      " (model_assembly.py:371)\u001b[0m \u001b[36m\u001b[0m\n"
     ]
    },
    {
     "name": "stdout",
     "output_type": "stream",
     "text": [
      "╒════╤═════════════╤══════╤══════════════════╤═════════════╤══════════════╤════════════════╕\n",
      "│    │ name        │   id │   dimensionality │   num_cells │   num_facets │   num_vertices │\n",
      "╞════╪═════════════╪══════╪══════════════════╪═════════════╪══════════════╪════════════════╡\n",
      "│  0 │ parent_mesh │  104 │                3 │      337971 │       711749 │          72874 │\n",
      "├────┼─────────────┼──────┼──────────────────┼─────────────┼──────────────┼────────────────┤\n",
      "│  1 │ Cyto        │  129 │                3 │      325665 │       688491 │          71548 │\n",
      "├────┼─────────────┼──────┼──────────────────┼─────────────┼──────────────┼────────────────┤\n",
      "│  2 │ Nuc         │  135 │                3 │       12306 │        27068 │           3309 │\n",
      "├────┼─────────────┼──────┼──────────────────┼─────────────┼──────────────┼────────────────┤\n",
      "│  3 │ NM          │  142 │                2 │        3810 │         5793 │           1984 │\n",
      "╘════╧═════════════╧══════╧══════════════════╧═════════════╧══════════════╧════════════════╛\n"
     ]
    }
   ],
   "source": [
    "model_cur = model.Model(pc, sc, cc, rc, configCur, parent_mesh)\n",
    "model_cur.initialize(initialize_solver=True)\n",
    "# Write initial condition(s) to file\n",
    "results = dict()\n",
    "result_folder = args[\"outdir\"]\n",
    "result_folder.mkdir(exist_ok=True, parents=True)"
   ]
  },
  {
   "cell_type": "markdown",
   "id": "a124839a",
   "metadata": {},
   "source": [
    "Initialize values of nuclear deformation"
   ]
  },
  {
   "cell_type": "code",
   "execution_count": 22,
   "id": "39134657",
   "metadata": {},
   "outputs": [],
   "source": [
    "if args[\"u0_npc\"] > 0:\n",
    "    # Vcur = d.FunctionSpace(parent_mesh.dolfin_mesh, \n",
    "    #                        d.VectorElement(\"P\", parent_mesh.dolfin_mesh.ufl_cell(), \n",
    "    #                                        degree = 1, dim = 3))\n",
    "    # u_nuc_load = d.Function(Vcur)\n",
    "    # u_nuc_file = d.XDMFFile(str(mesh_folder / \"u_nuc.xdmf\"))\n",
    "    # u_nuc_file.read_checkpoint(u_nuc_load, \"u_nuc\", 0)\n",
    "    \n",
    "    uvec = uNPC.dolfin_function.vector()[:]\n",
    "    NMCoords = uNPC.dolfin_function.function_space().tabulate_dof_coordinates()[:]\n",
    "    rVals = np.sqrt(np.power(NMCoords[:,0],2) + np.power(NMCoords[:,1],2))\n",
    "    aRad = np.max(rVals)\n",
    "    aRadIdx = np.argmax(rVals)\n",
    "    u_nuc_coords = u_nuc.function_space().tabulate_dof_coordinates()[0:-1:3,:]\n",
    "    z0 = max(NMCoords[:,2]) - max(u_nuc_coords[:,2])\n",
    "    for i in range(len(NMCoords)):\n",
    "        dist_sq = (np.power(NMCoords[i][0]-u_nuc_coords[:,0],2) + \n",
    "                   np.power(NMCoords[i][1]-u_nuc_coords[:,1],2) + \n",
    "                   np.power(NMCoords[i][2]-z0-u_nuc_coords[:,2],2))\n",
    "        # uvec[uNPC.dof_map[i]] = a_nuc.vector()[np.argmin(dist_sq)]\n",
    "        uvec[i] = a_nuc.vector()[np.argmin(dist_sq)]\n",
    "        # cur_coords = NMCoords[i]\n",
    "        # cur_coords[2] -= z0\n",
    "        # try:\n",
    "        #     uvec[uNPC.dof_map[i]] = a_nuc(cur_coords) #u_nuc(cur_coords)[2]\n",
    "        # except:\n",
    "        #     uvec[uNPC.dof_map[i]] = 0.0\n",
    "    # bRad = np.max(NMCoords[:,2]) - z0\n",
    "    # substrate_mesh = d.create_meshview(substrate_markers, 10)\n",
    "    # substrateCoords = substrate_mesh.coordinates()[:]\n",
    "    # rPM = np.sqrt(np.power(substrateCoords[:,0],2) + np.power(substrateCoords[:,1],2))\n",
    "    # for i in range(len(rVals)):\n",
    "    #     substrateDistVals = np.sqrt(np.power(rVals[i]-rPM,2) + np.power(NMCoords[i,2]-substrateCoords[:,2],2))\n",
    "    #     if np.min(substrateDistVals) < 2.0:\n",
    "    #         zEllipse =  z0 - bRad*np.sqrt(1 - rVals[i]**2/aRad**2)\n",
    "    #         uvec[uNPC.dof_map[i]] = NMCoords[i,2] - zEllipse\n",
    "    # for tag in [\"u\", \"n\"]:\n",
    "    #     uNPC.u[tag].vector().set_local(uvec)\n",
    "    #     uNPC.u[tag].vector().apply(\"insert\")\n",
    "    uNPC.dolfin_function.vector().set_local(uvec)\n",
    "    uNPC.dolfin_function.vector().apply(\"insert\")"
   ]
  },
  {
   "cell_type": "code",
   "execution_count": 23,
   "id": "4da2647a",
   "metadata": {},
   "outputs": [],
   "source": [
    "if model_cur.mpi_comm_world.rank == 0:\n",
    "    import json\n",
    "    # Dump config to results folder\n",
    "    (result_folder / \"config.json\").write_text(\n",
    "        json.dumps(\n",
    "            {\n",
    "                \"solver\": configCur.solver.__dict__,\n",
    "                \"flags\": configCur.flags.__dict__,\n",
    "                \"reaction_database\": configCur.reaction_database,\n",
    "                \"mesh_file\": str(args[\"mesh_folder\"]),\n",
    "                \"outdir\": str(args[\"outdir\"]),\n",
    "                \"time_step\": args[\"time_step\"],\n",
    "            }\n",
    "        )\n",
    "    )"
   ]
  },
  {
   "cell_type": "code",
   "execution_count": 24,
   "id": "12f75253",
   "metadata": {
    "lines_to_next_cell": 2
   },
   "outputs": [],
   "source": [
    "for species_name, species in model_cur.sc.items:\n",
    "    results[species_name] = d.XDMFFile(\n",
    "        model_cur.mpi_comm_world, str(result_folder / f\"{species_name}.xdmf\")\n",
    "    )\n",
    "    results[species_name].parameters[\"flush_output\"] = True\n",
    "    results[species_name].write(model_cur.sc[species_name].u[\"u\"], model_cur.t)\n",
    "# model_cur.to_pickle(result_folder / \"model_cur.pkl\")"
   ]
  },
  {
   "cell_type": "code",
   "execution_count": 25,
   "id": "26253370",
   "metadata": {},
   "outputs": [],
   "source": [
    "# Set loglevel to warning in order not to pollute notebook output\n",
    "smart_logger.setLevel(logging.WARNING)\n",
    "YAPTAZ_nuc_vec = np.array([model_cur.sc[\"YAPTAZ_nuc\"].initial_condition])"
   ]
  },
  {
   "cell_type": "code",
   "execution_count": 26,
   "id": "3332da7c",
   "metadata": {},
   "outputs": [
    {
     "name": "stderr",
     "output_type": "stream",
     "text": [
      "ROOT -2024-09-07 02:15:07,145 mechanotransduction - INFO - Solve for time step 0.000000 (2087672043.py:4)\n"
     ]
    },
    {
     "name": "stdout",
     "output_type": "stream",
     "text": [
      "*** Warning: Reading non-scalar data in HDF5 Vector\n",
      "*** Warning: Reading non-scalar data in HDF5 Vector\n",
      "*** Warning: Reading non-scalar data in HDF5 Vector\n",
      "*** Warning: Reading non-scalar data in HDF5 Vector\n"
     ]
    },
    {
     "name": "stderr",
     "output_type": "stream",
     "text": [
      "ROOT -2024-09-07 02:15:30,492 mechanotransduction - INFO - Solve for time step 0.010000 (2087672043.py:4)\n"
     ]
    },
    {
     "name": "stdout",
     "output_type": "stream",
     "text": [
      "*** Warning: Reading non-scalar data in HDF5 Vector\n",
      "*** Warning: Reading non-scalar data in HDF5 Vector\n",
      "*** Warning: Reading non-scalar data in HDF5 Vector\n",
      "*** Warning: Reading non-scalar data in HDF5 Vector\n"
     ]
    },
    {
     "name": "stderr",
     "output_type": "stream",
     "text": [
      "ROOT -2024-09-07 02:15:53,362 mechanotransduction - INFO - Solve for time step 0.020500 (2087672043.py:4)\n"
     ]
    },
    {
     "name": "stdout",
     "output_type": "stream",
     "text": [
      "*** Warning: Reading non-scalar data in HDF5 Vector\n",
      "*** Warning: Reading non-scalar data in HDF5 Vector\n",
      "*** Warning: Reading non-scalar data in HDF5 Vector\n",
      "*** Warning: Reading non-scalar data in HDF5 Vector\n"
     ]
    },
    {
     "name": "stderr",
     "output_type": "stream",
     "text": [
      "ROOT -2024-09-07 02:16:16,626 mechanotransduction - INFO - Solve for time step 0.031525 (2087672043.py:4)\n"
     ]
    },
    {
     "name": "stdout",
     "output_type": "stream",
     "text": [
      "*** Warning: Reading non-scalar data in HDF5 Vector\n",
      "*** Warning: Reading non-scalar data in HDF5 Vector\n",
      "*** Warning: Reading non-scalar data in HDF5 Vector\n",
      "*** Warning: Reading non-scalar data in HDF5 Vector\n"
     ]
    },
    {
     "name": "stderr",
     "output_type": "stream",
     "text": [
      "ROOT -2024-09-07 02:16:39,834 mechanotransduction - INFO - Solve for time step 0.043101 (2087672043.py:4)\n"
     ]
    },
    {
     "name": "stdout",
     "output_type": "stream",
     "text": [
      "*** Warning: Reading non-scalar data in HDF5 Vector\n",
      "*** Warning: Reading non-scalar data in HDF5 Vector\n",
      "*** Warning: Reading non-scalar data in HDF5 Vector\n",
      "*** Warning: Reading non-scalar data in HDF5 Vector\n"
     ]
    },
    {
     "name": "stderr",
     "output_type": "stream",
     "text": [
      "ROOT -2024-09-07 02:17:03,196 mechanotransduction - INFO - Solve for time step 0.055256 (2087672043.py:4)\n"
     ]
    },
    {
     "name": "stdout",
     "output_type": "stream",
     "text": [
      "*** Warning: Reading non-scalar data in HDF5 Vector\n",
      "*** Warning: Reading non-scalar data in HDF5 Vector\n",
      "*** Warning: Reading non-scalar data in HDF5 Vector\n",
      "*** Warning: Reading non-scalar data in HDF5 Vector\n"
     ]
    },
    {
     "name": "stderr",
     "output_type": "stream",
     "text": [
      "ROOT -2024-09-07 02:17:26,329 mechanotransduction - INFO - Solve for time step 0.068019 (2087672043.py:4)\n"
     ]
    },
    {
     "name": "stdout",
     "output_type": "stream",
     "text": [
      "*** Warning: Reading non-scalar data in HDF5 Vector\n",
      "*** Warning: Reading non-scalar data in HDF5 Vector\n",
      "*** Warning: Reading non-scalar data in HDF5 Vector\n",
      "*** Warning: Reading non-scalar data in HDF5 Vector\n"
     ]
    },
    {
     "name": "stderr",
     "output_type": "stream",
     "text": [
      "ROOT -2024-09-07 02:17:49,383 mechanotransduction - INFO - Solve for time step 0.081420 (2087672043.py:4)\n"
     ]
    },
    {
     "name": "stdout",
     "output_type": "stream",
     "text": [
      "*** Warning: Reading non-scalar data in HDF5 Vector\n",
      "*** Warning: Reading non-scalar data in HDF5 Vector\n",
      "*** Warning: Reading non-scalar data in HDF5 Vector\n",
      "*** Warning: Reading non-scalar data in HDF5 Vector\n"
     ]
    },
    {
     "name": "stderr",
     "output_type": "stream",
     "text": [
      "ROOT -2024-09-07 02:18:12,746 mechanotransduction - INFO - Solve for time step 0.095491 (2087672043.py:4)\n"
     ]
    },
    {
     "name": "stdout",
     "output_type": "stream",
     "text": [
      "*** Warning: Reading non-scalar data in HDF5 Vector\n",
      "*** Warning: Reading non-scalar data in HDF5 Vector\n",
      "*** Warning: Reading non-scalar data in HDF5 Vector\n",
      "*** Warning: Reading non-scalar data in HDF5 Vector\n"
     ]
    },
    {
     "name": "stderr",
     "output_type": "stream",
     "text": [
      "ROOT -2024-09-07 02:18:35,813 mechanotransduction - INFO - Solve for time step 0.110266 (2087672043.py:4)\n"
     ]
    },
    {
     "name": "stdout",
     "output_type": "stream",
     "text": [
      "*** Warning: Reading non-scalar data in HDF5 Vector\n",
      "*** Warning: Reading non-scalar data in HDF5 Vector\n",
      "*** Warning: Reading non-scalar data in HDF5 Vector\n",
      "*** Warning: Reading non-scalar data in HDF5 Vector\n"
     ]
    },
    {
     "name": "stderr",
     "output_type": "stream",
     "text": [
      "ROOT -2024-09-07 02:18:48,706 mechanotransduction - INFO - Solve for time step 0.125780 (2087672043.py:4)\n"
     ]
    },
    {
     "name": "stdout",
     "output_type": "stream",
     "text": [
      "*** Warning: Reading non-scalar data in HDF5 Vector\n",
      "*** Warning: Reading non-scalar data in HDF5 Vector\n",
      "*** Warning: Reading non-scalar data in HDF5 Vector\n",
      "*** Warning: Reading non-scalar data in HDF5 Vector\n",
      "*** Warning: Reading non-scalar data in HDF5 Vector\n",
      "*** Warning: Reading non-scalar data in HDF5 Vector\n",
      "*** Warning: Reading non-scalar data in HDF5 Vector\n",
      "*** Warning: Reading non-scalar data in HDF5 Vector\n"
     ]
    },
    {
     "name": "stderr",
     "output_type": "stream",
     "text": [
      "ROOT -2024-09-07 02:19:12,059 mechanotransduction - INFO - Solve for time step 0.142845 (2087672043.py:4)\n"
     ]
    },
    {
     "name": "stdout",
     "output_type": "stream",
     "text": [
      "*** Warning: Reading non-scalar data in HDF5 Vector\n",
      "*** Warning: Reading non-scalar data in HDF5 Vector\n",
      "*** Warning: Reading non-scalar data in HDF5 Vector\n",
      "*** Warning: Reading non-scalar data in HDF5 Vector\n",
      "*** Warning: Reading non-scalar data in HDF5 Vector\n",
      "*** Warning: Reading non-scalar data in HDF5 Vector\n",
      "*** Warning: Reading non-scalar data in HDF5 Vector\n",
      "*** Warning: Reading non-scalar data in HDF5 Vector\n"
     ]
    },
    {
     "name": "stderr",
     "output_type": "stream",
     "text": [
      "ROOT -2024-09-07 02:19:34,921 mechanotransduction - INFO - Solve for time step 0.160763 (2087672043.py:4)\n"
     ]
    },
    {
     "name": "stdout",
     "output_type": "stream",
     "text": [
      "*** Warning: Reading non-scalar data in HDF5 Vector\n",
      "*** Warning: Reading non-scalar data in HDF5 Vector\n",
      "*** Warning: Reading non-scalar data in HDF5 Vector\n",
      "*** Warning: Reading non-scalar data in HDF5 Vector\n",
      "*** Warning: Reading non-scalar data in HDF5 Vector\n",
      "*** Warning: Reading non-scalar data in HDF5 Vector\n",
      "*** Warning: Reading non-scalar data in HDF5 Vector\n",
      "*** Warning: Reading non-scalar data in HDF5 Vector\n"
     ]
    },
    {
     "name": "stderr",
     "output_type": "stream",
     "text": [
      "ROOT -2024-09-07 02:19:58,217 mechanotransduction - INFO - Solve for time step 0.179577 (2087672043.py:4)\n"
     ]
    },
    {
     "name": "stdout",
     "output_type": "stream",
     "text": [
      "*** Warning: Reading non-scalar data in HDF5 Vector\n",
      "*** Warning: Reading non-scalar data in HDF5 Vector\n",
      "*** Warning: Reading non-scalar data in HDF5 Vector\n",
      "*** Warning: Reading non-scalar data in HDF5 Vector\n",
      "*** Warning: Reading non-scalar data in HDF5 Vector\n",
      "*** Warning: Reading non-scalar data in HDF5 Vector\n",
      "*** Warning: Reading non-scalar data in HDF5 Vector\n",
      "*** Warning: Reading non-scalar data in HDF5 Vector\n"
     ]
    },
    {
     "name": "stderr",
     "output_type": "stream",
     "text": [
      "ROOT -2024-09-07 02:20:11,597 mechanotransduction - INFO - Solve for time step 0.199332 (2087672043.py:4)\n"
     ]
    },
    {
     "name": "stdout",
     "output_type": "stream",
     "text": [
      "*** Warning: Reading non-scalar data in HDF5 Vector\n",
      "*** Warning: Reading non-scalar data in HDF5 Vector\n",
      "*** Warning: Reading non-scalar data in HDF5 Vector\n",
      "*** Warning: Reading non-scalar data in HDF5 Vector\n",
      "*** Warning: Reading non-scalar data in HDF5 Vector\n",
      "*** Warning: Reading non-scalar data in HDF5 Vector\n",
      "*** Warning: Reading non-scalar data in HDF5 Vector\n",
      "*** Warning: Reading non-scalar data in HDF5 Vector\n"
     ]
    },
    {
     "name": "stderr",
     "output_type": "stream",
     "text": [
      "ROOT -2024-09-07 02:20:24,612 mechanotransduction - INFO - Solve for time step 0.221063 (2087672043.py:4)\n"
     ]
    },
    {
     "name": "stdout",
     "output_type": "stream",
     "text": [
      "*** Warning: Reading non-scalar data in HDF5 Vector\n",
      "*** Warning: Reading non-scalar data in HDF5 Vector\n",
      "*** Warning: Reading non-scalar data in HDF5 Vector\n",
      "*** Warning: Reading non-scalar data in HDF5 Vector\n",
      "*** Warning: Reading non-scalar data in HDF5 Vector\n",
      "*** Warning: Reading non-scalar data in HDF5 Vector\n",
      "*** Warning: Reading non-scalar data in HDF5 Vector\n",
      "*** Warning: Reading non-scalar data in HDF5 Vector\n"
     ]
    },
    {
     "name": "stderr",
     "output_type": "stream",
     "text": [
      "ROOT -2024-09-07 02:20:37,730 mechanotransduction - INFO - Solve for time step 0.244967 (2087672043.py:4)\n"
     ]
    },
    {
     "name": "stdout",
     "output_type": "stream",
     "text": [
      "*** Warning: Reading non-scalar data in HDF5 Vector\n",
      "*** Warning: Reading non-scalar data in HDF5 Vector\n",
      "*** Warning: Reading non-scalar data in HDF5 Vector\n",
      "*** Warning: Reading non-scalar data in HDF5 Vector\n",
      "*** Warning: Reading non-scalar data in HDF5 Vector\n",
      "*** Warning: Reading non-scalar data in HDF5 Vector\n",
      "*** Warning: Reading non-scalar data in HDF5 Vector\n",
      "*** Warning: Reading non-scalar data in HDF5 Vector\n"
     ]
    },
    {
     "name": "stderr",
     "output_type": "stream",
     "text": [
      "ROOT -2024-09-07 02:20:50,842 mechanotransduction - INFO - Solve for time step 0.271261 (2087672043.py:4)\n"
     ]
    },
    {
     "name": "stdout",
     "output_type": "stream",
     "text": [
      "*** Warning: Reading non-scalar data in HDF5 Vector\n",
      "*** Warning: Reading non-scalar data in HDF5 Vector\n",
      "*** Warning: Reading non-scalar data in HDF5 Vector\n",
      "*** Warning: Reading non-scalar data in HDF5 Vector\n",
      "*** Warning: Reading non-scalar data in HDF5 Vector\n",
      "*** Warning: Reading non-scalar data in HDF5 Vector\n",
      "*** Warning: Reading non-scalar data in HDF5 Vector\n",
      "*** Warning: Reading non-scalar data in HDF5 Vector\n"
     ]
    },
    {
     "name": "stderr",
     "output_type": "stream",
     "text": [
      "ROOT -2024-09-07 02:21:04,130 mechanotransduction - INFO - Solve for time step 0.300184 (2087672043.py:4)\n"
     ]
    },
    {
     "name": "stdout",
     "output_type": "stream",
     "text": [
      "*** Warning: Reading non-scalar data in HDF5 Vector\n",
      "*** Warning: Reading non-scalar data in HDF5 Vector\n",
      "*** Warning: Reading non-scalar data in HDF5 Vector\n",
      "*** Warning: Reading non-scalar data in HDF5 Vector\n",
      "*** Warning: Reading non-scalar data in HDF5 Vector\n",
      "*** Warning: Reading non-scalar data in HDF5 Vector\n",
      "*** Warning: Reading non-scalar data in HDF5 Vector\n",
      "*** Warning: Reading non-scalar data in HDF5 Vector\n"
     ]
    },
    {
     "name": "stderr",
     "output_type": "stream",
     "text": [
      "ROOT -2024-09-07 02:21:17,329 mechanotransduction - INFO - Solve for time step 0.331999 (2087672043.py:4)\n"
     ]
    },
    {
     "name": "stdout",
     "output_type": "stream",
     "text": [
      "*** Warning: Reading non-scalar data in HDF5 Vector\n",
      "*** Warning: Reading non-scalar data in HDF5 Vector\n",
      "*** Warning: Reading non-scalar data in HDF5 Vector\n",
      "*** Warning: Reading non-scalar data in HDF5 Vector\n",
      "*** Warning: Reading non-scalar data in HDF5 Vector\n",
      "*** Warning: Reading non-scalar data in HDF5 Vector\n",
      "*** Warning: Reading non-scalar data in HDF5 Vector\n",
      "*** Warning: Reading non-scalar data in HDF5 Vector\n"
     ]
    },
    {
     "name": "stderr",
     "output_type": "stream",
     "text": [
      "ROOT -2024-09-07 02:21:30,381 mechanotransduction - INFO - Solve for time step 0.366996 (2087672043.py:4)\n"
     ]
    },
    {
     "name": "stdout",
     "output_type": "stream",
     "text": [
      "*** Warning: Reading non-scalar data in HDF5 Vector\n",
      "*** Warning: Reading non-scalar data in HDF5 Vector\n",
      "*** Warning: Reading non-scalar data in HDF5 Vector\n",
      "*** Warning: Reading non-scalar data in HDF5 Vector\n",
      "*** Warning: Reading non-scalar data in HDF5 Vector\n",
      "*** Warning: Reading non-scalar data in HDF5 Vector\n",
      "*** Warning: Reading non-scalar data in HDF5 Vector\n",
      "*** Warning: Reading non-scalar data in HDF5 Vector\n"
     ]
    },
    {
     "name": "stderr",
     "output_type": "stream",
     "text": [
      "ROOT -2024-09-07 02:21:43,427 mechanotransduction - INFO - Solve for time step 0.405493 (2087672043.py:4)\n"
     ]
    },
    {
     "name": "stdout",
     "output_type": "stream",
     "text": [
      "*** Warning: Reading non-scalar data in HDF5 Vector\n",
      "*** Warning: Reading non-scalar data in HDF5 Vector\n",
      "*** Warning: Reading non-scalar data in HDF5 Vector\n",
      "*** Warning: Reading non-scalar data in HDF5 Vector\n",
      "*** Warning: Reading non-scalar data in HDF5 Vector\n",
      "*** Warning: Reading non-scalar data in HDF5 Vector\n",
      "*** Warning: Reading non-scalar data in HDF5 Vector\n",
      "*** Warning: Reading non-scalar data in HDF5 Vector\n"
     ]
    },
    {
     "name": "stderr",
     "output_type": "stream",
     "text": [
      "ROOT -2024-09-07 02:21:56,613 mechanotransduction - INFO - Solve for time step 0.447840 (2087672043.py:4)\n"
     ]
    },
    {
     "name": "stdout",
     "output_type": "stream",
     "text": [
      "*** Warning: Reading non-scalar data in HDF5 Vector\n",
      "*** Warning: Reading non-scalar data in HDF5 Vector\n",
      "*** Warning: Reading non-scalar data in HDF5 Vector\n",
      "*** Warning: Reading non-scalar data in HDF5 Vector\n",
      "*** Warning: Reading non-scalar data in HDF5 Vector\n",
      "*** Warning: Reading non-scalar data in HDF5 Vector\n",
      "*** Warning: Reading non-scalar data in HDF5 Vector\n",
      "*** Warning: Reading non-scalar data in HDF5 Vector\n"
     ]
    },
    {
     "name": "stderr",
     "output_type": "stream",
     "text": [
      "ROOT -2024-09-07 02:22:09,908 mechanotransduction - INFO - Solve for time step 0.494422 (2087672043.py:4)\n"
     ]
    },
    {
     "name": "stdout",
     "output_type": "stream",
     "text": [
      "*** Warning: Reading non-scalar data in HDF5 Vector\n",
      "*** Warning: Reading non-scalar data in HDF5 Vector\n",
      "*** Warning: Reading non-scalar data in HDF5 Vector\n",
      "*** Warning: Reading non-scalar data in HDF5 Vector\n",
      "*** Warning: Reading non-scalar data in HDF5 Vector\n",
      "*** Warning: Reading non-scalar data in HDF5 Vector\n",
      "*** Warning: Reading non-scalar data in HDF5 Vector\n",
      "*** Warning: Reading non-scalar data in HDF5 Vector\n"
     ]
    },
    {
     "name": "stderr",
     "output_type": "stream",
     "text": [
      "ROOT -2024-09-07 02:22:22,978 mechanotransduction - INFO - Solve for time step 0.545662 (2087672043.py:4)\n"
     ]
    },
    {
     "name": "stdout",
     "output_type": "stream",
     "text": [
      "*** Warning: Reading non-scalar data in HDF5 Vector\n",
      "*** Warning: Reading non-scalar data in HDF5 Vector\n",
      "*** Warning: Reading non-scalar data in HDF5 Vector\n",
      "*** Warning: Reading non-scalar data in HDF5 Vector\n",
      "*** Warning: Reading non-scalar data in HDF5 Vector\n",
      "*** Warning: Reading non-scalar data in HDF5 Vector\n",
      "*** Warning: Reading non-scalar data in HDF5 Vector\n",
      "*** Warning: Reading non-scalar data in HDF5 Vector\n"
     ]
    },
    {
     "name": "stderr",
     "output_type": "stream",
     "text": [
      "ROOT -2024-09-07 02:22:36,143 mechanotransduction - INFO - Solve for time step 0.602026 (2087672043.py:4)\n"
     ]
    },
    {
     "name": "stdout",
     "output_type": "stream",
     "text": [
      "*** Warning: Reading non-scalar data in HDF5 Vector\n",
      "*** Warning: Reading non-scalar data in HDF5 Vector\n",
      "*** Warning: Reading non-scalar data in HDF5 Vector\n",
      "*** Warning: Reading non-scalar data in HDF5 Vector\n",
      "*** Warning: Reading non-scalar data in HDF5 Vector\n",
      "*** Warning: Reading non-scalar data in HDF5 Vector\n",
      "*** Warning: Reading non-scalar data in HDF5 Vector\n",
      "*** Warning: Reading non-scalar data in HDF5 Vector\n"
     ]
    },
    {
     "name": "stderr",
     "output_type": "stream",
     "text": [
      "ROOT -2024-09-07 02:22:49,266 mechanotransduction - INFO - Solve for time step 0.664026 (2087672043.py:4)\n"
     ]
    },
    {
     "name": "stdout",
     "output_type": "stream",
     "text": [
      "*** Warning: Reading non-scalar data in HDF5 Vector\n",
      "*** Warning: Reading non-scalar data in HDF5 Vector\n",
      "*** Warning: Reading non-scalar data in HDF5 Vector\n",
      "*** Warning: Reading non-scalar data in HDF5 Vector\n",
      "*** Warning: Reading non-scalar data in HDF5 Vector\n",
      "*** Warning: Reading non-scalar data in HDF5 Vector\n",
      "*** Warning: Reading non-scalar data in HDF5 Vector\n",
      "*** Warning: Reading non-scalar data in HDF5 Vector\n"
     ]
    },
    {
     "name": "stderr",
     "output_type": "stream",
     "text": [
      "ROOT -2024-09-07 02:23:02,452 mechanotransduction - INFO - Solve for time step 0.732226 (2087672043.py:4)\n"
     ]
    },
    {
     "name": "stdout",
     "output_type": "stream",
     "text": [
      "*** Warning: Reading non-scalar data in HDF5 Vector\n",
      "*** Warning: Reading non-scalar data in HDF5 Vector\n",
      "*** Warning: Reading non-scalar data in HDF5 Vector\n",
      "*** Warning: Reading non-scalar data in HDF5 Vector\n",
      "*** Warning: Reading non-scalar data in HDF5 Vector\n",
      "*** Warning: Reading non-scalar data in HDF5 Vector\n",
      "*** Warning: Reading non-scalar data in HDF5 Vector\n",
      "*** Warning: Reading non-scalar data in HDF5 Vector\n"
     ]
    },
    {
     "name": "stderr",
     "output_type": "stream",
     "text": [
      "ROOT -2024-09-07 02:23:15,652 mechanotransduction - INFO - Solve for time step 0.807246 (2087672043.py:4)\n"
     ]
    },
    {
     "name": "stdout",
     "output_type": "stream",
     "text": [
      "*** Warning: Reading non-scalar data in HDF5 Vector\n",
      "*** Warning: Reading non-scalar data in HDF5 Vector\n",
      "*** Warning: Reading non-scalar data in HDF5 Vector\n",
      "*** Warning: Reading non-scalar data in HDF5 Vector\n",
      "*** Warning: Reading non-scalar data in HDF5 Vector\n",
      "*** Warning: Reading non-scalar data in HDF5 Vector\n",
      "*** Warning: Reading non-scalar data in HDF5 Vector\n",
      "*** Warning: Reading non-scalar data in HDF5 Vector\n"
     ]
    },
    {
     "name": "stderr",
     "output_type": "stream",
     "text": [
      "ROOT -2024-09-07 02:23:39,527 mechanotransduction - INFO - Solve for time step 0.889768 (2087672043.py:4)\n"
     ]
    },
    {
     "name": "stdout",
     "output_type": "stream",
     "text": [
      "*** Warning: Reading non-scalar data in HDF5 Vector\n",
      "*** Warning: Reading non-scalar data in HDF5 Vector\n",
      "*** Warning: Reading non-scalar data in HDF5 Vector\n",
      "*** Warning: Reading non-scalar data in HDF5 Vector\n",
      "*** Warning: Reading non-scalar data in HDF5 Vector\n",
      "*** Warning: Reading non-scalar data in HDF5 Vector\n",
      "*** Warning: Reading non-scalar data in HDF5 Vector\n",
      "*** Warning: Reading non-scalar data in HDF5 Vector\n"
     ]
    },
    {
     "name": "stderr",
     "output_type": "stream",
     "text": [
      "ROOT -2024-09-07 02:24:03,514 mechanotransduction - INFO - Solve for time step 0.976416 (2087672043.py:4)\n"
     ]
    },
    {
     "name": "stdout",
     "output_type": "stream",
     "text": [
      "*** Warning: Reading non-scalar data in HDF5 Vector\n",
      "*** Warning: Reading non-scalar data in HDF5 Vector\n",
      "*** Warning: Reading non-scalar data in HDF5 Vector\n",
      "*** Warning: Reading non-scalar data in HDF5 Vector\n",
      "*** Warning: Reading non-scalar data in HDF5 Vector\n",
      "*** Warning: Reading non-scalar data in HDF5 Vector\n",
      "*** Warning: Reading non-scalar data in HDF5 Vector\n",
      "*** Warning: Reading non-scalar data in HDF5 Vector\n"
     ]
    },
    {
     "name": "stderr",
     "output_type": "stream",
     "text": [
      "ROOT -2024-09-07 02:24:27,441 mechanotransduction - INFO - Solve for time step 1.067396 (2087672043.py:4)\n"
     ]
    },
    {
     "name": "stdout",
     "output_type": "stream",
     "text": [
      "*** Warning: Reading non-scalar data in HDF5 Vector\n",
      "*** Warning: Reading non-scalar data in HDF5 Vector\n",
      "*** Warning: Reading non-scalar data in HDF5 Vector\n",
      "*** Warning: Reading non-scalar data in HDF5 Vector\n",
      "*** Warning: Reading non-scalar data in HDF5 Vector\n",
      "*** Warning: Reading non-scalar data in HDF5 Vector\n",
      "*** Warning: Reading non-scalar data in HDF5 Vector\n",
      "*** Warning: Reading non-scalar data in HDF5 Vector\n"
     ]
    },
    {
     "name": "stderr",
     "output_type": "stream",
     "text": [
      "ROOT -2024-09-07 02:24:51,505 mechanotransduction - INFO - Solve for time step 1.162925 (2087672043.py:4)\n"
     ]
    },
    {
     "name": "stdout",
     "output_type": "stream",
     "text": [
      "*** Warning: Reading non-scalar data in HDF5 Vector\n",
      "*** Warning: Reading non-scalar data in HDF5 Vector\n",
      "*** Warning: Reading non-scalar data in HDF5 Vector\n",
      "*** Warning: Reading non-scalar data in HDF5 Vector\n",
      "*** Warning: Reading non-scalar data in HDF5 Vector\n",
      "*** Warning: Reading non-scalar data in HDF5 Vector\n",
      "*** Warning: Reading non-scalar data in HDF5 Vector\n",
      "*** Warning: Reading non-scalar data in HDF5 Vector\n"
     ]
    },
    {
     "name": "stderr",
     "output_type": "stream",
     "text": [
      "ROOT -2024-09-07 02:25:15,281 mechanotransduction - INFO - Solve for time step 1.263230 (2087672043.py:4)\n"
     ]
    },
    {
     "name": "stdout",
     "output_type": "stream",
     "text": [
      "*** Warning: Reading non-scalar data in HDF5 Vector\n",
      "*** Warning: Reading non-scalar data in HDF5 Vector\n",
      "*** Warning: Reading non-scalar data in HDF5 Vector\n",
      "*** Warning: Reading non-scalar data in HDF5 Vector\n",
      "*** Warning: Reading non-scalar data in HDF5 Vector\n",
      "*** Warning: Reading non-scalar data in HDF5 Vector\n",
      "*** Warning: Reading non-scalar data in HDF5 Vector\n",
      "*** Warning: Reading non-scalar data in HDF5 Vector\n"
     ]
    },
    {
     "name": "stderr",
     "output_type": "stream",
     "text": [
      "ROOT -2024-09-07 02:25:39,271 mechanotransduction - INFO - Solve for time step 1.368550 (2087672043.py:4)\n"
     ]
    },
    {
     "name": "stdout",
     "output_type": "stream",
     "text": [
      "*** Warning: Reading non-scalar data in HDF5 Vector\n",
      "*** Warning: Reading non-scalar data in HDF5 Vector\n",
      "*** Warning: Reading non-scalar data in HDF5 Vector\n",
      "*** Warning: Reading non-scalar data in HDF5 Vector\n",
      "*** Warning: Reading non-scalar data in HDF5 Vector\n",
      "*** Warning: Reading non-scalar data in HDF5 Vector\n",
      "*** Warning: Reading non-scalar data in HDF5 Vector\n",
      "*** Warning: Reading non-scalar data in HDF5 Vector\n"
     ]
    },
    {
     "name": "stderr",
     "output_type": "stream",
     "text": [
      "ROOT -2024-09-07 02:26:03,374 mechanotransduction - INFO - Solve for time step 1.479136 (2087672043.py:4)\n"
     ]
    },
    {
     "name": "stdout",
     "output_type": "stream",
     "text": [
      "*** Warning: Reading non-scalar data in HDF5 Vector\n",
      "*** Warning: Reading non-scalar data in HDF5 Vector\n",
      "*** Warning: Reading non-scalar data in HDF5 Vector\n",
      "*** Warning: Reading non-scalar data in HDF5 Vector\n",
      "*** Warning: Reading non-scalar data in HDF5 Vector\n",
      "*** Warning: Reading non-scalar data in HDF5 Vector\n",
      "*** Warning: Reading non-scalar data in HDF5 Vector\n",
      "*** Warning: Reading non-scalar data in HDF5 Vector\n"
     ]
    },
    {
     "name": "stderr",
     "output_type": "stream",
     "text": [
      "ROOT -2024-09-07 02:26:27,438 mechanotransduction - INFO - Solve for time step 1.595251 (2087672043.py:4)\n"
     ]
    },
    {
     "name": "stdout",
     "output_type": "stream",
     "text": [
      "*** Warning: Reading non-scalar data in HDF5 Vector\n",
      "*** Warning: Reading non-scalar data in HDF5 Vector\n",
      "*** Warning: Reading non-scalar data in HDF5 Vector\n",
      "*** Warning: Reading non-scalar data in HDF5 Vector\n",
      "*** Warning: Reading non-scalar data in HDF5 Vector\n",
      "*** Warning: Reading non-scalar data in HDF5 Vector\n",
      "*** Warning: Reading non-scalar data in HDF5 Vector\n",
      "*** Warning: Reading non-scalar data in HDF5 Vector\n"
     ]
    },
    {
     "name": "stderr",
     "output_type": "stream",
     "text": [
      "ROOT -2024-09-07 02:26:51,257 mechanotransduction - INFO - Solve for time step 1.717172 (2087672043.py:4)\n"
     ]
    },
    {
     "name": "stdout",
     "output_type": "stream",
     "text": [
      "*** Warning: Reading non-scalar data in HDF5 Vector\n",
      "*** Warning: Reading non-scalar data in HDF5 Vector\n",
      "*** Warning: Reading non-scalar data in HDF5 Vector\n",
      "*** Warning: Reading non-scalar data in HDF5 Vector\n",
      "*** Warning: Reading non-scalar data in HDF5 Vector\n",
      "*** Warning: Reading non-scalar data in HDF5 Vector\n",
      "*** Warning: Reading non-scalar data in HDF5 Vector\n",
      "*** Warning: Reading non-scalar data in HDF5 Vector\n"
     ]
    },
    {
     "name": "stderr",
     "output_type": "stream",
     "text": [
      "ROOT -2024-09-07 02:27:15,299 mechanotransduction - INFO - Solve for time step 1.845189 (2087672043.py:4)\n"
     ]
    },
    {
     "name": "stdout",
     "output_type": "stream",
     "text": [
      "*** Warning: Reading non-scalar data in HDF5 Vector\n",
      "*** Warning: Reading non-scalar data in HDF5 Vector\n",
      "*** Warning: Reading non-scalar data in HDF5 Vector\n",
      "*** Warning: Reading non-scalar data in HDF5 Vector\n",
      "*** Warning: Reading non-scalar data in HDF5 Vector\n",
      "*** Warning: Reading non-scalar data in HDF5 Vector\n",
      "*** Warning: Reading non-scalar data in HDF5 Vector\n",
      "*** Warning: Reading non-scalar data in HDF5 Vector\n"
     ]
    },
    {
     "name": "stderr",
     "output_type": "stream",
     "text": [
      "ROOT -2024-09-07 02:27:39,165 mechanotransduction - INFO - Solve for time step 1.979607 (2087672043.py:4)\n"
     ]
    },
    {
     "name": "stdout",
     "output_type": "stream",
     "text": [
      "*** Warning: Reading non-scalar data in HDF5 Vector\n",
      "*** Warning: Reading non-scalar data in HDF5 Vector\n",
      "*** Warning: Reading non-scalar data in HDF5 Vector\n",
      "*** Warning: Reading non-scalar data in HDF5 Vector\n",
      "*** Warning: Reading non-scalar data in HDF5 Vector\n",
      "*** Warning: Reading non-scalar data in HDF5 Vector\n",
      "*** Warning: Reading non-scalar data in HDF5 Vector\n",
      "*** Warning: Reading non-scalar data in HDF5 Vector\n"
     ]
    },
    {
     "name": "stderr",
     "output_type": "stream",
     "text": [
      "ROOT -2024-09-07 02:28:03,263 mechanotransduction - INFO - Solve for time step 2.120746 (2087672043.py:4)\n"
     ]
    },
    {
     "name": "stdout",
     "output_type": "stream",
     "text": [
      "*** Warning: Reading non-scalar data in HDF5 Vector\n",
      "*** Warning: Reading non-scalar data in HDF5 Vector\n",
      "*** Warning: Reading non-scalar data in HDF5 Vector\n",
      "*** Warning: Reading non-scalar data in HDF5 Vector\n",
      "*** Warning: Reading non-scalar data in HDF5 Vector\n",
      "*** Warning: Reading non-scalar data in HDF5 Vector\n",
      "*** Warning: Reading non-scalar data in HDF5 Vector\n",
      "*** Warning: Reading non-scalar data in HDF5 Vector\n"
     ]
    },
    {
     "name": "stderr",
     "output_type": "stream",
     "text": [
      "ROOT -2024-09-07 02:28:27,619 mechanotransduction - INFO - Solve for time step 2.268942 (2087672043.py:4)\n"
     ]
    },
    {
     "name": "stdout",
     "output_type": "stream",
     "text": [
      "*** Warning: Reading non-scalar data in HDF5 Vector\n",
      "*** Warning: Reading non-scalar data in HDF5 Vector\n",
      "*** Warning: Reading non-scalar data in HDF5 Vector\n",
      "*** Warning: Reading non-scalar data in HDF5 Vector\n",
      "*** Warning: Reading non-scalar data in HDF5 Vector\n",
      "*** Warning: Reading non-scalar data in HDF5 Vector\n",
      "*** Warning: Reading non-scalar data in HDF5 Vector\n",
      "*** Warning: Reading non-scalar data in HDF5 Vector\n"
     ]
    },
    {
     "name": "stderr",
     "output_type": "stream",
     "text": [
      "ROOT -2024-09-07 02:28:51,652 mechanotransduction - INFO - Solve for time step 2.424548 (2087672043.py:4)\n"
     ]
    },
    {
     "name": "stdout",
     "output_type": "stream",
     "text": [
      "*** Warning: Reading non-scalar data in HDF5 Vector\n",
      "*** Warning: Reading non-scalar data in HDF5 Vector\n",
      "*** Warning: Reading non-scalar data in HDF5 Vector\n",
      "*** Warning: Reading non-scalar data in HDF5 Vector\n"
     ]
    },
    {
     "name": "stderr",
     "output_type": "stream",
     "text": [
      "ROOT -2024-09-07 02:29:15,678 mechanotransduction - INFO - Solve for time step 2.587934 (2087672043.py:4)\n"
     ]
    },
    {
     "name": "stdout",
     "output_type": "stream",
     "text": [
      "*** Warning: Reading non-scalar data in HDF5 Vector\n",
      "*** Warning: Reading non-scalar data in HDF5 Vector\n",
      "*** Warning: Reading non-scalar data in HDF5 Vector\n",
      "*** Warning: Reading non-scalar data in HDF5 Vector\n",
      "*** Warning: Reading non-scalar data in HDF5 Vector\n",
      "*** Warning: Reading non-scalar data in HDF5 Vector\n",
      "*** Warning: Reading non-scalar data in HDF5 Vector\n",
      "*** Warning: Reading non-scalar data in HDF5 Vector\n"
     ]
    },
    {
     "name": "stderr",
     "output_type": "stream",
     "text": [
      "ROOT -2024-09-07 02:29:40,382 mechanotransduction - INFO - Solve for time step 2.759489 (2087672043.py:4)\n"
     ]
    },
    {
     "name": "stdout",
     "output_type": "stream",
     "text": [
      "*** Warning: Reading non-scalar data in HDF5 Vector\n",
      "*** Warning: Reading non-scalar data in HDF5 Vector\n",
      "*** Warning: Reading non-scalar data in HDF5 Vector\n",
      "*** Warning: Reading non-scalar data in HDF5 Vector\n",
      "*** Warning: Reading non-scalar data in HDF5 Vector\n",
      "*** Warning: Reading non-scalar data in HDF5 Vector\n",
      "*** Warning: Reading non-scalar data in HDF5 Vector\n",
      "*** Warning: Reading non-scalar data in HDF5 Vector\n"
     ]
    },
    {
     "name": "stderr",
     "output_type": "stream",
     "text": [
      "ROOT -2024-09-07 02:30:04,520 mechanotransduction - INFO - Solve for time step 2.939622 (2087672043.py:4)\n"
     ]
    },
    {
     "name": "stdout",
     "output_type": "stream",
     "text": [
      "*** Warning: Reading non-scalar data in HDF5 Vector\n",
      "*** Warning: Reading non-scalar data in HDF5 Vector\n",
      "*** Warning: Reading non-scalar data in HDF5 Vector\n",
      "*** Warning: Reading non-scalar data in HDF5 Vector\n",
      "*** Warning: Reading non-scalar data in HDF5 Vector\n",
      "*** Warning: Reading non-scalar data in HDF5 Vector\n",
      "*** Warning: Reading non-scalar data in HDF5 Vector\n",
      "*** Warning: Reading non-scalar data in HDF5 Vector\n"
     ]
    },
    {
     "name": "stderr",
     "output_type": "stream",
     "text": [
      "ROOT -2024-09-07 02:30:29,084 mechanotransduction - INFO - Solve for time step 3.128762 (2087672043.py:4)\n"
     ]
    },
    {
     "name": "stdout",
     "output_type": "stream",
     "text": [
      "*** Warning: Reading non-scalar data in HDF5 Vector\n",
      "*** Warning: Reading non-scalar data in HDF5 Vector\n",
      "*** Warning: Reading non-scalar data in HDF5 Vector\n",
      "*** Warning: Reading non-scalar data in HDF5 Vector\n",
      "*** Warning: Reading non-scalar data in HDF5 Vector\n",
      "*** Warning: Reading non-scalar data in HDF5 Vector\n",
      "*** Warning: Reading non-scalar data in HDF5 Vector\n",
      "*** Warning: Reading non-scalar data in HDF5 Vector\n"
     ]
    },
    {
     "name": "stderr",
     "output_type": "stream",
     "text": [
      "ROOT -2024-09-07 02:30:53,150 mechanotransduction - INFO - Solve for time step 3.327359 (2087672043.py:4)\n"
     ]
    },
    {
     "name": "stdout",
     "output_type": "stream",
     "text": [
      "*** Warning: Reading non-scalar data in HDF5 Vector\n",
      "*** Warning: Reading non-scalar data in HDF5 Vector\n",
      "*** Warning: Reading non-scalar data in HDF5 Vector\n",
      "*** Warning: Reading non-scalar data in HDF5 Vector\n",
      "*** Warning: Reading non-scalar data in HDF5 Vector\n",
      "*** Warning: Reading non-scalar data in HDF5 Vector\n",
      "*** Warning: Reading non-scalar data in HDF5 Vector\n",
      "*** Warning: Reading non-scalar data in HDF5 Vector\n"
     ]
    },
    {
     "name": "stderr",
     "output_type": "stream",
     "text": [
      "ROOT -2024-09-07 02:31:17,581 mechanotransduction - INFO - Solve for time step 3.535886 (2087672043.py:4)\n"
     ]
    },
    {
     "name": "stdout",
     "output_type": "stream",
     "text": [
      "*** Warning: Reading non-scalar data in HDF5 Vector\n",
      "*** Warning: Reading non-scalar data in HDF5 Vector\n",
      "*** Warning: Reading non-scalar data in HDF5 Vector\n",
      "*** Warning: Reading non-scalar data in HDF5 Vector\n",
      "*** Warning: Reading non-scalar data in HDF5 Vector\n",
      "*** Warning: Reading non-scalar data in HDF5 Vector\n",
      "*** Warning: Reading non-scalar data in HDF5 Vector\n",
      "*** Warning: Reading non-scalar data in HDF5 Vector\n"
     ]
    },
    {
     "name": "stderr",
     "output_type": "stream",
     "text": [
      "ROOT -2024-09-07 02:31:42,022 mechanotransduction - INFO - Solve for time step 3.754839 (2087672043.py:4)\n"
     ]
    },
    {
     "name": "stdout",
     "output_type": "stream",
     "text": [
      "*** Warning: Reading non-scalar data in HDF5 Vector\n",
      "*** Warning: Reading non-scalar data in HDF5 Vector\n",
      "*** Warning: Reading non-scalar data in HDF5 Vector\n",
      "*** Warning: Reading non-scalar data in HDF5 Vector\n",
      "*** Warning: Reading non-scalar data in HDF5 Vector\n",
      "*** Warning: Reading non-scalar data in HDF5 Vector\n",
      "*** Warning: Reading non-scalar data in HDF5 Vector\n",
      "*** Warning: Reading non-scalar data in HDF5 Vector\n"
     ]
    },
    {
     "name": "stderr",
     "output_type": "stream",
     "text": [
      "ROOT -2024-09-07 02:32:06,546 mechanotransduction - INFO - Solve for time step 3.984740 (2087672043.py:4)\n"
     ]
    },
    {
     "name": "stdout",
     "output_type": "stream",
     "text": [
      "*** Warning: Reading non-scalar data in HDF5 Vector\n",
      "*** Warning: Reading non-scalar data in HDF5 Vector\n",
      "*** Warning: Reading non-scalar data in HDF5 Vector\n",
      "*** Warning: Reading non-scalar data in HDF5 Vector\n",
      "*** Warning: Reading non-scalar data in HDF5 Vector\n",
      "*** Warning: Reading non-scalar data in HDF5 Vector\n",
      "*** Warning: Reading non-scalar data in HDF5 Vector\n",
      "*** Warning: Reading non-scalar data in HDF5 Vector\n"
     ]
    },
    {
     "name": "stderr",
     "output_type": "stream",
     "text": [
      "ROOT -2024-09-07 02:32:30,791 mechanotransduction - INFO - Solve for time step 4.226136 (2087672043.py:4)\n"
     ]
    },
    {
     "name": "stdout",
     "output_type": "stream",
     "text": [
      "*** Warning: Reading non-scalar data in HDF5 Vector\n",
      "*** Warning: Reading non-scalar data in HDF5 Vector\n",
      "*** Warning: Reading non-scalar data in HDF5 Vector\n",
      "*** Warning: Reading non-scalar data in HDF5 Vector\n",
      "*** Warning: Reading non-scalar data in HDF5 Vector\n",
      "*** Warning: Reading non-scalar data in HDF5 Vector\n",
      "*** Warning: Reading non-scalar data in HDF5 Vector\n",
      "*** Warning: Reading non-scalar data in HDF5 Vector\n"
     ]
    },
    {
     "name": "stderr",
     "output_type": "stream",
     "text": [
      "ROOT -2024-09-07 02:32:55,264 mechanotransduction - INFO - Solve for time step 4.479602 (2087672043.py:4)\n"
     ]
    },
    {
     "name": "stdout",
     "output_type": "stream",
     "text": [
      "*** Warning: Reading non-scalar data in HDF5 Vector\n",
      "*** Warning: Reading non-scalar data in HDF5 Vector\n",
      "*** Warning: Reading non-scalar data in HDF5 Vector\n",
      "*** Warning: Reading non-scalar data in HDF5 Vector\n",
      "*** Warning: Reading non-scalar data in HDF5 Vector\n",
      "*** Warning: Reading non-scalar data in HDF5 Vector\n",
      "*** Warning: Reading non-scalar data in HDF5 Vector\n",
      "*** Warning: Reading non-scalar data in HDF5 Vector\n"
     ]
    },
    {
     "name": "stderr",
     "output_type": "stream",
     "text": [
      "ROOT -2024-09-07 02:33:19,644 mechanotransduction - INFO - Solve for time step 4.745741 (2087672043.py:4)\n"
     ]
    },
    {
     "name": "stdout",
     "output_type": "stream",
     "text": [
      "*** Warning: Reading non-scalar data in HDF5 Vector\n",
      "*** Warning: Reading non-scalar data in HDF5 Vector\n",
      "*** Warning: Reading non-scalar data in HDF5 Vector\n",
      "*** Warning: Reading non-scalar data in HDF5 Vector\n",
      "*** Warning: Reading non-scalar data in HDF5 Vector\n",
      "*** Warning: Reading non-scalar data in HDF5 Vector\n",
      "*** Warning: Reading non-scalar data in HDF5 Vector\n",
      "*** Warning: Reading non-scalar data in HDF5 Vector\n"
     ]
    },
    {
     "name": "stderr",
     "output_type": "stream",
     "text": [
      "ROOT -2024-09-07 02:33:43,621 mechanotransduction - INFO - Solve for time step 5.025187 (2087672043.py:4)\n"
     ]
    },
    {
     "name": "stdout",
     "output_type": "stream",
     "text": [
      "*** Warning: Reading non-scalar data in HDF5 Vector\n",
      "*** Warning: Reading non-scalar data in HDF5 Vector\n",
      "*** Warning: Reading non-scalar data in HDF5 Vector\n",
      "*** Warning: Reading non-scalar data in HDF5 Vector\n",
      "*** Warning: Reading non-scalar data in HDF5 Vector\n",
      "*** Warning: Reading non-scalar data in HDF5 Vector\n",
      "*** Warning: Reading non-scalar data in HDF5 Vector\n",
      "*** Warning: Reading non-scalar data in HDF5 Vector\n"
     ]
    },
    {
     "name": "stderr",
     "output_type": "stream",
     "text": [
      "ROOT -2024-09-07 02:34:07,758 mechanotransduction - INFO - Solve for time step 5.318605 (2087672043.py:4)\n"
     ]
    },
    {
     "name": "stdout",
     "output_type": "stream",
     "text": [
      "*** Warning: Reading non-scalar data in HDF5 Vector\n",
      "*** Warning: Reading non-scalar data in HDF5 Vector\n",
      "*** Warning: Reading non-scalar data in HDF5 Vector\n",
      "*** Warning: Reading non-scalar data in HDF5 Vector\n",
      "*** Warning: Reading non-scalar data in HDF5 Vector\n",
      "*** Warning: Reading non-scalar data in HDF5 Vector\n",
      "*** Warning: Reading non-scalar data in HDF5 Vector\n",
      "*** Warning: Reading non-scalar data in HDF5 Vector\n"
     ]
    },
    {
     "name": "stderr",
     "output_type": "stream",
     "text": [
      "ROOT -2024-09-07 02:34:31,786 mechanotransduction - INFO - Solve for time step 5.626694 (2087672043.py:4)\n"
     ]
    },
    {
     "name": "stdout",
     "output_type": "stream",
     "text": [
      "*** Warning: Reading non-scalar data in HDF5 Vector\n",
      "*** Warning: Reading non-scalar data in HDF5 Vector\n",
      "*** Warning: Reading non-scalar data in HDF5 Vector\n",
      "*** Warning: Reading non-scalar data in HDF5 Vector\n",
      "*** Warning: Reading non-scalar data in HDF5 Vector\n",
      "*** Warning: Reading non-scalar data in HDF5 Vector\n",
      "*** Warning: Reading non-scalar data in HDF5 Vector\n",
      "*** Warning: Reading non-scalar data in HDF5 Vector\n"
     ]
    },
    {
     "name": "stderr",
     "output_type": "stream",
     "text": [
      "ROOT -2024-09-07 02:34:56,050 mechanotransduction - INFO - Solve for time step 5.950187 (2087672043.py:4)\n"
     ]
    },
    {
     "name": "stdout",
     "output_type": "stream",
     "text": [
      "*** Warning: Reading non-scalar data in HDF5 Vector\n",
      "*** Warning: Reading non-scalar data in HDF5 Vector\n",
      "*** Warning: Reading non-scalar data in HDF5 Vector\n",
      "*** Warning: Reading non-scalar data in HDF5 Vector\n",
      "*** Warning: Reading non-scalar data in HDF5 Vector\n",
      "*** Warning: Reading non-scalar data in HDF5 Vector\n",
      "*** Warning: Reading non-scalar data in HDF5 Vector\n",
      "*** Warning: Reading non-scalar data in HDF5 Vector\n"
     ]
    },
    {
     "name": "stderr",
     "output_type": "stream",
     "text": [
      "ROOT -2024-09-07 02:35:20,117 mechanotransduction - INFO - Solve for time step 6.289855 (2087672043.py:4)\n"
     ]
    },
    {
     "name": "stdout",
     "output_type": "stream",
     "text": [
      "*** Warning: Reading non-scalar data in HDF5 Vector\n",
      "*** Warning: Reading non-scalar data in HDF5 Vector\n",
      "*** Warning: Reading non-scalar data in HDF5 Vector\n",
      "*** Warning: Reading non-scalar data in HDF5 Vector\n",
      "*** Warning: Reading non-scalar data in HDF5 Vector\n",
      "*** Warning: Reading non-scalar data in HDF5 Vector\n",
      "*** Warning: Reading non-scalar data in HDF5 Vector\n",
      "*** Warning: Reading non-scalar data in HDF5 Vector\n"
     ]
    },
    {
     "name": "stderr",
     "output_type": "stream",
     "text": [
      "ROOT -2024-09-07 02:35:44,077 mechanotransduction - INFO - Solve for time step 6.646506 (2087672043.py:4)\n"
     ]
    },
    {
     "name": "stdout",
     "output_type": "stream",
     "text": [
      "*** Warning: Reading non-scalar data in HDF5 Vector\n",
      "*** Warning: Reading non-scalar data in HDF5 Vector\n",
      "*** Warning: Reading non-scalar data in HDF5 Vector\n",
      "*** Warning: Reading non-scalar data in HDF5 Vector\n",
      "*** Warning: Reading non-scalar data in HDF5 Vector\n",
      "*** Warning: Reading non-scalar data in HDF5 Vector\n",
      "*** Warning: Reading non-scalar data in HDF5 Vector\n",
      "*** Warning: Reading non-scalar data in HDF5 Vector\n"
     ]
    },
    {
     "name": "stderr",
     "output_type": "stream",
     "text": [
      "ROOT -2024-09-07 02:36:08,313 mechanotransduction - INFO - Solve for time step 7.020990 (2087672043.py:4)\n"
     ]
    },
    {
     "name": "stdout",
     "output_type": "stream",
     "text": [
      "*** Warning: Reading non-scalar data in HDF5 Vector\n",
      "*** Warning: Reading non-scalar data in HDF5 Vector\n",
      "*** Warning: Reading non-scalar data in HDF5 Vector\n",
      "*** Warning: Reading non-scalar data in HDF5 Vector\n",
      "*** Warning: Reading non-scalar data in HDF5 Vector\n",
      "*** Warning: Reading non-scalar data in HDF5 Vector\n",
      "*** Warning: Reading non-scalar data in HDF5 Vector\n",
      "*** Warning: Reading non-scalar data in HDF5 Vector\n"
     ]
    },
    {
     "name": "stderr",
     "output_type": "stream",
     "text": [
      "ROOT -2024-09-07 02:36:32,929 mechanotransduction - INFO - Solve for time step 7.414198 (2087672043.py:4)\n"
     ]
    },
    {
     "name": "stdout",
     "output_type": "stream",
     "text": [
      "*** Warning: Reading non-scalar data in HDF5 Vector\n",
      "*** Warning: Reading non-scalar data in HDF5 Vector\n",
      "*** Warning: Reading non-scalar data in HDF5 Vector\n",
      "*** Warning: Reading non-scalar data in HDF5 Vector\n",
      "*** Warning: Reading non-scalar data in HDF5 Vector\n",
      "*** Warning: Reading non-scalar data in HDF5 Vector\n",
      "*** Warning: Reading non-scalar data in HDF5 Vector\n",
      "*** Warning: Reading non-scalar data in HDF5 Vector\n"
     ]
    },
    {
     "name": "stderr",
     "output_type": "stream",
     "text": [
      "ROOT -2024-09-07 02:36:56,983 mechanotransduction - INFO - Solve for time step 7.827066 (2087672043.py:4)\n"
     ]
    },
    {
     "name": "stdout",
     "output_type": "stream",
     "text": [
      "*** Warning: Reading non-scalar data in HDF5 Vector\n",
      "*** Warning: Reading non-scalar data in HDF5 Vector\n",
      "*** Warning: Reading non-scalar data in HDF5 Vector\n",
      "*** Warning: Reading non-scalar data in HDF5 Vector\n",
      "*** Warning: Reading non-scalar data in HDF5 Vector\n",
      "*** Warning: Reading non-scalar data in HDF5 Vector\n",
      "*** Warning: Reading non-scalar data in HDF5 Vector\n",
      "*** Warning: Reading non-scalar data in HDF5 Vector\n"
     ]
    },
    {
     "name": "stderr",
     "output_type": "stream",
     "text": [
      "ROOT -2024-09-07 02:37:10,918 mechanotransduction - INFO - Solve for time step 8.260577 (2087672043.py:4)\n"
     ]
    },
    {
     "name": "stdout",
     "output_type": "stream",
     "text": [
      "*** Warning: Reading non-scalar data in HDF5 Vector\n",
      "*** Warning: Reading non-scalar data in HDF5 Vector\n",
      "*** Warning: Reading non-scalar data in HDF5 Vector\n",
      "*** Warning: Reading non-scalar data in HDF5 Vector\n",
      "*** Warning: Reading non-scalar data in HDF5 Vector\n",
      "*** Warning: Reading non-scalar data in HDF5 Vector\n",
      "*** Warning: Reading non-scalar data in HDF5 Vector\n",
      "*** Warning: Reading non-scalar data in HDF5 Vector\n"
     ]
    },
    {
     "name": "stderr",
     "output_type": "stream",
     "text": [
      "ROOT -2024-09-07 02:37:35,017 mechanotransduction - INFO - Solve for time step 8.737439 (2087672043.py:4)\n"
     ]
    },
    {
     "name": "stdout",
     "output_type": "stream",
     "text": [
      "*** Warning: Reading non-scalar data in HDF5 Vector\n",
      "*** Warning: Reading non-scalar data in HDF5 Vector\n",
      "*** Warning: Reading non-scalar data in HDF5 Vector\n",
      "*** Warning: Reading non-scalar data in HDF5 Vector\n",
      "*** Warning: Reading non-scalar data in HDF5 Vector\n",
      "*** Warning: Reading non-scalar data in HDF5 Vector\n",
      "*** Warning: Reading non-scalar data in HDF5 Vector\n",
      "*** Warning: Reading non-scalar data in HDF5 Vector\n"
     ]
    },
    {
     "name": "stderr",
     "output_type": "stream",
     "text": [
      "ROOT -2024-09-07 02:37:59,189 mechanotransduction - INFO - Solve for time step 9.238144 (2087672043.py:4)\n"
     ]
    },
    {
     "name": "stdout",
     "output_type": "stream",
     "text": [
      "*** Warning: Reading non-scalar data in HDF5 Vector\n",
      "*** Warning: Reading non-scalar data in HDF5 Vector\n",
      "*** Warning: Reading non-scalar data in HDF5 Vector\n",
      "*** Warning: Reading non-scalar data in HDF5 Vector\n",
      "*** Warning: Reading non-scalar data in HDF5 Vector\n",
      "*** Warning: Reading non-scalar data in HDF5 Vector\n",
      "*** Warning: Reading non-scalar data in HDF5 Vector\n",
      "*** Warning: Reading non-scalar data in HDF5 Vector\n"
     ]
    },
    {
     "name": "stderr",
     "output_type": "stream",
     "text": [
      "ROOT -2024-09-07 02:38:23,410 mechanotransduction - INFO - Solve for time step 9.763884 (2087672043.py:4)\n"
     ]
    },
    {
     "name": "stdout",
     "output_type": "stream",
     "text": [
      "*** Warning: Reading non-scalar data in HDF5 Vector\n",
      "*** Warning: Reading non-scalar data in HDF5 Vector\n",
      "*** Warning: Reading non-scalar data in HDF5 Vector\n",
      "*** Warning: Reading non-scalar data in HDF5 Vector\n",
      "*** Warning: Reading non-scalar data in HDF5 Vector\n",
      "*** Warning: Reading non-scalar data in HDF5 Vector\n",
      "*** Warning: Reading non-scalar data in HDF5 Vector\n",
      "*** Warning: Reading non-scalar data in HDF5 Vector\n"
     ]
    },
    {
     "name": "stderr",
     "output_type": "stream",
     "text": [
      "ROOT -2024-09-07 02:38:47,556 mechanotransduction - INFO - Solve for time step 10.315911 (2087672043.py:4)\n"
     ]
    },
    {
     "name": "stdout",
     "output_type": "stream",
     "text": [
      "*** Warning: Reading non-scalar data in HDF5 Vector\n",
      "*** Warning: Reading non-scalar data in HDF5 Vector\n",
      "*** Warning: Reading non-scalar data in HDF5 Vector\n",
      "*** Warning: Reading non-scalar data in HDF5 Vector\n",
      "*** Warning: Reading non-scalar data in HDF5 Vector\n",
      "*** Warning: Reading non-scalar data in HDF5 Vector\n",
      "*** Warning: Reading non-scalar data in HDF5 Vector\n",
      "*** Warning: Reading non-scalar data in HDF5 Vector\n"
     ]
    },
    {
     "name": "stderr",
     "output_type": "stream",
     "text": [
      "ROOT -2024-09-07 02:39:11,625 mechanotransduction - INFO - Solve for time step 10.895539 (2087672043.py:4)\n"
     ]
    },
    {
     "name": "stdout",
     "output_type": "stream",
     "text": [
      "*** Warning: Reading non-scalar data in HDF5 Vector\n",
      "*** Warning: Reading non-scalar data in HDF5 Vector\n",
      "*** Warning: Reading non-scalar data in HDF5 Vector\n",
      "*** Warning: Reading non-scalar data in HDF5 Vector\n",
      "*** Warning: Reading non-scalar data in HDF5 Vector\n",
      "*** Warning: Reading non-scalar data in HDF5 Vector\n",
      "*** Warning: Reading non-scalar data in HDF5 Vector\n",
      "*** Warning: Reading non-scalar data in HDF5 Vector\n"
     ]
    },
    {
     "name": "stderr",
     "output_type": "stream",
     "text": [
      "ROOT -2024-09-07 02:39:35,463 mechanotransduction - INFO - Solve for time step 11.504148 (2087672043.py:4)\n"
     ]
    },
    {
     "name": "stdout",
     "output_type": "stream",
     "text": [
      "*** Warning: Reading non-scalar data in HDF5 Vector\n",
      "*** Warning: Reading non-scalar data in HDF5 Vector\n",
      "*** Warning: Reading non-scalar data in HDF5 Vector\n",
      "*** Warning: Reading non-scalar data in HDF5 Vector\n",
      "*** Warning: Reading non-scalar data in HDF5 Vector\n",
      "*** Warning: Reading non-scalar data in HDF5 Vector\n",
      "*** Warning: Reading non-scalar data in HDF5 Vector\n",
      "*** Warning: Reading non-scalar data in HDF5 Vector\n"
     ]
    },
    {
     "name": "stderr",
     "output_type": "stream",
     "text": [
      "ROOT -2024-09-07 02:39:59,477 mechanotransduction - INFO - Solve for time step 12.143187 (2087672043.py:4)\n"
     ]
    },
    {
     "name": "stdout",
     "output_type": "stream",
     "text": [
      "*** Warning: Reading non-scalar data in HDF5 Vector\n",
      "*** Warning: Reading non-scalar data in HDF5 Vector\n",
      "*** Warning: Reading non-scalar data in HDF5 Vector\n",
      "*** Warning: Reading non-scalar data in HDF5 Vector\n",
      "*** Warning: Reading non-scalar data in HDF5 Vector\n",
      "*** Warning: Reading non-scalar data in HDF5 Vector\n",
      "*** Warning: Reading non-scalar data in HDF5 Vector\n",
      "*** Warning: Reading non-scalar data in HDF5 Vector\n"
     ]
    },
    {
     "name": "stderr",
     "output_type": "stream",
     "text": [
      "ROOT -2024-09-07 02:40:23,731 mechanotransduction - INFO - Solve for time step 12.814178 (2087672043.py:4)\n"
     ]
    },
    {
     "name": "stdout",
     "output_type": "stream",
     "text": [
      "*** Warning: Reading non-scalar data in HDF5 Vector\n",
      "*** Warning: Reading non-scalar data in HDF5 Vector\n",
      "*** Warning: Reading non-scalar data in HDF5 Vector\n",
      "*** Warning: Reading non-scalar data in HDF5 Vector\n",
      "*** Warning: Reading non-scalar data in HDF5 Vector\n",
      "*** Warning: Reading non-scalar data in HDF5 Vector\n",
      "*** Warning: Reading non-scalar data in HDF5 Vector\n",
      "*** Warning: Reading non-scalar data in HDF5 Vector\n"
     ]
    },
    {
     "name": "stderr",
     "output_type": "stream",
     "text": [
      "ROOT -2024-09-07 02:40:47,950 mechanotransduction - INFO - Solve for time step 13.518719 (2087672043.py:4)\n"
     ]
    },
    {
     "name": "stdout",
     "output_type": "stream",
     "text": [
      "*** Warning: Reading non-scalar data in HDF5 Vector\n",
      "*** Warning: Reading non-scalar data in HDF5 Vector\n",
      "*** Warning: Reading non-scalar data in HDF5 Vector\n",
      "*** Warning: Reading non-scalar data in HDF5 Vector\n",
      "*** Warning: Reading non-scalar data in HDF5 Vector\n",
      "*** Warning: Reading non-scalar data in HDF5 Vector\n",
      "*** Warning: Reading non-scalar data in HDF5 Vector\n",
      "*** Warning: Reading non-scalar data in HDF5 Vector\n"
     ]
    },
    {
     "name": "stderr",
     "output_type": "stream",
     "text": [
      "ROOT -2024-09-07 02:41:12,211 mechanotransduction - INFO - Solve for time step 14.258487 (2087672043.py:4)\n"
     ]
    },
    {
     "name": "stdout",
     "output_type": "stream",
     "text": [
      "*** Warning: Reading non-scalar data in HDF5 Vector\n",
      "*** Warning: Reading non-scalar data in HDF5 Vector\n",
      "*** Warning: Reading non-scalar data in HDF5 Vector\n",
      "*** Warning: Reading non-scalar data in HDF5 Vector\n",
      "*** Warning: Reading non-scalar data in HDF5 Vector\n",
      "*** Warning: Reading non-scalar data in HDF5 Vector\n",
      "*** Warning: Reading non-scalar data in HDF5 Vector\n",
      "*** Warning: Reading non-scalar data in HDF5 Vector\n"
     ]
    },
    {
     "name": "stderr",
     "output_type": "stream",
     "text": [
      "ROOT -2024-09-07 02:41:36,347 mechanotransduction - INFO - Solve for time step 15.035243 (2087672043.py:4)\n"
     ]
    },
    {
     "name": "stdout",
     "output_type": "stream",
     "text": [
      "*** Warning: Reading non-scalar data in HDF5 Vector\n",
      "*** Warning: Reading non-scalar data in HDF5 Vector\n",
      "*** Warning: Reading non-scalar data in HDF5 Vector\n",
      "*** Warning: Reading non-scalar data in HDF5 Vector\n",
      "*** Warning: Reading non-scalar data in HDF5 Vector\n",
      "*** Warning: Reading non-scalar data in HDF5 Vector\n",
      "*** Warning: Reading non-scalar data in HDF5 Vector\n",
      "*** Warning: Reading non-scalar data in HDF5 Vector\n"
     ]
    },
    {
     "name": "stderr",
     "output_type": "stream",
     "text": [
      "ROOT -2024-09-07 02:42:00,536 mechanotransduction - INFO - Solve for time step 15.850837 (2087672043.py:4)\n"
     ]
    },
    {
     "name": "stdout",
     "output_type": "stream",
     "text": [
      "*** Warning: Reading non-scalar data in HDF5 Vector\n",
      "*** Warning: Reading non-scalar data in HDF5 Vector\n",
      "*** Warning: Reading non-scalar data in HDF5 Vector\n",
      "*** Warning: Reading non-scalar data in HDF5 Vector\n",
      "*** Warning: Reading non-scalar data in HDF5 Vector\n",
      "*** Warning: Reading non-scalar data in HDF5 Vector\n",
      "*** Warning: Reading non-scalar data in HDF5 Vector\n",
      "*** Warning: Reading non-scalar data in HDF5 Vector\n"
     ]
    },
    {
     "name": "stderr",
     "output_type": "stream",
     "text": [
      "ROOT -2024-09-07 02:42:25,032 mechanotransduction - INFO - Solve for time step 16.707211 (2087672043.py:4)\n"
     ]
    },
    {
     "name": "stdout",
     "output_type": "stream",
     "text": [
      "*** Warning: Reading non-scalar data in HDF5 Vector\n",
      "*** Warning: Reading non-scalar data in HDF5 Vector\n",
      "*** Warning: Reading non-scalar data in HDF5 Vector\n",
      "*** Warning: Reading non-scalar data in HDF5 Vector\n",
      "*** Warning: Reading non-scalar data in HDF5 Vector\n",
      "*** Warning: Reading non-scalar data in HDF5 Vector\n",
      "*** Warning: Reading non-scalar data in HDF5 Vector\n",
      "*** Warning: Reading non-scalar data in HDF5 Vector\n"
     ]
    },
    {
     "name": "stderr",
     "output_type": "stream",
     "text": [
      "ROOT -2024-09-07 02:42:49,096 mechanotransduction - INFO - Solve for time step 17.606404 (2087672043.py:4)\n"
     ]
    },
    {
     "name": "stdout",
     "output_type": "stream",
     "text": [
      "*** Warning: Reading non-scalar data in HDF5 Vector\n",
      "*** Warning: Reading non-scalar data in HDF5 Vector\n",
      "*** Warning: Reading non-scalar data in HDF5 Vector\n",
      "*** Warning: Reading non-scalar data in HDF5 Vector\n",
      "*** Warning: Reading non-scalar data in HDF5 Vector\n",
      "*** Warning: Reading non-scalar data in HDF5 Vector\n",
      "*** Warning: Reading non-scalar data in HDF5 Vector\n",
      "*** Warning: Reading non-scalar data in HDF5 Vector\n"
     ]
    },
    {
     "name": "stderr",
     "output_type": "stream",
     "text": [
      "ROOT -2024-09-07 02:43:13,119 mechanotransduction - INFO - Solve for time step 18.550557 (2087672043.py:4)\n"
     ]
    },
    {
     "name": "stdout",
     "output_type": "stream",
     "text": [
      "*** Warning: Reading non-scalar data in HDF5 Vector\n",
      "*** Warning: Reading non-scalar data in HDF5 Vector\n",
      "*** Warning: Reading non-scalar data in HDF5 Vector\n",
      "*** Warning: Reading non-scalar data in HDF5 Vector\n",
      "*** Warning: Reading non-scalar data in HDF5 Vector\n",
      "*** Warning: Reading non-scalar data in HDF5 Vector\n",
      "*** Warning: Reading non-scalar data in HDF5 Vector\n",
      "*** Warning: Reading non-scalar data in HDF5 Vector\n"
     ]
    },
    {
     "name": "stderr",
     "output_type": "stream",
     "text": [
      "ROOT -2024-09-07 02:43:37,147 mechanotransduction - INFO - Solve for time step 19.541918 (2087672043.py:4)\n"
     ]
    },
    {
     "name": "stdout",
     "output_type": "stream",
     "text": [
      "*** Warning: Reading non-scalar data in HDF5 Vector\n",
      "*** Warning: Reading non-scalar data in HDF5 Vector\n",
      "*** Warning: Reading non-scalar data in HDF5 Vector\n",
      "*** Warning: Reading non-scalar data in HDF5 Vector\n",
      "*** Warning: Reading non-scalar data in HDF5 Vector\n",
      "*** Warning: Reading non-scalar data in HDF5 Vector\n",
      "*** Warning: Reading non-scalar data in HDF5 Vector\n",
      "*** Warning: Reading non-scalar data in HDF5 Vector\n"
     ]
    },
    {
     "name": "stderr",
     "output_type": "stream",
     "text": [
      "ROOT -2024-09-07 02:44:01,249 mechanotransduction - INFO - Solve for time step 20.582847 (2087672043.py:4)\n"
     ]
    },
    {
     "name": "stdout",
     "output_type": "stream",
     "text": [
      "*** Warning: Reading non-scalar data in HDF5 Vector\n",
      "*** Warning: Reading non-scalar data in HDF5 Vector\n",
      "*** Warning: Reading non-scalar data in HDF5 Vector\n",
      "*** Warning: Reading non-scalar data in HDF5 Vector\n",
      "*** Warning: Reading non-scalar data in HDF5 Vector\n",
      "*** Warning: Reading non-scalar data in HDF5 Vector\n",
      "*** Warning: Reading non-scalar data in HDF5 Vector\n",
      "*** Warning: Reading non-scalar data in HDF5 Vector\n"
     ]
    },
    {
     "name": "stderr",
     "output_type": "stream",
     "text": [
      "ROOT -2024-09-07 02:44:25,436 mechanotransduction - INFO - Solve for time step 21.675822 (2087672043.py:4)\n"
     ]
    },
    {
     "name": "stdout",
     "output_type": "stream",
     "text": [
      "*** Warning: Reading non-scalar data in HDF5 Vector\n",
      "*** Warning: Reading non-scalar data in HDF5 Vector\n",
      "*** Warning: Reading non-scalar data in HDF5 Vector\n",
      "*** Warning: Reading non-scalar data in HDF5 Vector\n",
      "*** Warning: Reading non-scalar data in HDF5 Vector\n",
      "*** Warning: Reading non-scalar data in HDF5 Vector\n",
      "*** Warning: Reading non-scalar data in HDF5 Vector\n",
      "*** Warning: Reading non-scalar data in HDF5 Vector\n"
     ]
    },
    {
     "name": "stderr",
     "output_type": "stream",
     "text": [
      "ROOT -2024-09-07 02:44:49,507 mechanotransduction - INFO - Solve for time step 22.823446 (2087672043.py:4)\n"
     ]
    },
    {
     "name": "stdout",
     "output_type": "stream",
     "text": [
      "*** Warning: Reading non-scalar data in HDF5 Vector\n",
      "*** Warning: Reading non-scalar data in HDF5 Vector\n",
      "*** Warning: Reading non-scalar data in HDF5 Vector\n",
      "*** Warning: Reading non-scalar data in HDF5 Vector\n",
      "*** Warning: Reading non-scalar data in HDF5 Vector\n",
      "*** Warning: Reading non-scalar data in HDF5 Vector\n",
      "*** Warning: Reading non-scalar data in HDF5 Vector\n",
      "*** Warning: Reading non-scalar data in HDF5 Vector\n"
     ]
    },
    {
     "name": "stderr",
     "output_type": "stream",
     "text": [
      "ROOT -2024-09-07 02:45:13,572 mechanotransduction - INFO - Solve for time step 24.028451 (2087672043.py:4)\n"
     ]
    },
    {
     "name": "stdout",
     "output_type": "stream",
     "text": [
      "*** Warning: Reading non-scalar data in HDF5 Vector\n",
      "*** Warning: Reading non-scalar data in HDF5 Vector\n",
      "*** Warning: Reading non-scalar data in HDF5 Vector\n",
      "*** Warning: Reading non-scalar data in HDF5 Vector\n",
      "*** Warning: Reading non-scalar data in HDF5 Vector\n",
      "*** Warning: Reading non-scalar data in HDF5 Vector\n",
      "*** Warning: Reading non-scalar data in HDF5 Vector\n",
      "*** Warning: Reading non-scalar data in HDF5 Vector\n"
     ]
    },
    {
     "name": "stderr",
     "output_type": "stream",
     "text": [
      "ROOT -2024-09-07 02:45:37,622 mechanotransduction - INFO - Solve for time step 25.293706 (2087672043.py:4)\n"
     ]
    },
    {
     "name": "stdout",
     "output_type": "stream",
     "text": [
      "*** Warning: Reading non-scalar data in HDF5 Vector\n",
      "*** Warning: Reading non-scalar data in HDF5 Vector\n",
      "*** Warning: Reading non-scalar data in HDF5 Vector\n",
      "*** Warning: Reading non-scalar data in HDF5 Vector\n",
      "*** Warning: Reading non-scalar data in HDF5 Vector\n",
      "*** Warning: Reading non-scalar data in HDF5 Vector\n",
      "*** Warning: Reading non-scalar data in HDF5 Vector\n",
      "*** Warning: Reading non-scalar data in HDF5 Vector\n"
     ]
    },
    {
     "name": "stderr",
     "output_type": "stream",
     "text": [
      "ROOT -2024-09-07 02:46:01,637 mechanotransduction - INFO - Solve for time step 26.622224 (2087672043.py:4)\n"
     ]
    },
    {
     "name": "stdout",
     "output_type": "stream",
     "text": [
      "*** Warning: Reading non-scalar data in HDF5 Vector\n",
      "*** Warning: Reading non-scalar data in HDF5 Vector\n",
      "*** Warning: Reading non-scalar data in HDF5 Vector\n",
      "*** Warning: Reading non-scalar data in HDF5 Vector\n",
      "*** Warning: Reading non-scalar data in HDF5 Vector\n",
      "*** Warning: Reading non-scalar data in HDF5 Vector\n",
      "*** Warning: Reading non-scalar data in HDF5 Vector\n",
      "*** Warning: Reading non-scalar data in HDF5 Vector\n"
     ]
    },
    {
     "name": "stderr",
     "output_type": "stream",
     "text": [
      "ROOT -2024-09-07 02:46:25,805 mechanotransduction - INFO - Solve for time step 28.017168 (2087672043.py:4)\n"
     ]
    },
    {
     "name": "stdout",
     "output_type": "stream",
     "text": [
      "*** Warning: Reading non-scalar data in HDF5 Vector\n",
      "*** Warning: Reading non-scalar data in HDF5 Vector\n",
      "*** Warning: Reading non-scalar data in HDF5 Vector\n",
      "*** Warning: Reading non-scalar data in HDF5 Vector\n",
      "*** Warning: Reading non-scalar data in HDF5 Vector\n",
      "*** Warning: Reading non-scalar data in HDF5 Vector\n",
      "*** Warning: Reading non-scalar data in HDF5 Vector\n",
      "*** Warning: Reading non-scalar data in HDF5 Vector\n"
     ]
    },
    {
     "name": "stderr",
     "output_type": "stream",
     "text": [
      "ROOT -2024-09-07 02:46:49,910 mechanotransduction - INFO - Solve for time step 29.481859 (2087672043.py:4)\n"
     ]
    },
    {
     "name": "stdout",
     "output_type": "stream",
     "text": [
      "*** Warning: Reading non-scalar data in HDF5 Vector\n",
      "*** Warning: Reading non-scalar data in HDF5 Vector\n",
      "*** Warning: Reading non-scalar data in HDF5 Vector\n",
      "*** Warning: Reading non-scalar data in HDF5 Vector\n",
      "*** Warning: Reading non-scalar data in HDF5 Vector\n",
      "*** Warning: Reading non-scalar data in HDF5 Vector\n",
      "*** Warning: Reading non-scalar data in HDF5 Vector\n",
      "*** Warning: Reading non-scalar data in HDF5 Vector\n"
     ]
    },
    {
     "name": "stderr",
     "output_type": "stream",
     "text": [
      "ROOT -2024-09-07 02:47:14,083 mechanotransduction - INFO - Solve for time step 31.019785 (2087672043.py:4)\n"
     ]
    },
    {
     "name": "stdout",
     "output_type": "stream",
     "text": [
      "*** Warning: Reading non-scalar data in HDF5 Vector\n",
      "*** Warning: Reading non-scalar data in HDF5 Vector\n",
      "*** Warning: Reading non-scalar data in HDF5 Vector\n",
      "*** Warning: Reading non-scalar data in HDF5 Vector\n",
      "*** Warning: Reading non-scalar data in HDF5 Vector\n",
      "*** Warning: Reading non-scalar data in HDF5 Vector\n",
      "*** Warning: Reading non-scalar data in HDF5 Vector\n",
      "*** Warning: Reading non-scalar data in HDF5 Vector\n"
     ]
    },
    {
     "name": "stderr",
     "output_type": "stream",
     "text": [
      "ROOT -2024-09-07 02:47:38,146 mechanotransduction - INFO - Solve for time step 32.634607 (2087672043.py:4)\n"
     ]
    },
    {
     "name": "stdout",
     "output_type": "stream",
     "text": [
      "*** Warning: Reading non-scalar data in HDF5 Vector\n",
      "*** Warning: Reading non-scalar data in HDF5 Vector\n",
      "*** Warning: Reading non-scalar data in HDF5 Vector\n",
      "*** Warning: Reading non-scalar data in HDF5 Vector\n",
      "*** Warning: Reading non-scalar data in HDF5 Vector\n",
      "*** Warning: Reading non-scalar data in HDF5 Vector\n",
      "*** Warning: Reading non-scalar data in HDF5 Vector\n",
      "*** Warning: Reading non-scalar data in HDF5 Vector\n"
     ]
    },
    {
     "name": "stderr",
     "output_type": "stream",
     "text": [
      "ROOT -2024-09-07 02:48:02,603 mechanotransduction - INFO - Solve for time step 34.330170 (2087672043.py:4)\n"
     ]
    },
    {
     "name": "stdout",
     "output_type": "stream",
     "text": [
      "*** Warning: Reading non-scalar data in HDF5 Vector\n",
      "*** Warning: Reading non-scalar data in HDF5 Vector\n",
      "*** Warning: Reading non-scalar data in HDF5 Vector\n",
      "*** Warning: Reading non-scalar data in HDF5 Vector\n",
      "*** Warning: Reading non-scalar data in HDF5 Vector\n",
      "*** Warning: Reading non-scalar data in HDF5 Vector\n",
      "*** Warning: Reading non-scalar data in HDF5 Vector\n",
      "*** Warning: Reading non-scalar data in HDF5 Vector\n"
     ]
    },
    {
     "name": "stderr",
     "output_type": "stream",
     "text": [
      "ROOT -2024-09-07 02:48:26,698 mechanotransduction - INFO - Solve for time step 36.110511 (2087672043.py:4)\n"
     ]
    },
    {
     "name": "stdout",
     "output_type": "stream",
     "text": [
      "*** Warning: Reading non-scalar data in HDF5 Vector\n",
      "*** Warning: Reading non-scalar data in HDF5 Vector\n",
      "*** Warning: Reading non-scalar data in HDF5 Vector\n",
      "*** Warning: Reading non-scalar data in HDF5 Vector\n",
      "*** Warning: Reading non-scalar data in HDF5 Vector\n",
      "*** Warning: Reading non-scalar data in HDF5 Vector\n",
      "*** Warning: Reading non-scalar data in HDF5 Vector\n",
      "*** Warning: Reading non-scalar data in HDF5 Vector\n"
     ]
    },
    {
     "name": "stderr",
     "output_type": "stream",
     "text": [
      "ROOT -2024-09-07 02:48:50,765 mechanotransduction - INFO - Solve for time step 37.979869 (2087672043.py:4)\n"
     ]
    },
    {
     "name": "stdout",
     "output_type": "stream",
     "text": [
      "*** Warning: Reading non-scalar data in HDF5 Vector\n",
      "*** Warning: Reading non-scalar data in HDF5 Vector\n",
      "*** Warning: Reading non-scalar data in HDF5 Vector\n",
      "*** Warning: Reading non-scalar data in HDF5 Vector\n",
      "*** Warning: Reading non-scalar data in HDF5 Vector\n",
      "*** Warning: Reading non-scalar data in HDF5 Vector\n",
      "*** Warning: Reading non-scalar data in HDF5 Vector\n",
      "*** Warning: Reading non-scalar data in HDF5 Vector\n"
     ]
    },
    {
     "name": "stderr",
     "output_type": "stream",
     "text": [
      "ROOT -2024-09-07 02:49:14,843 mechanotransduction - INFO - Solve for time step 39.942695 (2087672043.py:4)\n"
     ]
    },
    {
     "name": "stdout",
     "output_type": "stream",
     "text": [
      "*** Warning: Reading non-scalar data in HDF5 Vector\n",
      "*** Warning: Reading non-scalar data in HDF5 Vector\n",
      "*** Warning: Reading non-scalar data in HDF5 Vector\n",
      "*** Warning: Reading non-scalar data in HDF5 Vector\n",
      "*** Warning: Reading non-scalar data in HDF5 Vector\n",
      "*** Warning: Reading non-scalar data in HDF5 Vector\n",
      "*** Warning: Reading non-scalar data in HDF5 Vector\n",
      "*** Warning: Reading non-scalar data in HDF5 Vector\n"
     ]
    },
    {
     "name": "stderr",
     "output_type": "stream",
     "text": [
      "ROOT -2024-09-07 02:49:38,783 mechanotransduction - INFO - Solve for time step 42.003662 (2087672043.py:4)\n"
     ]
    },
    {
     "name": "stdout",
     "output_type": "stream",
     "text": [
      "*** Warning: Reading non-scalar data in HDF5 Vector\n",
      "*** Warning: Reading non-scalar data in HDF5 Vector\n",
      "*** Warning: Reading non-scalar data in HDF5 Vector\n",
      "*** Warning: Reading non-scalar data in HDF5 Vector\n",
      "*** Warning: Reading non-scalar data in HDF5 Vector\n",
      "*** Warning: Reading non-scalar data in HDF5 Vector\n",
      "*** Warning: Reading non-scalar data in HDF5 Vector\n",
      "*** Warning: Reading non-scalar data in HDF5 Vector\n"
     ]
    },
    {
     "name": "stderr",
     "output_type": "stream",
     "text": [
      "ROOT -2024-09-07 02:50:03,077 mechanotransduction - INFO - Solve for time step 44.167677 (2087672043.py:4)\n"
     ]
    },
    {
     "name": "stdout",
     "output_type": "stream",
     "text": [
      "*** Warning: Reading non-scalar data in HDF5 Vector\n",
      "*** Warning: Reading non-scalar data in HDF5 Vector\n",
      "*** Warning: Reading non-scalar data in HDF5 Vector\n",
      "*** Warning: Reading non-scalar data in HDF5 Vector\n",
      "*** Warning: Reading non-scalar data in HDF5 Vector\n",
      "*** Warning: Reading non-scalar data in HDF5 Vector\n",
      "*** Warning: Reading non-scalar data in HDF5 Vector\n",
      "*** Warning: Reading non-scalar data in HDF5 Vector\n"
     ]
    },
    {
     "name": "stderr",
     "output_type": "stream",
     "text": [
      "ROOT -2024-09-07 02:50:27,564 mechanotransduction - INFO - Solve for time step 46.439893 (2087672043.py:4)\n"
     ]
    },
    {
     "name": "stdout",
     "output_type": "stream",
     "text": [
      "*** Warning: Reading non-scalar data in HDF5 Vector\n",
      "*** Warning: Reading non-scalar data in HDF5 Vector\n",
      "*** Warning: Reading non-scalar data in HDF5 Vector\n",
      "*** Warning: Reading non-scalar data in HDF5 Vector\n",
      "*** Warning: Reading non-scalar data in HDF5 Vector\n",
      "*** Warning: Reading non-scalar data in HDF5 Vector\n",
      "*** Warning: Reading non-scalar data in HDF5 Vector\n",
      "*** Warning: Reading non-scalar data in HDF5 Vector\n"
     ]
    },
    {
     "name": "stderr",
     "output_type": "stream",
     "text": [
      "ROOT -2024-09-07 02:50:51,807 mechanotransduction - INFO - Solve for time step 48.825720 (2087672043.py:4)\n"
     ]
    },
    {
     "name": "stdout",
     "output_type": "stream",
     "text": [
      "*** Warning: Reading non-scalar data in HDF5 Vector\n",
      "*** Warning: Reading non-scalar data in HDF5 Vector\n",
      "*** Warning: Reading non-scalar data in HDF5 Vector\n",
      "*** Warning: Reading non-scalar data in HDF5 Vector\n",
      "*** Warning: Reading non-scalar data in HDF5 Vector\n",
      "*** Warning: Reading non-scalar data in HDF5 Vector\n",
      "*** Warning: Reading non-scalar data in HDF5 Vector\n",
      "*** Warning: Reading non-scalar data in HDF5 Vector\n"
     ]
    },
    {
     "name": "stderr",
     "output_type": "stream",
     "text": [
      "ROOT -2024-09-07 02:51:16,307 mechanotransduction - INFO - Solve for time step 51.330838 (2087672043.py:4)\n"
     ]
    },
    {
     "name": "stdout",
     "output_type": "stream",
     "text": [
      "*** Warning: Reading non-scalar data in HDF5 Vector\n",
      "*** Warning: Reading non-scalar data in HDF5 Vector\n",
      "*** Warning: Reading non-scalar data in HDF5 Vector\n",
      "*** Warning: Reading non-scalar data in HDF5 Vector\n",
      "*** Warning: Reading non-scalar data in HDF5 Vector\n",
      "*** Warning: Reading non-scalar data in HDF5 Vector\n",
      "*** Warning: Reading non-scalar data in HDF5 Vector\n",
      "*** Warning: Reading non-scalar data in HDF5 Vector\n"
     ]
    },
    {
     "name": "stderr",
     "output_type": "stream",
     "text": [
      "ROOT -2024-09-07 02:51:40,861 mechanotransduction - INFO - Solve for time step 53.961212 (2087672043.py:4)\n"
     ]
    },
    {
     "name": "stdout",
     "output_type": "stream",
     "text": [
      "*** Warning: Reading non-scalar data in HDF5 Vector\n",
      "*** Warning: Reading non-scalar data in HDF5 Vector\n",
      "*** Warning: Reading non-scalar data in HDF5 Vector\n",
      "*** Warning: Reading non-scalar data in HDF5 Vector\n",
      "*** Warning: Reading non-scalar data in HDF5 Vector\n",
      "*** Warning: Reading non-scalar data in HDF5 Vector\n",
      "*** Warning: Reading non-scalar data in HDF5 Vector\n",
      "*** Warning: Reading non-scalar data in HDF5 Vector\n"
     ]
    },
    {
     "name": "stderr",
     "output_type": "stream",
     "text": [
      "ROOT -2024-09-07 02:52:05,224 mechanotransduction - INFO - Solve for time step 56.723105 (2087672043.py:4)\n"
     ]
    },
    {
     "name": "stdout",
     "output_type": "stream",
     "text": [
      "*** Warning: Reading non-scalar data in HDF5 Vector\n",
      "*** Warning: Reading non-scalar data in HDF5 Vector\n",
      "*** Warning: Reading non-scalar data in HDF5 Vector\n",
      "*** Warning: Reading non-scalar data in HDF5 Vector\n",
      "*** Warning: Reading non-scalar data in HDF5 Vector\n",
      "*** Warning: Reading non-scalar data in HDF5 Vector\n",
      "*** Warning: Reading non-scalar data in HDF5 Vector\n",
      "*** Warning: Reading non-scalar data in HDF5 Vector\n"
     ]
    },
    {
     "name": "stderr",
     "output_type": "stream",
     "text": [
      "ROOT -2024-09-07 02:52:29,545 mechanotransduction - INFO - Solve for time step 59.623093 (2087672043.py:4)\n"
     ]
    },
    {
     "name": "stdout",
     "output_type": "stream",
     "text": [
      "*** Warning: Reading non-scalar data in HDF5 Vector\n",
      "*** Warning: Reading non-scalar data in HDF5 Vector\n",
      "*** Warning: Reading non-scalar data in HDF5 Vector\n",
      "*** Warning: Reading non-scalar data in HDF5 Vector\n",
      "*** Warning: Reading non-scalar data in HDF5 Vector\n",
      "*** Warning: Reading non-scalar data in HDF5 Vector\n",
      "*** Warning: Reading non-scalar data in HDF5 Vector\n",
      "*** Warning: Reading non-scalar data in HDF5 Vector\n"
     ]
    },
    {
     "name": "stderr",
     "output_type": "stream",
     "text": [
      "ROOT -2024-09-07 02:52:53,657 mechanotransduction - INFO - Solve for time step 62.668080 (2087672043.py:4)\n"
     ]
    },
    {
     "name": "stdout",
     "output_type": "stream",
     "text": [
      "*** Warning: Reading non-scalar data in HDF5 Vector\n",
      "*** Warning: Reading non-scalar data in HDF5 Vector\n",
      "*** Warning: Reading non-scalar data in HDF5 Vector\n",
      "*** Warning: Reading non-scalar data in HDF5 Vector\n",
      "*** Warning: Reading non-scalar data in HDF5 Vector\n",
      "*** Warning: Reading non-scalar data in HDF5 Vector\n",
      "*** Warning: Reading non-scalar data in HDF5 Vector\n",
      "*** Warning: Reading non-scalar data in HDF5 Vector\n"
     ]
    },
    {
     "name": "stderr",
     "output_type": "stream",
     "text": [
      "ROOT -2024-09-07 02:53:18,032 mechanotransduction - INFO - Solve for time step 65.865316 (2087672043.py:4)\n"
     ]
    },
    {
     "name": "stdout",
     "output_type": "stream",
     "text": [
      "*** Warning: Reading non-scalar data in HDF5 Vector\n",
      "*** Warning: Reading non-scalar data in HDF5 Vector\n",
      "*** Warning: Reading non-scalar data in HDF5 Vector\n",
      "*** Warning: Reading non-scalar data in HDF5 Vector\n",
      "*** Warning: Reading non-scalar data in HDF5 Vector\n",
      "*** Warning: Reading non-scalar data in HDF5 Vector\n",
      "*** Warning: Reading non-scalar data in HDF5 Vector\n",
      "*** Warning: Reading non-scalar data in HDF5 Vector\n"
     ]
    },
    {
     "name": "stderr",
     "output_type": "stream",
     "text": [
      "ROOT -2024-09-07 02:53:42,400 mechanotransduction - INFO - Solve for time step 69.222414 (2087672043.py:4)\n"
     ]
    },
    {
     "name": "stdout",
     "output_type": "stream",
     "text": [
      "*** Warning: Reading non-scalar data in HDF5 Vector\n",
      "*** Warning: Reading non-scalar data in HDF5 Vector\n",
      "*** Warning: Reading non-scalar data in HDF5 Vector\n",
      "*** Warning: Reading non-scalar data in HDF5 Vector\n",
      "*** Warning: Reading non-scalar data in HDF5 Vector\n",
      "*** Warning: Reading non-scalar data in HDF5 Vector\n",
      "*** Warning: Reading non-scalar data in HDF5 Vector\n",
      "*** Warning: Reading non-scalar data in HDF5 Vector\n"
     ]
    },
    {
     "name": "stderr",
     "output_type": "stream",
     "text": [
      "ROOT -2024-09-07 02:54:06,849 mechanotransduction - INFO - Solve for time step 72.747367 (2087672043.py:4)\n"
     ]
    },
    {
     "name": "stdout",
     "output_type": "stream",
     "text": [
      "*** Warning: Reading non-scalar data in HDF5 Vector\n",
      "*** Warning: Reading non-scalar data in HDF5 Vector\n",
      "*** Warning: Reading non-scalar data in HDF5 Vector\n",
      "*** Warning: Reading non-scalar data in HDF5 Vector\n",
      "*** Warning: Reading non-scalar data in HDF5 Vector\n",
      "*** Warning: Reading non-scalar data in HDF5 Vector\n",
      "*** Warning: Reading non-scalar data in HDF5 Vector\n",
      "*** Warning: Reading non-scalar data in HDF5 Vector\n"
     ]
    },
    {
     "name": "stderr",
     "output_type": "stream",
     "text": [
      "ROOT -2024-09-07 02:54:31,346 mechanotransduction - INFO - Solve for time step 76.448568 (2087672043.py:4)\n"
     ]
    },
    {
     "name": "stdout",
     "output_type": "stream",
     "text": [
      "*** Warning: Reading non-scalar data in HDF5 Vector\n",
      "*** Warning: Reading non-scalar data in HDF5 Vector\n",
      "*** Warning: Reading non-scalar data in HDF5 Vector\n",
      "*** Warning: Reading non-scalar data in HDF5 Vector\n",
      "*** Warning: Reading non-scalar data in HDF5 Vector\n",
      "*** Warning: Reading non-scalar data in HDF5 Vector\n",
      "*** Warning: Reading non-scalar data in HDF5 Vector\n",
      "*** Warning: Reading non-scalar data in HDF5 Vector\n"
     ]
    },
    {
     "name": "stderr",
     "output_type": "stream",
     "text": [
      "ROOT -2024-09-07 02:54:55,378 mechanotransduction - INFO - Solve for time step 80.334829 (2087672043.py:4)\n"
     ]
    },
    {
     "name": "stdout",
     "output_type": "stream",
     "text": [
      "*** Warning: Reading non-scalar data in HDF5 Vector\n",
      "*** Warning: Reading non-scalar data in HDF5 Vector\n",
      "*** Warning: Reading non-scalar data in HDF5 Vector\n",
      "*** Warning: Reading non-scalar data in HDF5 Vector\n",
      "*** Warning: Reading non-scalar data in HDF5 Vector\n",
      "*** Warning: Reading non-scalar data in HDF5 Vector\n",
      "*** Warning: Reading non-scalar data in HDF5 Vector\n",
      "*** Warning: Reading non-scalar data in HDF5 Vector\n"
     ]
    },
    {
     "name": "stderr",
     "output_type": "stream",
     "text": [
      "ROOT -2024-09-07 02:55:19,255 mechanotransduction - INFO - Solve for time step 84.415403 (2087672043.py:4)\n"
     ]
    },
    {
     "name": "stdout",
     "output_type": "stream",
     "text": [
      "*** Warning: Reading non-scalar data in HDF5 Vector\n",
      "*** Warning: Reading non-scalar data in HDF5 Vector\n",
      "*** Warning: Reading non-scalar data in HDF5 Vector\n",
      "*** Warning: Reading non-scalar data in HDF5 Vector\n",
      "*** Warning: Reading non-scalar data in HDF5 Vector\n",
      "*** Warning: Reading non-scalar data in HDF5 Vector\n",
      "*** Warning: Reading non-scalar data in HDF5 Vector\n",
      "*** Warning: Reading non-scalar data in HDF5 Vector\n"
     ]
    },
    {
     "name": "stderr",
     "output_type": "stream",
     "text": [
      "ROOT -2024-09-07 02:55:43,149 mechanotransduction - INFO - Solve for time step 88.700006 (2087672043.py:4)\n"
     ]
    },
    {
     "name": "stdout",
     "output_type": "stream",
     "text": [
      "*** Warning: Reading non-scalar data in HDF5 Vector\n",
      "*** Warning: Reading non-scalar data in HDF5 Vector\n",
      "*** Warning: Reading non-scalar data in HDF5 Vector\n",
      "*** Warning: Reading non-scalar data in HDF5 Vector\n",
      "*** Warning: Reading non-scalar data in HDF5 Vector\n",
      "*** Warning: Reading non-scalar data in HDF5 Vector\n",
      "*** Warning: Reading non-scalar data in HDF5 Vector\n",
      "*** Warning: Reading non-scalar data in HDF5 Vector\n"
     ]
    },
    {
     "name": "stderr",
     "output_type": "stream",
     "text": [
      "ROOT -2024-09-07 02:56:07,121 mechanotransduction - INFO - Solve for time step 93.198839 (2087672043.py:4)\n"
     ]
    },
    {
     "name": "stdout",
     "output_type": "stream",
     "text": [
      "*** Warning: Reading non-scalar data in HDF5 Vector\n",
      "*** Warning: Reading non-scalar data in HDF5 Vector\n",
      "*** Warning: Reading non-scalar data in HDF5 Vector\n",
      "*** Warning: Reading non-scalar data in HDF5 Vector\n",
      "*** Warning: Reading non-scalar data in HDF5 Vector\n",
      "*** Warning: Reading non-scalar data in HDF5 Vector\n",
      "*** Warning: Reading non-scalar data in HDF5 Vector\n",
      "*** Warning: Reading non-scalar data in HDF5 Vector\n"
     ]
    },
    {
     "name": "stderr",
     "output_type": "stream",
     "text": [
      "ROOT -2024-09-07 02:56:31,016 mechanotransduction - INFO - Solve for time step 97.922614 (2087672043.py:4)\n"
     ]
    },
    {
     "name": "stdout",
     "output_type": "stream",
     "text": [
      "*** Warning: Reading non-scalar data in HDF5 Vector\n",
      "*** Warning: Reading non-scalar data in HDF5 Vector\n",
      "*** Warning: Reading non-scalar data in HDF5 Vector\n",
      "*** Warning: Reading non-scalar data in HDF5 Vector\n",
      "*** Warning: Reading non-scalar data in HDF5 Vector\n",
      "*** Warning: Reading non-scalar data in HDF5 Vector\n",
      "*** Warning: Reading non-scalar data in HDF5 Vector\n",
      "*** Warning: Reading non-scalar data in HDF5 Vector\n"
     ]
    },
    {
     "name": "stderr",
     "output_type": "stream",
     "text": [
      "ROOT -2024-09-07 02:56:54,983 mechanotransduction - INFO - Solve for time step 102.882578 (2087672043.py:4)\n"
     ]
    },
    {
     "name": "stdout",
     "output_type": "stream",
     "text": [
      "*** Warning: Reading non-scalar data in HDF5 Vector\n",
      "*** Warning: Reading non-scalar data in HDF5 Vector\n",
      "*** Warning: Reading non-scalar data in HDF5 Vector\n",
      "*** Warning: Reading non-scalar data in HDF5 Vector\n",
      "*** Warning: Reading non-scalar data in HDF5 Vector\n",
      "*** Warning: Reading non-scalar data in HDF5 Vector\n",
      "*** Warning: Reading non-scalar data in HDF5 Vector\n",
      "*** Warning: Reading non-scalar data in HDF5 Vector\n"
     ]
    },
    {
     "name": "stderr",
     "output_type": "stream",
     "text": [
      "ROOT -2024-09-07 02:57:18,950 mechanotransduction - INFO - Solve for time step 108.090540 (2087672043.py:4)\n"
     ]
    },
    {
     "name": "stdout",
     "output_type": "stream",
     "text": [
      "*** Warning: Reading non-scalar data in HDF5 Vector\n",
      "*** Warning: Reading non-scalar data in HDF5 Vector\n",
      "*** Warning: Reading non-scalar data in HDF5 Vector\n",
      "*** Warning: Reading non-scalar data in HDF5 Vector\n",
      "*** Warning: Reading non-scalar data in HDF5 Vector\n",
      "*** Warning: Reading non-scalar data in HDF5 Vector\n",
      "*** Warning: Reading non-scalar data in HDF5 Vector\n",
      "*** Warning: Reading non-scalar data in HDF5 Vector\n"
     ]
    },
    {
     "name": "stderr",
     "output_type": "stream",
     "text": [
      "ROOT -2024-09-07 02:57:42,835 mechanotransduction - INFO - Solve for time step 113.558900 (2087672043.py:4)\n"
     ]
    },
    {
     "name": "stdout",
     "output_type": "stream",
     "text": [
      "*** Warning: Reading non-scalar data in HDF5 Vector\n",
      "*** Warning: Reading non-scalar data in HDF5 Vector\n",
      "*** Warning: Reading non-scalar data in HDF5 Vector\n",
      "*** Warning: Reading non-scalar data in HDF5 Vector\n",
      "*** Warning: Reading non-scalar data in HDF5 Vector\n",
      "*** Warning: Reading non-scalar data in HDF5 Vector\n",
      "*** Warning: Reading non-scalar data in HDF5 Vector\n",
      "*** Warning: Reading non-scalar data in HDF5 Vector\n"
     ]
    },
    {
     "name": "stderr",
     "output_type": "stream",
     "text": [
      "ROOT -2024-09-07 02:58:07,258 mechanotransduction - INFO - Solve for time step 119.300678 (2087672043.py:4)\n"
     ]
    },
    {
     "name": "stdout",
     "output_type": "stream",
     "text": [
      "*** Warning: Reading non-scalar data in HDF5 Vector\n",
      "*** Warning: Reading non-scalar data in HDF5 Vector\n",
      "*** Warning: Reading non-scalar data in HDF5 Vector\n",
      "*** Warning: Reading non-scalar data in HDF5 Vector\n",
      "*** Warning: Reading non-scalar data in HDF5 Vector\n",
      "*** Warning: Reading non-scalar data in HDF5 Vector\n",
      "*** Warning: Reading non-scalar data in HDF5 Vector\n",
      "*** Warning: Reading non-scalar data in HDF5 Vector\n"
     ]
    },
    {
     "name": "stderr",
     "output_type": "stream",
     "text": [
      "ROOT -2024-09-07 02:58:31,257 mechanotransduction - INFO - Solve for time step 125.329545 (2087672043.py:4)\n"
     ]
    },
    {
     "name": "stdout",
     "output_type": "stream",
     "text": [
      "*** Warning: Reading non-scalar data in HDF5 Vector\n",
      "*** Warning: Reading non-scalar data in HDF5 Vector\n",
      "*** Warning: Reading non-scalar data in HDF5 Vector\n",
      "*** Warning: Reading non-scalar data in HDF5 Vector\n",
      "*** Warning: Reading non-scalar data in HDF5 Vector\n",
      "*** Warning: Reading non-scalar data in HDF5 Vector\n",
      "*** Warning: Reading non-scalar data in HDF5 Vector\n",
      "*** Warning: Reading non-scalar data in HDF5 Vector\n"
     ]
    },
    {
     "name": "stderr",
     "output_type": "stream",
     "text": [
      "ROOT -2024-09-07 02:58:55,482 mechanotransduction - INFO - Solve for time step 131.659855 (2087672043.py:4)\n"
     ]
    },
    {
     "name": "stdout",
     "output_type": "stream",
     "text": [
      "*** Warning: Reading non-scalar data in HDF5 Vector\n",
      "*** Warning: Reading non-scalar data in HDF5 Vector\n",
      "*** Warning: Reading non-scalar data in HDF5 Vector\n",
      "*** Warning: Reading non-scalar data in HDF5 Vector\n",
      "*** Warning: Reading non-scalar data in HDF5 Vector\n",
      "*** Warning: Reading non-scalar data in HDF5 Vector\n",
      "*** Warning: Reading non-scalar data in HDF5 Vector\n",
      "*** Warning: Reading non-scalar data in HDF5 Vector\n"
     ]
    },
    {
     "name": "stderr",
     "output_type": "stream",
     "text": [
      "ROOT -2024-09-07 02:59:19,851 mechanotransduction - INFO - Solve for time step 138.306681 (2087672043.py:4)\n"
     ]
    },
    {
     "name": "stdout",
     "output_type": "stream",
     "text": [
      "*** Warning: Reading non-scalar data in HDF5 Vector\n",
      "*** Warning: Reading non-scalar data in HDF5 Vector\n",
      "*** Warning: Reading non-scalar data in HDF5 Vector\n",
      "*** Warning: Reading non-scalar data in HDF5 Vector\n",
      "*** Warning: Reading non-scalar data in HDF5 Vector\n",
      "*** Warning: Reading non-scalar data in HDF5 Vector\n",
      "*** Warning: Reading non-scalar data in HDF5 Vector\n",
      "*** Warning: Reading non-scalar data in HDF5 Vector\n"
     ]
    },
    {
     "name": "stderr",
     "output_type": "stream",
     "text": [
      "ROOT -2024-09-07 02:59:44,097 mechanotransduction - INFO - Solve for time step 145.285848 (2087672043.py:4)\n"
     ]
    },
    {
     "name": "stdout",
     "output_type": "stream",
     "text": [
      "*** Warning: Reading non-scalar data in HDF5 Vector\n",
      "*** Warning: Reading non-scalar data in HDF5 Vector\n",
      "*** Warning: Reading non-scalar data in HDF5 Vector\n",
      "*** Warning: Reading non-scalar data in HDF5 Vector\n",
      "*** Warning: Reading non-scalar data in HDF5 Vector\n",
      "*** Warning: Reading non-scalar data in HDF5 Vector\n",
      "*** Warning: Reading non-scalar data in HDF5 Vector\n",
      "*** Warning: Reading non-scalar data in HDF5 Vector\n"
     ]
    },
    {
     "name": "stderr",
     "output_type": "stream",
     "text": [
      "ROOT -2024-09-07 03:00:08,363 mechanotransduction - INFO - Solve for time step 152.613973 (2087672043.py:4)\n"
     ]
    },
    {
     "name": "stdout",
     "output_type": "stream",
     "text": [
      "*** Warning: Reading non-scalar data in HDF5 Vector\n",
      "*** Warning: Reading non-scalar data in HDF5 Vector\n",
      "*** Warning: Reading non-scalar data in HDF5 Vector\n",
      "*** Warning: Reading non-scalar data in HDF5 Vector\n",
      "*** Warning: Reading non-scalar data in HDF5 Vector\n",
      "*** Warning: Reading non-scalar data in HDF5 Vector\n",
      "*** Warning: Reading non-scalar data in HDF5 Vector\n",
      "*** Warning: Reading non-scalar data in HDF5 Vector\n"
     ]
    },
    {
     "name": "stderr",
     "output_type": "stream",
     "text": [
      "ROOT -2024-09-07 03:00:32,661 mechanotransduction - INFO - Solve for time step 160.308504 (2087672043.py:4)\n"
     ]
    },
    {
     "name": "stdout",
     "output_type": "stream",
     "text": [
      "*** Warning: Reading non-scalar data in HDF5 Vector\n",
      "*** Warning: Reading non-scalar data in HDF5 Vector\n",
      "*** Warning: Reading non-scalar data in HDF5 Vector\n",
      "*** Warning: Reading non-scalar data in HDF5 Vector\n",
      "*** Warning: Reading non-scalar data in HDF5 Vector\n",
      "*** Warning: Reading non-scalar data in HDF5 Vector\n",
      "*** Warning: Reading non-scalar data in HDF5 Vector\n",
      "*** Warning: Reading non-scalar data in HDF5 Vector\n"
     ]
    },
    {
     "name": "stderr",
     "output_type": "stream",
     "text": [
      "ROOT -2024-09-07 03:00:56,833 mechanotransduction - INFO - Solve for time step 168.387762 (2087672043.py:4)\n"
     ]
    },
    {
     "name": "stdout",
     "output_type": "stream",
     "text": [
      "*** Warning: Reading non-scalar data in HDF5 Vector\n",
      "*** Warning: Reading non-scalar data in HDF5 Vector\n",
      "*** Warning: Reading non-scalar data in HDF5 Vector\n",
      "*** Warning: Reading non-scalar data in HDF5 Vector\n",
      "*** Warning: Reading non-scalar data in HDF5 Vector\n",
      "*** Warning: Reading non-scalar data in HDF5 Vector\n",
      "*** Warning: Reading non-scalar data in HDF5 Vector\n",
      "*** Warning: Reading non-scalar data in HDF5 Vector\n"
     ]
    },
    {
     "name": "stderr",
     "output_type": "stream",
     "text": [
      "ROOT -2024-09-07 03:01:20,996 mechanotransduction - INFO - Solve for time step 176.870983 (2087672043.py:4)\n"
     ]
    },
    {
     "name": "stdout",
     "output_type": "stream",
     "text": [
      "*** Warning: Reading non-scalar data in HDF5 Vector\n",
      "*** Warning: Reading non-scalar data in HDF5 Vector\n",
      "*** Warning: Reading non-scalar data in HDF5 Vector\n",
      "*** Warning: Reading non-scalar data in HDF5 Vector\n",
      "*** Warning: Reading non-scalar data in HDF5 Vector\n",
      "*** Warning: Reading non-scalar data in HDF5 Vector\n",
      "*** Warning: Reading non-scalar data in HDF5 Vector\n",
      "*** Warning: Reading non-scalar data in HDF5 Vector\n"
     ]
    },
    {
     "name": "stderr",
     "output_type": "stream",
     "text": [
      "ROOT -2024-09-07 03:01:45,192 mechanotransduction - INFO - Solve for time step 185.778365 (2087672043.py:4)\n"
     ]
    },
    {
     "name": "stdout",
     "output_type": "stream",
     "text": [
      "*** Warning: Reading non-scalar data in HDF5 Vector\n",
      "*** Warning: Reading non-scalar data in HDF5 Vector\n",
      "*** Warning: Reading non-scalar data in HDF5 Vector\n",
      "*** Warning: Reading non-scalar data in HDF5 Vector\n",
      "*** Warning: Reading non-scalar data in HDF5 Vector\n",
      "*** Warning: Reading non-scalar data in HDF5 Vector\n",
      "*** Warning: Reading non-scalar data in HDF5 Vector\n",
      "*** Warning: Reading non-scalar data in HDF5 Vector\n"
     ]
    },
    {
     "name": "stderr",
     "output_type": "stream",
     "text": [
      "ROOT -2024-09-07 03:02:09,390 mechanotransduction - INFO - Solve for time step 195.131116 (2087672043.py:4)\n"
     ]
    },
    {
     "name": "stdout",
     "output_type": "stream",
     "text": [
      "*** Warning: Reading non-scalar data in HDF5 Vector\n",
      "*** Warning: Reading non-scalar data in HDF5 Vector\n",
      "*** Warning: Reading non-scalar data in HDF5 Vector\n",
      "*** Warning: Reading non-scalar data in HDF5 Vector\n",
      "*** Warning: Reading non-scalar data in HDF5 Vector\n",
      "*** Warning: Reading non-scalar data in HDF5 Vector\n",
      "*** Warning: Reading non-scalar data in HDF5 Vector\n",
      "*** Warning: Reading non-scalar data in HDF5 Vector\n"
     ]
    },
    {
     "name": "stderr",
     "output_type": "stream",
     "text": [
      "ROOT -2024-09-07 03:02:34,034 mechanotransduction - INFO - Solve for time step 204.951505 (2087672043.py:4)\n"
     ]
    },
    {
     "name": "stdout",
     "output_type": "stream",
     "text": [
      "*** Warning: Reading non-scalar data in HDF5 Vector\n",
      "*** Warning: Reading non-scalar data in HDF5 Vector\n",
      "*** Warning: Reading non-scalar data in HDF5 Vector\n",
      "*** Warning: Reading non-scalar data in HDF5 Vector\n",
      "*** Warning: Reading non-scalar data in HDF5 Vector\n",
      "*** Warning: Reading non-scalar data in HDF5 Vector\n",
      "*** Warning: Reading non-scalar data in HDF5 Vector\n",
      "*** Warning: Reading non-scalar data in HDF5 Vector\n"
     ]
    },
    {
     "name": "stderr",
     "output_type": "stream",
     "text": [
      "ROOT -2024-09-07 03:02:58,422 mechanotransduction - INFO - Solve for time step 215.262913 (2087672043.py:4)\n"
     ]
    },
    {
     "name": "stdout",
     "output_type": "stream",
     "text": [
      "*** Warning: Reading non-scalar data in HDF5 Vector\n",
      "*** Warning: Reading non-scalar data in HDF5 Vector\n",
      "*** Warning: Reading non-scalar data in HDF5 Vector\n",
      "*** Warning: Reading non-scalar data in HDF5 Vector\n",
      "*** Warning: Reading non-scalar data in HDF5 Vector\n",
      "*** Warning: Reading non-scalar data in HDF5 Vector\n",
      "*** Warning: Reading non-scalar data in HDF5 Vector\n",
      "*** Warning: Reading non-scalar data in HDF5 Vector\n"
     ]
    },
    {
     "name": "stderr",
     "output_type": "stream",
     "text": [
      "ROOT -2024-09-07 03:03:22,784 mechanotransduction - INFO - Solve for time step 226.089891 (2087672043.py:4)\n"
     ]
    },
    {
     "name": "stdout",
     "output_type": "stream",
     "text": [
      "*** Warning: Reading non-scalar data in HDF5 Vector\n",
      "*** Warning: Reading non-scalar data in HDF5 Vector\n",
      "*** Warning: Reading non-scalar data in HDF5 Vector\n",
      "*** Warning: Reading non-scalar data in HDF5 Vector\n",
      "*** Warning: Reading non-scalar data in HDF5 Vector\n",
      "*** Warning: Reading non-scalar data in HDF5 Vector\n",
      "*** Warning: Reading non-scalar data in HDF5 Vector\n",
      "*** Warning: Reading non-scalar data in HDF5 Vector\n"
     ]
    },
    {
     "name": "stderr",
     "output_type": "stream",
     "text": [
      "ROOT -2024-09-07 03:03:47,191 mechanotransduction - INFO - Solve for time step 237.458218 (2087672043.py:4)\n"
     ]
    },
    {
     "name": "stdout",
     "output_type": "stream",
     "text": [
      "*** Warning: Reading non-scalar data in HDF5 Vector\n",
      "*** Warning: Reading non-scalar data in HDF5 Vector\n",
      "*** Warning: Reading non-scalar data in HDF5 Vector\n",
      "*** Warning: Reading non-scalar data in HDF5 Vector\n",
      "*** Warning: Reading non-scalar data in HDF5 Vector\n",
      "*** Warning: Reading non-scalar data in HDF5 Vector\n",
      "*** Warning: Reading non-scalar data in HDF5 Vector\n",
      "*** Warning: Reading non-scalar data in HDF5 Vector\n"
     ]
    },
    {
     "name": "stderr",
     "output_type": "stream",
     "text": [
      "ROOT -2024-09-07 03:04:11,735 mechanotransduction - INFO - Solve for time step 249.394961 (2087672043.py:4)\n"
     ]
    },
    {
     "name": "stdout",
     "output_type": "stream",
     "text": [
      "*** Warning: Reading non-scalar data in HDF5 Vector\n",
      "*** Warning: Reading non-scalar data in HDF5 Vector\n",
      "*** Warning: Reading non-scalar data in HDF5 Vector\n",
      "*** Warning: Reading non-scalar data in HDF5 Vector\n",
      "*** Warning: Reading non-scalar data in HDF5 Vector\n",
      "*** Warning: Reading non-scalar data in HDF5 Vector\n",
      "*** Warning: Reading non-scalar data in HDF5 Vector\n",
      "*** Warning: Reading non-scalar data in HDF5 Vector\n"
     ]
    },
    {
     "name": "stderr",
     "output_type": "stream",
     "text": [
      "ROOT -2024-09-07 03:04:35,825 mechanotransduction - INFO - Solve for time step 261.928541 (2087672043.py:4)\n"
     ]
    },
    {
     "name": "stdout",
     "output_type": "stream",
     "text": [
      "*** Warning: Reading non-scalar data in HDF5 Vector\n",
      "*** Warning: Reading non-scalar data in HDF5 Vector\n",
      "*** Warning: Reading non-scalar data in HDF5 Vector\n",
      "*** Warning: Reading non-scalar data in HDF5 Vector\n",
      "*** Warning: Reading non-scalar data in HDF5 Vector\n",
      "*** Warning: Reading non-scalar data in HDF5 Vector\n",
      "*** Warning: Reading non-scalar data in HDF5 Vector\n",
      "*** Warning: Reading non-scalar data in HDF5 Vector\n"
     ]
    },
    {
     "name": "stderr",
     "output_type": "stream",
     "text": [
      "ROOT -2024-09-07 03:05:00,024 mechanotransduction - INFO - Solve for time step 275.088800 (2087672043.py:4)\n"
     ]
    },
    {
     "name": "stdout",
     "output_type": "stream",
     "text": [
      "*** Warning: Reading non-scalar data in HDF5 Vector\n",
      "*** Warning: Reading non-scalar data in HDF5 Vector\n",
      "*** Warning: Reading non-scalar data in HDF5 Vector\n",
      "*** Warning: Reading non-scalar data in HDF5 Vector\n",
      "*** Warning: Reading non-scalar data in HDF5 Vector\n",
      "*** Warning: Reading non-scalar data in HDF5 Vector\n",
      "*** Warning: Reading non-scalar data in HDF5 Vector\n",
      "*** Warning: Reading non-scalar data in HDF5 Vector\n"
     ]
    },
    {
     "name": "stderr",
     "output_type": "stream",
     "text": [
      "ROOT -2024-09-07 03:05:24,181 mechanotransduction - INFO - Solve for time step 288.907072 (2087672043.py:4)\n"
     ]
    },
    {
     "name": "stdout",
     "output_type": "stream",
     "text": [
      "*** Warning: Reading non-scalar data in HDF5 Vector\n",
      "*** Warning: Reading non-scalar data in HDF5 Vector\n",
      "*** Warning: Reading non-scalar data in HDF5 Vector\n",
      "*** Warning: Reading non-scalar data in HDF5 Vector\n",
      "*** Warning: Reading non-scalar data in HDF5 Vector\n",
      "*** Warning: Reading non-scalar data in HDF5 Vector\n",
      "*** Warning: Reading non-scalar data in HDF5 Vector\n",
      "*** Warning: Reading non-scalar data in HDF5 Vector\n"
     ]
    },
    {
     "name": "stderr",
     "output_type": "stream",
     "text": [
      "ROOT -2024-09-07 03:05:48,508 mechanotransduction - INFO - Solve for time step 303.416258 (2087672043.py:4)\n"
     ]
    },
    {
     "name": "stdout",
     "output_type": "stream",
     "text": [
      "*** Warning: Reading non-scalar data in HDF5 Vector\n",
      "*** Warning: Reading non-scalar data in HDF5 Vector\n",
      "*** Warning: Reading non-scalar data in HDF5 Vector\n",
      "*** Warning: Reading non-scalar data in HDF5 Vector\n",
      "*** Warning: Reading non-scalar data in HDF5 Vector\n",
      "*** Warning: Reading non-scalar data in HDF5 Vector\n",
      "*** Warning: Reading non-scalar data in HDF5 Vector\n",
      "*** Warning: Reading non-scalar data in HDF5 Vector\n"
     ]
    },
    {
     "name": "stderr",
     "output_type": "stream",
     "text": [
      "ROOT -2024-09-07 03:06:13,011 mechanotransduction - INFO - Solve for time step 318.650903 (2087672043.py:4)\n"
     ]
    },
    {
     "name": "stdout",
     "output_type": "stream",
     "text": [
      "*** Warning: Reading non-scalar data in HDF5 Vector\n",
      "*** Warning: Reading non-scalar data in HDF5 Vector\n",
      "*** Warning: Reading non-scalar data in HDF5 Vector\n",
      "*** Warning: Reading non-scalar data in HDF5 Vector\n",
      "*** Warning: Reading non-scalar data in HDF5 Vector\n",
      "*** Warning: Reading non-scalar data in HDF5 Vector\n",
      "*** Warning: Reading non-scalar data in HDF5 Vector\n",
      "*** Warning: Reading non-scalar data in HDF5 Vector\n"
     ]
    },
    {
     "name": "stderr",
     "output_type": "stream",
     "text": [
      "ROOT -2024-09-07 03:06:37,217 mechanotransduction - INFO - Solve for time step 334.647280 (2087672043.py:4)\n"
     ]
    },
    {
     "name": "stdout",
     "output_type": "stream",
     "text": [
      "*** Warning: Reading non-scalar data in HDF5 Vector\n",
      "*** Warning: Reading non-scalar data in HDF5 Vector\n",
      "*** Warning: Reading non-scalar data in HDF5 Vector\n",
      "*** Warning: Reading non-scalar data in HDF5 Vector\n",
      "*** Warning: Reading non-scalar data in HDF5 Vector\n",
      "*** Warning: Reading non-scalar data in HDF5 Vector\n",
      "*** Warning: Reading non-scalar data in HDF5 Vector\n",
      "*** Warning: Reading non-scalar data in HDF5 Vector\n"
     ]
    },
    {
     "name": "stderr",
     "output_type": "stream",
     "text": [
      "ROOT -2024-09-07 03:07:01,414 mechanotransduction - INFO - Solve for time step 351.443476 (2087672043.py:4)\n"
     ]
    },
    {
     "name": "stdout",
     "output_type": "stream",
     "text": [
      "*** Warning: Reading non-scalar data in HDF5 Vector\n",
      "*** Warning: Reading non-scalar data in HDF5 Vector\n",
      "*** Warning: Reading non-scalar data in HDF5 Vector\n",
      "*** Warning: Reading non-scalar data in HDF5 Vector\n",
      "*** Warning: Reading non-scalar data in HDF5 Vector\n",
      "*** Warning: Reading non-scalar data in HDF5 Vector\n",
      "*** Warning: Reading non-scalar data in HDF5 Vector\n",
      "*** Warning: Reading non-scalar data in HDF5 Vector\n"
     ]
    },
    {
     "name": "stderr",
     "output_type": "stream",
     "text": [
      "ROOT -2024-09-07 03:07:25,624 mechanotransduction - INFO - Solve for time step 369.079482 (2087672043.py:4)\n"
     ]
    },
    {
     "name": "stdout",
     "output_type": "stream",
     "text": [
      "*** Warning: Reading non-scalar data in HDF5 Vector\n",
      "*** Warning: Reading non-scalar data in HDF5 Vector\n",
      "*** Warning: Reading non-scalar data in HDF5 Vector\n",
      "*** Warning: Reading non-scalar data in HDF5 Vector\n",
      "*** Warning: Reading non-scalar data in HDF5 Vector\n",
      "*** Warning: Reading non-scalar data in HDF5 Vector\n",
      "*** Warning: Reading non-scalar data in HDF5 Vector\n",
      "*** Warning: Reading non-scalar data in HDF5 Vector\n"
     ]
    },
    {
     "name": "stderr",
     "output_type": "stream",
     "text": [
      "ROOT -2024-09-07 03:07:50,208 mechanotransduction - INFO - Solve for time step 387.597288 (2087672043.py:4)\n"
     ]
    },
    {
     "name": "stdout",
     "output_type": "stream",
     "text": [
      "*** Warning: Reading non-scalar data in HDF5 Vector\n",
      "*** Warning: Reading non-scalar data in HDF5 Vector\n",
      "*** Warning: Reading non-scalar data in HDF5 Vector\n",
      "*** Warning: Reading non-scalar data in HDF5 Vector\n",
      "*** Warning: Reading non-scalar data in HDF5 Vector\n",
      "*** Warning: Reading non-scalar data in HDF5 Vector\n",
      "*** Warning: Reading non-scalar data in HDF5 Vector\n",
      "*** Warning: Reading non-scalar data in HDF5 Vector\n"
     ]
    },
    {
     "name": "stderr",
     "output_type": "stream",
     "text": [
      "ROOT -2024-09-07 03:08:14,382 mechanotransduction - INFO - Solve for time step 407.040984 (2087672043.py:4)\n"
     ]
    },
    {
     "name": "stdout",
     "output_type": "stream",
     "text": [
      "*** Warning: Reading non-scalar data in HDF5 Vector\n",
      "*** Warning: Reading non-scalar data in HDF5 Vector\n",
      "*** Warning: Reading non-scalar data in HDF5 Vector\n",
      "*** Warning: Reading non-scalar data in HDF5 Vector\n",
      "*** Warning: Reading non-scalar data in HDF5 Vector\n",
      "*** Warning: Reading non-scalar data in HDF5 Vector\n",
      "*** Warning: Reading non-scalar data in HDF5 Vector\n",
      "*** Warning: Reading non-scalar data in HDF5 Vector\n"
     ]
    },
    {
     "name": "stderr",
     "output_type": "stream",
     "text": [
      "ROOT -2024-09-07 03:08:38,865 mechanotransduction - INFO - Solve for time step 427.456865 (2087672043.py:4)\n"
     ]
    },
    {
     "name": "stdout",
     "output_type": "stream",
     "text": [
      "*** Warning: Reading non-scalar data in HDF5 Vector\n",
      "*** Warning: Reading non-scalar data in HDF5 Vector\n",
      "*** Warning: Reading non-scalar data in HDF5 Vector\n",
      "*** Warning: Reading non-scalar data in HDF5 Vector\n",
      "*** Warning: Reading non-scalar data in HDF5 Vector\n",
      "*** Warning: Reading non-scalar data in HDF5 Vector\n",
      "*** Warning: Reading non-scalar data in HDF5 Vector\n",
      "*** Warning: Reading non-scalar data in HDF5 Vector\n"
     ]
    },
    {
     "name": "stderr",
     "output_type": "stream",
     "text": [
      "ROOT -2024-09-07 03:09:03,074 mechanotransduction - INFO - Solve for time step 448.893540 (2087672043.py:4)\n"
     ]
    },
    {
     "name": "stdout",
     "output_type": "stream",
     "text": [
      "*** Warning: Reading non-scalar data in HDF5 Vector\n",
      "*** Warning: Reading non-scalar data in HDF5 Vector\n",
      "*** Warning: Reading non-scalar data in HDF5 Vector\n",
      "*** Warning: Reading non-scalar data in HDF5 Vector\n",
      "*** Warning: Reading non-scalar data in HDF5 Vector\n",
      "*** Warning: Reading non-scalar data in HDF5 Vector\n",
      "*** Warning: Reading non-scalar data in HDF5 Vector\n",
      "*** Warning: Reading non-scalar data in HDF5 Vector\n"
     ]
    },
    {
     "name": "stderr",
     "output_type": "stream",
     "text": [
      "ROOT -2024-09-07 03:09:27,224 mechanotransduction - INFO - Solve for time step 471.402049 (2087672043.py:4)\n"
     ]
    },
    {
     "name": "stdout",
     "output_type": "stream",
     "text": [
      "*** Warning: Reading non-scalar data in HDF5 Vector\n",
      "*** Warning: Reading non-scalar data in HDF5 Vector\n",
      "*** Warning: Reading non-scalar data in HDF5 Vector\n",
      "*** Warning: Reading non-scalar data in HDF5 Vector\n",
      "*** Warning: Reading non-scalar data in HDF5 Vector\n",
      "*** Warning: Reading non-scalar data in HDF5 Vector\n",
      "*** Warning: Reading non-scalar data in HDF5 Vector\n",
      "*** Warning: Reading non-scalar data in HDF5 Vector\n"
     ]
    },
    {
     "name": "stderr",
     "output_type": "stream",
     "text": [
      "ROOT -2024-09-07 03:09:51,380 mechanotransduction - INFO - Solve for time step 495.035983 (2087672043.py:4)\n"
     ]
    },
    {
     "name": "stdout",
     "output_type": "stream",
     "text": [
      "*** Warning: Reading non-scalar data in HDF5 Vector\n",
      "*** Warning: Reading non-scalar data in HDF5 Vector\n",
      "*** Warning: Reading non-scalar data in HDF5 Vector\n",
      "*** Warning: Reading non-scalar data in HDF5 Vector\n",
      "*** Warning: Reading non-scalar data in HDF5 Vector\n",
      "*** Warning: Reading non-scalar data in HDF5 Vector\n",
      "*** Warning: Reading non-scalar data in HDF5 Vector\n",
      "*** Warning: Reading non-scalar data in HDF5 Vector\n"
     ]
    },
    {
     "name": "stderr",
     "output_type": "stream",
     "text": [
      "ROOT -2024-09-07 03:10:15,513 mechanotransduction - INFO - Solve for time step 519.851614 (2087672043.py:4)\n"
     ]
    },
    {
     "name": "stdout",
     "output_type": "stream",
     "text": [
      "*** Warning: Reading non-scalar data in HDF5 Vector\n",
      "*** Warning: Reading non-scalar data in HDF5 Vector\n",
      "*** Warning: Reading non-scalar data in HDF5 Vector\n",
      "*** Warning: Reading non-scalar data in HDF5 Vector\n",
      "*** Warning: Reading non-scalar data in HDF5 Vector\n",
      "*** Warning: Reading non-scalar data in HDF5 Vector\n",
      "*** Warning: Reading non-scalar data in HDF5 Vector\n",
      "*** Warning: Reading non-scalar data in HDF5 Vector\n"
     ]
    },
    {
     "name": "stderr",
     "output_type": "stream",
     "text": [
      "ROOT -2024-09-07 03:10:39,568 mechanotransduction - INFO - Solve for time step 545.908027 (2087672043.py:4)\n"
     ]
    },
    {
     "name": "stdout",
     "output_type": "stream",
     "text": [
      "*** Warning: Reading non-scalar data in HDF5 Vector\n",
      "*** Warning: Reading non-scalar data in HDF5 Vector\n",
      "*** Warning: Reading non-scalar data in HDF5 Vector\n",
      "*** Warning: Reading non-scalar data in HDF5 Vector\n",
      "*** Warning: Reading non-scalar data in HDF5 Vector\n",
      "*** Warning: Reading non-scalar data in HDF5 Vector\n",
      "*** Warning: Reading non-scalar data in HDF5 Vector\n",
      "*** Warning: Reading non-scalar data in HDF5 Vector\n"
     ]
    },
    {
     "name": "stderr",
     "output_type": "stream",
     "text": [
      "ROOT -2024-09-07 03:11:03,712 mechanotransduction - INFO - Solve for time step 573.267261 (2087672043.py:4)\n"
     ]
    },
    {
     "name": "stdout",
     "output_type": "stream",
     "text": [
      "*** Warning: Reading non-scalar data in HDF5 Vector\n",
      "*** Warning: Reading non-scalar data in HDF5 Vector\n",
      "*** Warning: Reading non-scalar data in HDF5 Vector\n",
      "*** Warning: Reading non-scalar data in HDF5 Vector\n",
      "*** Warning: Reading non-scalar data in HDF5 Vector\n",
      "*** Warning: Reading non-scalar data in HDF5 Vector\n",
      "*** Warning: Reading non-scalar data in HDF5 Vector\n",
      "*** Warning: Reading non-scalar data in HDF5 Vector\n"
     ]
    },
    {
     "name": "stderr",
     "output_type": "stream",
     "text": [
      "ROOT -2024-09-07 03:11:27,569 mechanotransduction - INFO - Solve for time step 601.994457 (2087672043.py:4)\n"
     ]
    },
    {
     "name": "stdout",
     "output_type": "stream",
     "text": [
      "*** Warning: Reading non-scalar data in HDF5 Vector\n",
      "*** Warning: Reading non-scalar data in HDF5 Vector\n",
      "*** Warning: Reading non-scalar data in HDF5 Vector\n",
      "*** Warning: Reading non-scalar data in HDF5 Vector\n",
      "*** Warning: Reading non-scalar data in HDF5 Vector\n",
      "*** Warning: Reading non-scalar data in HDF5 Vector\n",
      "*** Warning: Reading non-scalar data in HDF5 Vector\n",
      "*** Warning: Reading non-scalar data in HDF5 Vector\n"
     ]
    },
    {
     "name": "stderr",
     "output_type": "stream",
     "text": [
      "ROOT -2024-09-07 03:11:51,415 mechanotransduction - INFO - Solve for time step 632.158013 (2087672043.py:4)\n"
     ]
    },
    {
     "name": "stdout",
     "output_type": "stream",
     "text": [
      "*** Warning: Reading non-scalar data in HDF5 Vector\n",
      "*** Warning: Reading non-scalar data in HDF5 Vector\n",
      "*** Warning: Reading non-scalar data in HDF5 Vector\n",
      "*** Warning: Reading non-scalar data in HDF5 Vector\n",
      "*** Warning: Reading non-scalar data in HDF5 Vector\n",
      "*** Warning: Reading non-scalar data in HDF5 Vector\n",
      "*** Warning: Reading non-scalar data in HDF5 Vector\n",
      "*** Warning: Reading non-scalar data in HDF5 Vector\n"
     ]
    },
    {
     "name": "stderr",
     "output_type": "stream",
     "text": [
      "ROOT -2024-09-07 03:12:15,359 mechanotransduction - INFO - Solve for time step 663.829747 (2087672043.py:4)\n"
     ]
    },
    {
     "name": "stdout",
     "output_type": "stream",
     "text": [
      "*** Warning: Reading non-scalar data in HDF5 Vector\n",
      "*** Warning: Reading non-scalar data in HDF5 Vector\n",
      "*** Warning: Reading non-scalar data in HDF5 Vector\n",
      "*** Warning: Reading non-scalar data in HDF5 Vector\n",
      "*** Warning: Reading non-scalar data in HDF5 Vector\n",
      "*** Warning: Reading non-scalar data in HDF5 Vector\n",
      "*** Warning: Reading non-scalar data in HDF5 Vector\n",
      "*** Warning: Reading non-scalar data in HDF5 Vector\n"
     ]
    },
    {
     "name": "stderr",
     "output_type": "stream",
     "text": [
      "ROOT -2024-09-07 03:12:39,410 mechanotransduction - INFO - Solve for time step 697.085068 (2087672043.py:4)\n"
     ]
    },
    {
     "name": "stdout",
     "output_type": "stream",
     "text": [
      "*** Warning: Reading non-scalar data in HDF5 Vector\n",
      "*** Warning: Reading non-scalar data in HDF5 Vector\n",
      "*** Warning: Reading non-scalar data in HDF5 Vector\n",
      "*** Warning: Reading non-scalar data in HDF5 Vector\n",
      "*** Warning: Reading non-scalar data in HDF5 Vector\n",
      "*** Warning: Reading non-scalar data in HDF5 Vector\n",
      "*** Warning: Reading non-scalar data in HDF5 Vector\n",
      "*** Warning: Reading non-scalar data in HDF5 Vector\n"
     ]
    },
    {
     "name": "stderr",
     "output_type": "stream",
     "text": [
      "ROOT -2024-09-07 03:13:03,454 mechanotransduction - INFO - Solve for time step 732.003155 (2087672043.py:4)\n"
     ]
    },
    {
     "name": "stdout",
     "output_type": "stream",
     "text": [
      "*** Warning: Reading non-scalar data in HDF5 Vector\n",
      "*** Warning: Reading non-scalar data in HDF5 Vector\n",
      "*** Warning: Reading non-scalar data in HDF5 Vector\n",
      "*** Warning: Reading non-scalar data in HDF5 Vector\n",
      "*** Warning: Reading non-scalar data in HDF5 Vector\n",
      "*** Warning: Reading non-scalar data in HDF5 Vector\n",
      "*** Warning: Reading non-scalar data in HDF5 Vector\n",
      "*** Warning: Reading non-scalar data in HDF5 Vector\n"
     ]
    },
    {
     "name": "stderr",
     "output_type": "stream",
     "text": [
      "ROOT -2024-09-07 03:13:27,494 mechanotransduction - INFO - Solve for time step 768.667146 (2087672043.py:4)\n"
     ]
    },
    {
     "name": "stdout",
     "output_type": "stream",
     "text": [
      "*** Warning: Reading non-scalar data in HDF5 Vector\n",
      "*** Warning: Reading non-scalar data in HDF5 Vector\n",
      "*** Warning: Reading non-scalar data in HDF5 Vector\n",
      "*** Warning: Reading non-scalar data in HDF5 Vector\n",
      "*** Warning: Reading non-scalar data in HDF5 Vector\n",
      "*** Warning: Reading non-scalar data in HDF5 Vector\n",
      "*** Warning: Reading non-scalar data in HDF5 Vector\n",
      "*** Warning: Reading non-scalar data in HDF5 Vector\n"
     ]
    },
    {
     "name": "stderr",
     "output_type": "stream",
     "text": [
      "ROOT -2024-09-07 03:13:51,441 mechanotransduction - INFO - Solve for time step 807.164337 (2087672043.py:4)\n"
     ]
    },
    {
     "name": "stdout",
     "output_type": "stream",
     "text": [
      "*** Warning: Reading non-scalar data in HDF5 Vector\n",
      "*** Warning: Reading non-scalar data in HDF5 Vector\n",
      "*** Warning: Reading non-scalar data in HDF5 Vector\n",
      "*** Warning: Reading non-scalar data in HDF5 Vector\n",
      "*** Warning: Reading non-scalar data in HDF5 Vector\n",
      "*** Warning: Reading non-scalar data in HDF5 Vector\n",
      "*** Warning: Reading non-scalar data in HDF5 Vector\n",
      "*** Warning: Reading non-scalar data in HDF5 Vector\n"
     ]
    },
    {
     "name": "stderr",
     "output_type": "stream",
     "text": [
      "ROOT -2024-09-07 03:14:15,728 mechanotransduction - INFO - Solve for time step 847.586388 (2087672043.py:4)\n"
     ]
    },
    {
     "name": "stdout",
     "output_type": "stream",
     "text": [
      "*** Warning: Reading non-scalar data in HDF5 Vector\n",
      "*** Warning: Reading non-scalar data in HDF5 Vector\n",
      "*** Warning: Reading non-scalar data in HDF5 Vector\n",
      "*** Warning: Reading non-scalar data in HDF5 Vector\n",
      "*** Warning: Reading non-scalar data in HDF5 Vector\n",
      "*** Warning: Reading non-scalar data in HDF5 Vector\n",
      "*** Warning: Reading non-scalar data in HDF5 Vector\n",
      "*** Warning: Reading non-scalar data in HDF5 Vector\n"
     ]
    },
    {
     "name": "stderr",
     "output_type": "stream",
     "text": [
      "ROOT -2024-09-07 03:14:39,536 mechanotransduction - INFO - Solve for time step 890.029542 (2087672043.py:4)\n"
     ]
    },
    {
     "name": "stdout",
     "output_type": "stream",
     "text": [
      "*** Warning: Reading non-scalar data in HDF5 Vector\n",
      "*** Warning: Reading non-scalar data in HDF5 Vector\n",
      "*** Warning: Reading non-scalar data in HDF5 Vector\n",
      "*** Warning: Reading non-scalar data in HDF5 Vector\n",
      "*** Warning: Reading non-scalar data in HDF5 Vector\n",
      "*** Warning: Reading non-scalar data in HDF5 Vector\n",
      "*** Warning: Reading non-scalar data in HDF5 Vector\n",
      "*** Warning: Reading non-scalar data in HDF5 Vector\n"
     ]
    },
    {
     "name": "stderr",
     "output_type": "stream",
     "text": [
      "ROOT -2024-09-07 03:15:03,959 mechanotransduction - INFO - Solve for time step 934.594854 (2087672043.py:4)\n"
     ]
    },
    {
     "name": "stdout",
     "output_type": "stream",
     "text": [
      "*** Warning: Reading non-scalar data in HDF5 Vector\n",
      "*** Warning: Reading non-scalar data in HDF5 Vector\n",
      "*** Warning: Reading non-scalar data in HDF5 Vector\n",
      "*** Warning: Reading non-scalar data in HDF5 Vector\n",
      "*** Warning: Reading non-scalar data in HDF5 Vector\n",
      "*** Warning: Reading non-scalar data in HDF5 Vector\n",
      "*** Warning: Reading non-scalar data in HDF5 Vector\n",
      "*** Warning: Reading non-scalar data in HDF5 Vector\n"
     ]
    },
    {
     "name": "stderr",
     "output_type": "stream",
     "text": [
      "ROOT -2024-09-07 03:15:28,440 mechanotransduction - INFO - Solve for time step 981.388432 (2087672043.py:4)\n"
     ]
    },
    {
     "name": "stdout",
     "output_type": "stream",
     "text": [
      "*** Warning: Reading non-scalar data in HDF5 Vector\n",
      "*** Warning: Reading non-scalar data in HDF5 Vector\n",
      "*** Warning: Reading non-scalar data in HDF5 Vector\n",
      "*** Warning: Reading non-scalar data in HDF5 Vector\n",
      "*** Warning: Reading non-scalar data in HDF5 Vector\n",
      "*** Warning: Reading non-scalar data in HDF5 Vector\n",
      "*** Warning: Reading non-scalar data in HDF5 Vector\n",
      "*** Warning: Reading non-scalar data in HDF5 Vector\n"
     ]
    },
    {
     "name": "stderr",
     "output_type": "stream",
     "text": [
      "ROOT -2024-09-07 03:15:53,047 mechanotransduction - INFO - Solve for time step 1030.521689 (2087672043.py:4)\n"
     ]
    },
    {
     "name": "stdout",
     "output_type": "stream",
     "text": [
      "*** Warning: Reading non-scalar data in HDF5 Vector\n",
      "*** Warning: Reading non-scalar data in HDF5 Vector\n",
      "*** Warning: Reading non-scalar data in HDF5 Vector\n",
      "*** Warning: Reading non-scalar data in HDF5 Vector\n",
      "*** Warning: Reading non-scalar data in HDF5 Vector\n",
      "*** Warning: Reading non-scalar data in HDF5 Vector\n",
      "*** Warning: Reading non-scalar data in HDF5 Vector\n",
      "*** Warning: Reading non-scalar data in HDF5 Vector\n"
     ]
    },
    {
     "name": "stderr",
     "output_type": "stream",
     "text": [
      "ROOT -2024-09-07 03:16:17,802 mechanotransduction - INFO - Solve for time step 1082.111609 (2087672043.py:4)\n"
     ]
    },
    {
     "name": "stdout",
     "output_type": "stream",
     "text": [
      "*** Warning: Reading non-scalar data in HDF5 Vector\n",
      "*** Warning: Reading non-scalar data in HDF5 Vector\n",
      "*** Warning: Reading non-scalar data in HDF5 Vector\n",
      "*** Warning: Reading non-scalar data in HDF5 Vector\n",
      "*** Warning: Reading non-scalar data in HDF5 Vector\n",
      "*** Warning: Reading non-scalar data in HDF5 Vector\n",
      "*** Warning: Reading non-scalar data in HDF5 Vector\n",
      "*** Warning: Reading non-scalar data in HDF5 Vector\n"
     ]
    },
    {
     "name": "stderr",
     "output_type": "stream",
     "text": [
      "ROOT -2024-09-07 03:16:42,330 mechanotransduction - INFO - Solve for time step 1136.281025 (2087672043.py:4)\n"
     ]
    },
    {
     "name": "stdout",
     "output_type": "stream",
     "text": [
      "*** Warning: Reading non-scalar data in HDF5 Vector\n",
      "*** Warning: Reading non-scalar data in HDF5 Vector\n",
      "*** Warning: Reading non-scalar data in HDF5 Vector\n",
      "*** Warning: Reading non-scalar data in HDF5 Vector\n",
      "*** Warning: Reading non-scalar data in HDF5 Vector\n",
      "*** Warning: Reading non-scalar data in HDF5 Vector\n",
      "*** Warning: Reading non-scalar data in HDF5 Vector\n",
      "*** Warning: Reading non-scalar data in HDF5 Vector\n"
     ]
    },
    {
     "name": "stderr",
     "output_type": "stream",
     "text": [
      "ROOT -2024-09-07 03:17:06,854 mechanotransduction - INFO - Solve for time step 1193.158912 (2087672043.py:4)\n"
     ]
    },
    {
     "name": "stdout",
     "output_type": "stream",
     "text": [
      "*** Warning: Reading non-scalar data in HDF5 Vector\n",
      "*** Warning: Reading non-scalar data in HDF5 Vector\n",
      "*** Warning: Reading non-scalar data in HDF5 Vector\n",
      "*** Warning: Reading non-scalar data in HDF5 Vector\n",
      "*** Warning: Reading non-scalar data in HDF5 Vector\n",
      "*** Warning: Reading non-scalar data in HDF5 Vector\n",
      "*** Warning: Reading non-scalar data in HDF5 Vector\n",
      "*** Warning: Reading non-scalar data in HDF5 Vector\n"
     ]
    },
    {
     "name": "stderr",
     "output_type": "stream",
     "text": [
      "ROOT -2024-09-07 03:17:31,343 mechanotransduction - INFO - Solve for time step 1252.880693 (2087672043.py:4)\n"
     ]
    },
    {
     "name": "stdout",
     "output_type": "stream",
     "text": [
      "*** Warning: Reading non-scalar data in HDF5 Vector\n",
      "*** Warning: Reading non-scalar data in HDF5 Vector\n",
      "*** Warning: Reading non-scalar data in HDF5 Vector\n",
      "*** Warning: Reading non-scalar data in HDF5 Vector\n",
      "*** Warning: Reading non-scalar data in HDF5 Vector\n",
      "*** Warning: Reading non-scalar data in HDF5 Vector\n",
      "*** Warning: Reading non-scalar data in HDF5 Vector\n",
      "*** Warning: Reading non-scalar data in HDF5 Vector\n"
     ]
    },
    {
     "name": "stderr",
     "output_type": "stream",
     "text": [
      "ROOT -2024-09-07 03:17:55,436 mechanotransduction - INFO - Solve for time step 1315.588563 (2087672043.py:4)\n"
     ]
    },
    {
     "name": "stdout",
     "output_type": "stream",
     "text": [
      "*** Warning: Reading non-scalar data in HDF5 Vector\n",
      "*** Warning: Reading non-scalar data in HDF5 Vector\n",
      "*** Warning: Reading non-scalar data in HDF5 Vector\n",
      "*** Warning: Reading non-scalar data in HDF5 Vector\n",
      "*** Warning: Reading non-scalar data in HDF5 Vector\n",
      "*** Warning: Reading non-scalar data in HDF5 Vector\n",
      "*** Warning: Reading non-scalar data in HDF5 Vector\n",
      "*** Warning: Reading non-scalar data in HDF5 Vector\n"
     ]
    },
    {
     "name": "stderr",
     "output_type": "stream",
     "text": [
      "ROOT -2024-09-07 03:18:19,971 mechanotransduction - INFO - Solve for time step 1381.431827 (2087672043.py:4)\n"
     ]
    },
    {
     "name": "stdout",
     "output_type": "stream",
     "text": [
      "*** Warning: Reading non-scalar data in HDF5 Vector\n",
      "*** Warning: Reading non-scalar data in HDF5 Vector\n",
      "*** Warning: Reading non-scalar data in HDF5 Vector\n",
      "*** Warning: Reading non-scalar data in HDF5 Vector\n",
      "*** Warning: Reading non-scalar data in HDF5 Vector\n",
      "*** Warning: Reading non-scalar data in HDF5 Vector\n",
      "*** Warning: Reading non-scalar data in HDF5 Vector\n",
      "*** Warning: Reading non-scalar data in HDF5 Vector\n"
     ]
    },
    {
     "name": "stderr",
     "output_type": "stream",
     "text": [
      "ROOT -2024-09-07 03:18:44,657 mechanotransduction - INFO - Solve for time step 1450.567254 (2087672043.py:4)\n"
     ]
    },
    {
     "name": "stdout",
     "output_type": "stream",
     "text": [
      "*** Warning: Reading non-scalar data in HDF5 Vector\n",
      "*** Warning: Reading non-scalar data in HDF5 Vector\n",
      "*** Warning: Reading non-scalar data in HDF5 Vector\n",
      "*** Warning: Reading non-scalar data in HDF5 Vector\n",
      "*** Warning: Reading non-scalar data in HDF5 Vector\n",
      "*** Warning: Reading non-scalar data in HDF5 Vector\n",
      "*** Warning: Reading non-scalar data in HDF5 Vector\n",
      "*** Warning: Reading non-scalar data in HDF5 Vector\n"
     ]
    },
    {
     "name": "stderr",
     "output_type": "stream",
     "text": [
      "ROOT -2024-09-07 03:19:09,726 mechanotransduction - INFO - Solve for time step 1523.159452 (2087672043.py:4)\n"
     ]
    },
    {
     "name": "stdout",
     "output_type": "stream",
     "text": [
      "*** Warning: Reading non-scalar data in HDF5 Vector\n",
      "*** Warning: Reading non-scalar data in HDF5 Vector\n",
      "*** Warning: Reading non-scalar data in HDF5 Vector\n",
      "*** Warning: Reading non-scalar data in HDF5 Vector\n",
      "*** Warning: Reading non-scalar data in HDF5 Vector\n",
      "*** Warning: Reading non-scalar data in HDF5 Vector\n",
      "*** Warning: Reading non-scalar data in HDF5 Vector\n",
      "*** Warning: Reading non-scalar data in HDF5 Vector\n"
     ]
    },
    {
     "name": "stderr",
     "output_type": "stream",
     "text": [
      "ROOT -2024-09-07 03:19:34,733 mechanotransduction - INFO - Solve for time step 1599.381260 (2087672043.py:4)\n"
     ]
    },
    {
     "name": "stdout",
     "output_type": "stream",
     "text": [
      "*** Warning: Reading non-scalar data in HDF5 Vector\n",
      "*** Warning: Reading non-scalar data in HDF5 Vector\n",
      "*** Warning: Reading non-scalar data in HDF5 Vector\n",
      "*** Warning: Reading non-scalar data in HDF5 Vector\n",
      "*** Warning: Reading non-scalar data in HDF5 Vector\n",
      "*** Warning: Reading non-scalar data in HDF5 Vector\n",
      "*** Warning: Reading non-scalar data in HDF5 Vector\n",
      "*** Warning: Reading non-scalar data in HDF5 Vector\n"
     ]
    },
    {
     "name": "stderr",
     "output_type": "stream",
     "text": [
      "ROOT -2024-09-07 03:19:59,025 mechanotransduction - INFO - Solve for time step 1679.414158 (2087672043.py:4)\n"
     ]
    },
    {
     "name": "stdout",
     "output_type": "stream",
     "text": [
      "*** Warning: Reading non-scalar data in HDF5 Vector\n",
      "*** Warning: Reading non-scalar data in HDF5 Vector\n",
      "*** Warning: Reading non-scalar data in HDF5 Vector\n",
      "*** Warning: Reading non-scalar data in HDF5 Vector\n",
      "*** Warning: Reading non-scalar data in HDF5 Vector\n",
      "*** Warning: Reading non-scalar data in HDF5 Vector\n",
      "*** Warning: Reading non-scalar data in HDF5 Vector\n",
      "*** Warning: Reading non-scalar data in HDF5 Vector\n"
     ]
    },
    {
     "name": "stderr",
     "output_type": "stream",
     "text": [
      "ROOT -2024-09-07 03:20:23,923 mechanotransduction - INFO - Solve for time step 1763.448701 (2087672043.py:4)\n"
     ]
    },
    {
     "name": "stdout",
     "output_type": "stream",
     "text": [
      "*** Warning: Reading non-scalar data in HDF5 Vector\n",
      "*** Warning: Reading non-scalar data in HDF5 Vector\n",
      "*** Warning: Reading non-scalar data in HDF5 Vector\n",
      "*** Warning: Reading non-scalar data in HDF5 Vector\n",
      "*** Warning: Reading non-scalar data in HDF5 Vector\n",
      "*** Warning: Reading non-scalar data in HDF5 Vector\n",
      "*** Warning: Reading non-scalar data in HDF5 Vector\n",
      "*** Warning: Reading non-scalar data in HDF5 Vector\n"
     ]
    },
    {
     "name": "stderr",
     "output_type": "stream",
     "text": [
      "ROOT -2024-09-07 03:20:49,068 mechanotransduction - INFO - Solve for time step 1851.684971 (2087672043.py:4)\n"
     ]
    },
    {
     "name": "stdout",
     "output_type": "stream",
     "text": [
      "*** Warning: Reading non-scalar data in HDF5 Vector\n",
      "*** Warning: Reading non-scalar data in HDF5 Vector\n",
      "*** Warning: Reading non-scalar data in HDF5 Vector\n",
      "*** Warning: Reading non-scalar data in HDF5 Vector\n",
      "*** Warning: Reading non-scalar data in HDF5 Vector\n",
      "*** Warning: Reading non-scalar data in HDF5 Vector\n",
      "*** Warning: Reading non-scalar data in HDF5 Vector\n",
      "*** Warning: Reading non-scalar data in HDF5 Vector\n"
     ]
    },
    {
     "name": "stderr",
     "output_type": "stream",
     "text": [
      "ROOT -2024-09-07 03:21:13,971 mechanotransduction - INFO - Solve for time step 1944.333055 (2087672043.py:4)\n"
     ]
    },
    {
     "name": "stdout",
     "output_type": "stream",
     "text": [
      "*** Warning: Reading non-scalar data in HDF5 Vector\n",
      "*** Warning: Reading non-scalar data in HDF5 Vector\n",
      "*** Warning: Reading non-scalar data in HDF5 Vector\n",
      "*** Warning: Reading non-scalar data in HDF5 Vector\n",
      "*** Warning: Reading non-scalar data in HDF5 Vector\n",
      "*** Warning: Reading non-scalar data in HDF5 Vector\n",
      "*** Warning: Reading non-scalar data in HDF5 Vector\n",
      "*** Warning: Reading non-scalar data in HDF5 Vector\n"
     ]
    },
    {
     "name": "stderr",
     "output_type": "stream",
     "text": [
      "ROOT -2024-09-07 03:21:38,673 mechanotransduction - INFO - Solve for time step 2041.613543 (2087672043.py:4)\n"
     ]
    },
    {
     "name": "stdout",
     "output_type": "stream",
     "text": [
      "*** Warning: Reading non-scalar data in HDF5 Vector\n",
      "*** Warning: Reading non-scalar data in HDF5 Vector\n",
      "*** Warning: Reading non-scalar data in HDF5 Vector\n",
      "*** Warning: Reading non-scalar data in HDF5 Vector\n",
      "*** Warning: Reading non-scalar data in HDF5 Vector\n",
      "*** Warning: Reading non-scalar data in HDF5 Vector\n",
      "*** Warning: Reading non-scalar data in HDF5 Vector\n",
      "*** Warning: Reading non-scalar data in HDF5 Vector\n"
     ]
    },
    {
     "name": "stderr",
     "output_type": "stream",
     "text": [
      "ROOT -2024-09-07 03:22:03,561 mechanotransduction - INFO - Solve for time step 2143.758055 (2087672043.py:4)\n"
     ]
    },
    {
     "name": "stdout",
     "output_type": "stream",
     "text": [
      "*** Warning: Reading non-scalar data in HDF5 Vector\n",
      "*** Warning: Reading non-scalar data in HDF5 Vector\n",
      "*** Warning: Reading non-scalar data in HDF5 Vector\n",
      "*** Warning: Reading non-scalar data in HDF5 Vector\n",
      "*** Warning: Reading non-scalar data in HDF5 Vector\n",
      "*** Warning: Reading non-scalar data in HDF5 Vector\n",
      "*** Warning: Reading non-scalar data in HDF5 Vector\n",
      "*** Warning: Reading non-scalar data in HDF5 Vector\n"
     ]
    },
    {
     "name": "stderr",
     "output_type": "stream",
     "text": [
      "ROOT -2024-09-07 03:22:28,192 mechanotransduction - INFO - Solve for time step 2251.009793 (2087672043.py:4)\n"
     ]
    },
    {
     "name": "stdout",
     "output_type": "stream",
     "text": [
      "*** Warning: Reading non-scalar data in HDF5 Vector\n",
      "*** Warning: Reading non-scalar data in HDF5 Vector\n",
      "*** Warning: Reading non-scalar data in HDF5 Vector\n",
      "*** Warning: Reading non-scalar data in HDF5 Vector\n",
      "*** Warning: Reading non-scalar data in HDF5 Vector\n",
      "*** Warning: Reading non-scalar data in HDF5 Vector\n",
      "*** Warning: Reading non-scalar data in HDF5 Vector\n",
      "*** Warning: Reading non-scalar data in HDF5 Vector\n"
     ]
    },
    {
     "name": "stderr",
     "output_type": "stream",
     "text": [
      "ROOT -2024-09-07 03:22:53,535 mechanotransduction - INFO - Solve for time step 2363.624118 (2087672043.py:4)\n"
     ]
    },
    {
     "name": "stdout",
     "output_type": "stream",
     "text": [
      "*** Warning: Reading non-scalar data in HDF5 Vector\n",
      "*** Warning: Reading non-scalar data in HDF5 Vector\n",
      "*** Warning: Reading non-scalar data in HDF5 Vector\n",
      "*** Warning: Reading non-scalar data in HDF5 Vector\n",
      "*** Warning: Reading non-scalar data in HDF5 Vector\n",
      "*** Warning: Reading non-scalar data in HDF5 Vector\n",
      "*** Warning: Reading non-scalar data in HDF5 Vector\n",
      "*** Warning: Reading non-scalar data in HDF5 Vector\n"
     ]
    },
    {
     "name": "stderr",
     "output_type": "stream",
     "text": [
      "ROOT -2024-09-07 03:23:18,702 mechanotransduction - INFO - Solve for time step 2481.869159 (2087672043.py:4)\n"
     ]
    },
    {
     "name": "stdout",
     "output_type": "stream",
     "text": [
      "*** Warning: Reading non-scalar data in HDF5 Vector\n",
      "*** Warning: Reading non-scalar data in HDF5 Vector\n",
      "*** Warning: Reading non-scalar data in HDF5 Vector\n",
      "*** Warning: Reading non-scalar data in HDF5 Vector\n",
      "*** Warning: Reading non-scalar data in HDF5 Vector\n",
      "*** Warning: Reading non-scalar data in HDF5 Vector\n",
      "*** Warning: Reading non-scalar data in HDF5 Vector\n",
      "*** Warning: Reading non-scalar data in HDF5 Vector\n"
     ]
    },
    {
     "name": "stderr",
     "output_type": "stream",
     "text": [
      "ROOT -2024-09-07 03:23:43,364 mechanotransduction - INFO - Solve for time step 2606.026452 (2087672043.py:4)\n"
     ]
    },
    {
     "name": "stdout",
     "output_type": "stream",
     "text": [
      "*** Warning: Reading non-scalar data in HDF5 Vector\n",
      "*** Warning: Reading non-scalar data in HDF5 Vector\n",
      "*** Warning: Reading non-scalar data in HDF5 Vector\n",
      "*** Warning: Reading non-scalar data in HDF5 Vector\n",
      "*** Warning: Reading non-scalar data in HDF5 Vector\n",
      "*** Warning: Reading non-scalar data in HDF5 Vector\n",
      "*** Warning: Reading non-scalar data in HDF5 Vector\n",
      "*** Warning: Reading non-scalar data in HDF5 Vector\n"
     ]
    },
    {
     "name": "stderr",
     "output_type": "stream",
     "text": [
      "ROOT -2024-09-07 03:24:08,042 mechanotransduction - INFO - Solve for time step 2736.391610 (2087672043.py:4)\n"
     ]
    },
    {
     "name": "stdout",
     "output_type": "stream",
     "text": [
      "*** Warning: Reading non-scalar data in HDF5 Vector\n",
      "*** Warning: Reading non-scalar data in HDF5 Vector\n",
      "*** Warning: Reading non-scalar data in HDF5 Vector\n",
      "*** Warning: Reading non-scalar data in HDF5 Vector\n",
      "*** Warning: Reading non-scalar data in HDF5 Vector\n",
      "*** Warning: Reading non-scalar data in HDF5 Vector\n",
      "*** Warning: Reading non-scalar data in HDF5 Vector\n",
      "*** Warning: Reading non-scalar data in HDF5 Vector\n"
     ]
    },
    {
     "name": "stderr",
     "output_type": "stream",
     "text": [
      "ROOT -2024-09-07 03:24:33,271 mechanotransduction - INFO - Solve for time step 2873.275026 (2087672043.py:4)\n"
     ]
    },
    {
     "name": "stdout",
     "output_type": "stream",
     "text": [
      "*** Warning: Reading non-scalar data in HDF5 Vector\n",
      "*** Warning: Reading non-scalar data in HDF5 Vector\n",
      "*** Warning: Reading non-scalar data in HDF5 Vector\n",
      "*** Warning: Reading non-scalar data in HDF5 Vector\n",
      "*** Warning: Reading non-scalar data in HDF5 Vector\n",
      "*** Warning: Reading non-scalar data in HDF5 Vector\n",
      "*** Warning: Reading non-scalar data in HDF5 Vector\n",
      "*** Warning: Reading non-scalar data in HDF5 Vector\n"
     ]
    },
    {
     "name": "stderr",
     "output_type": "stream",
     "text": [
      "ROOT -2024-09-07 03:24:58,236 mechanotransduction - INFO - Solve for time step 3017.002613 (2087672043.py:4)\n"
     ]
    },
    {
     "name": "stdout",
     "output_type": "stream",
     "text": [
      "*** Warning: Reading non-scalar data in HDF5 Vector\n",
      "*** Warning: Reading non-scalar data in HDF5 Vector\n",
      "*** Warning: Reading non-scalar data in HDF5 Vector\n",
      "*** Warning: Reading non-scalar data in HDF5 Vector\n",
      "*** Warning: Reading non-scalar data in HDF5 Vector\n",
      "*** Warning: Reading non-scalar data in HDF5 Vector\n",
      "*** Warning: Reading non-scalar data in HDF5 Vector\n",
      "*** Warning: Reading non-scalar data in HDF5 Vector\n"
     ]
    },
    {
     "name": "stderr",
     "output_type": "stream",
     "text": [
      "ROOT -2024-09-07 03:25:23,390 mechanotransduction - INFO - Solve for time step 3167.916579 (2087672043.py:4)\n"
     ]
    },
    {
     "name": "stdout",
     "output_type": "stream",
     "text": [
      "*** Warning: Reading non-scalar data in HDF5 Vector\n",
      "*** Warning: Reading non-scalar data in HDF5 Vector\n",
      "*** Warning: Reading non-scalar data in HDF5 Vector\n",
      "*** Warning: Reading non-scalar data in HDF5 Vector\n",
      "*** Warning: Reading non-scalar data in HDF5 Vector\n",
      "*** Warning: Reading non-scalar data in HDF5 Vector\n",
      "*** Warning: Reading non-scalar data in HDF5 Vector\n",
      "*** Warning: Reading non-scalar data in HDF5 Vector\n"
     ]
    },
    {
     "name": "stderr",
     "output_type": "stream",
     "text": [
      "ROOT -2024-09-07 03:25:48,417 mechanotransduction - INFO - Solve for time step 3326.376243 (2087672043.py:4)\n"
     ]
    },
    {
     "name": "stdout",
     "output_type": "stream",
     "text": [
      "*** Warning: Reading non-scalar data in HDF5 Vector\n",
      "*** Warning: Reading non-scalar data in HDF5 Vector\n",
      "*** Warning: Reading non-scalar data in HDF5 Vector\n",
      "*** Warning: Reading non-scalar data in HDF5 Vector\n",
      "*** Warning: Reading non-scalar data in HDF5 Vector\n",
      "*** Warning: Reading non-scalar data in HDF5 Vector\n",
      "*** Warning: Reading non-scalar data in HDF5 Vector\n",
      "*** Warning: Reading non-scalar data in HDF5 Vector\n"
     ]
    },
    {
     "name": "stderr",
     "output_type": "stream",
     "text": [
      "ROOT -2024-09-07 03:26:13,497 mechanotransduction - INFO - Solve for time step 3492.758890 (2087672043.py:4)\n"
     ]
    },
    {
     "name": "stdout",
     "output_type": "stream",
     "text": [
      "*** Warning: Reading non-scalar data in HDF5 Vector\n",
      "*** Warning: Reading non-scalar data in HDF5 Vector\n",
      "*** Warning: Reading non-scalar data in HDF5 Vector\n",
      "*** Warning: Reading non-scalar data in HDF5 Vector\n",
      "*** Warning: Reading non-scalar data in HDF5 Vector\n",
      "*** Warning: Reading non-scalar data in HDF5 Vector\n",
      "*** Warning: Reading non-scalar data in HDF5 Vector\n",
      "*** Warning: Reading non-scalar data in HDF5 Vector\n"
     ]
    },
    {
     "name": "stderr",
     "output_type": "stream",
     "text": [
      "ROOT -2024-09-07 03:26:38,589 mechanotransduction - INFO - Solve for time step 3667.460669 (2087672043.py:4)\n"
     ]
    },
    {
     "name": "stdout",
     "output_type": "stream",
     "text": [
      "*** Warning: Reading non-scalar data in HDF5 Vector\n",
      "*** Warning: Reading non-scalar data in HDF5 Vector\n",
      "*** Warning: Reading non-scalar data in HDF5 Vector\n",
      "*** Warning: Reading non-scalar data in HDF5 Vector\n",
      "*** Warning: Reading non-scalar data in HDF5 Vector\n",
      "*** Warning: Reading non-scalar data in HDF5 Vector\n",
      "*** Warning: Reading non-scalar data in HDF5 Vector\n",
      "*** Warning: Reading non-scalar data in HDF5 Vector\n"
     ]
    },
    {
     "name": "stderr",
     "output_type": "stream",
     "text": [
      "ROOT -2024-09-07 03:27:04,409 mechanotransduction - INFO - Solve for time step 3850.897537 (2087672043.py:4)\n"
     ]
    },
    {
     "name": "stdout",
     "output_type": "stream",
     "text": [
      "*** Warning: Reading non-scalar data in HDF5 Vector\n",
      "*** Warning: Reading non-scalar data in HDF5 Vector\n",
      "*** Warning: Reading non-scalar data in HDF5 Vector\n",
      "*** Warning: Reading non-scalar data in HDF5 Vector\n",
      "*** Warning: Reading non-scalar data in HDF5 Vector\n",
      "*** Warning: Reading non-scalar data in HDF5 Vector\n",
      "*** Warning: Reading non-scalar data in HDF5 Vector\n",
      "*** Warning: Reading non-scalar data in HDF5 Vector\n"
     ]
    },
    {
     "name": "stderr",
     "output_type": "stream",
     "text": [
      "ROOT -2024-09-07 03:27:29,740 mechanotransduction - INFO - Solve for time step 4043.506248 (2087672043.py:4)\n"
     ]
    },
    {
     "name": "stdout",
     "output_type": "stream",
     "text": [
      "*** Warning: Reading non-scalar data in HDF5 Vector\n",
      "*** Warning: Reading non-scalar data in HDF5 Vector\n",
      "*** Warning: Reading non-scalar data in HDF5 Vector\n",
      "*** Warning: Reading non-scalar data in HDF5 Vector\n",
      "*** Warning: Reading non-scalar data in HDF5 Vector\n",
      "*** Warning: Reading non-scalar data in HDF5 Vector\n",
      "*** Warning: Reading non-scalar data in HDF5 Vector\n",
      "*** Warning: Reading non-scalar data in HDF5 Vector\n"
     ]
    },
    {
     "name": "stderr",
     "output_type": "stream",
     "text": [
      "ROOT -2024-09-07 03:27:54,734 mechanotransduction - INFO - Solve for time step 4245.745395 (2087672043.py:4)\n"
     ]
    },
    {
     "name": "stdout",
     "output_type": "stream",
     "text": [
      "*** Warning: Reading non-scalar data in HDF5 Vector\n",
      "*** Warning: Reading non-scalar data in HDF5 Vector\n",
      "*** Warning: Reading non-scalar data in HDF5 Vector\n",
      "*** Warning: Reading non-scalar data in HDF5 Vector\n",
      "*** Warning: Reading non-scalar data in HDF5 Vector\n",
      "*** Warning: Reading non-scalar data in HDF5 Vector\n",
      "*** Warning: Reading non-scalar data in HDF5 Vector\n",
      "*** Warning: Reading non-scalar data in HDF5 Vector\n"
     ]
    },
    {
     "name": "stderr",
     "output_type": "stream",
     "text": [
      "ROOT -2024-09-07 03:28:19,720 mechanotransduction - INFO - Solve for time step 4458.096499 (2087672043.py:4)\n"
     ]
    },
    {
     "name": "stdout",
     "output_type": "stream",
     "text": [
      "*** Warning: Reading non-scalar data in HDF5 Vector\n",
      "*** Warning: Reading non-scalar data in HDF5 Vector\n",
      "*** Warning: Reading non-scalar data in HDF5 Vector\n",
      "*** Warning: Reading non-scalar data in HDF5 Vector\n",
      "*** Warning: Reading non-scalar data in HDF5 Vector\n",
      "*** Warning: Reading non-scalar data in HDF5 Vector\n",
      "*** Warning: Reading non-scalar data in HDF5 Vector\n",
      "*** Warning: Reading non-scalar data in HDF5 Vector\n"
     ]
    },
    {
     "name": "stderr",
     "output_type": "stream",
     "text": [
      "ROOT -2024-09-07 03:28:44,936 mechanotransduction - INFO - Solve for time step 4681.065158 (2087672043.py:4)\n"
     ]
    },
    {
     "name": "stdout",
     "output_type": "stream",
     "text": [
      "*** Warning: Reading non-scalar data in HDF5 Vector\n",
      "*** Warning: Reading non-scalar data in HDF5 Vector\n",
      "*** Warning: Reading non-scalar data in HDF5 Vector\n",
      "*** Warning: Reading non-scalar data in HDF5 Vector\n",
      "*** Warning: Reading non-scalar data in HDF5 Vector\n",
      "*** Warning: Reading non-scalar data in HDF5 Vector\n",
      "*** Warning: Reading non-scalar data in HDF5 Vector\n",
      "*** Warning: Reading non-scalar data in HDF5 Vector\n"
     ]
    },
    {
     "name": "stderr",
     "output_type": "stream",
     "text": [
      "ROOT -2024-09-07 03:29:10,402 mechanotransduction - INFO - Solve for time step 4915.182250 (2087672043.py:4)\n"
     ]
    },
    {
     "name": "stdout",
     "output_type": "stream",
     "text": [
      "*** Warning: Reading non-scalar data in HDF5 Vector\n",
      "*** Warning: Reading non-scalar data in HDF5 Vector\n",
      "*** Warning: Reading non-scalar data in HDF5 Vector\n",
      "*** Warning: Reading non-scalar data in HDF5 Vector\n",
      "*** Warning: Reading non-scalar data in HDF5 Vector\n",
      "*** Warning: Reading non-scalar data in HDF5 Vector\n",
      "*** Warning: Reading non-scalar data in HDF5 Vector\n",
      "*** Warning: Reading non-scalar data in HDF5 Vector\n"
     ]
    },
    {
     "name": "stderr",
     "output_type": "stream",
     "text": [
      "ROOT -2024-09-07 03:29:35,690 mechanotransduction - INFO - Solve for time step 5161.005197 (2087672043.py:4)\n"
     ]
    },
    {
     "name": "stdout",
     "output_type": "stream",
     "text": [
      "*** Warning: Reading non-scalar data in HDF5 Vector\n",
      "*** Warning: Reading non-scalar data in HDF5 Vector\n",
      "*** Warning: Reading non-scalar data in HDF5 Vector\n",
      "*** Warning: Reading non-scalar data in HDF5 Vector\n",
      "*** Warning: Reading non-scalar data in HDF5 Vector\n",
      "*** Warning: Reading non-scalar data in HDF5 Vector\n",
      "*** Warning: Reading non-scalar data in HDF5 Vector\n",
      "*** Warning: Reading non-scalar data in HDF5 Vector\n"
     ]
    },
    {
     "name": "stderr",
     "output_type": "stream",
     "text": [
      "ROOT -2024-09-07 03:30:00,822 mechanotransduction - INFO - Solve for time step 5419.119291 (2087672043.py:4)\n"
     ]
    },
    {
     "name": "stdout",
     "output_type": "stream",
     "text": [
      "*** Warning: Reading non-scalar data in HDF5 Vector\n",
      "*** Warning: Reading non-scalar data in HDF5 Vector\n",
      "*** Warning: Reading non-scalar data in HDF5 Vector\n",
      "*** Warning: Reading non-scalar data in HDF5 Vector\n",
      "*** Warning: Reading non-scalar data in HDF5 Vector\n",
      "*** Warning: Reading non-scalar data in HDF5 Vector\n",
      "*** Warning: Reading non-scalar data in HDF5 Vector\n",
      "*** Warning: Reading non-scalar data in HDF5 Vector\n"
     ]
    },
    {
     "name": "stderr",
     "output_type": "stream",
     "text": [
      "ROOT -2024-09-07 03:30:25,983 mechanotransduction - INFO - Solve for time step 5690.139090 (2087672043.py:4)\n"
     ]
    },
    {
     "name": "stdout",
     "output_type": "stream",
     "text": [
      "*** Warning: Reading non-scalar data in HDF5 Vector\n",
      "*** Warning: Reading non-scalar data in HDF5 Vector\n",
      "*** Warning: Reading non-scalar data in HDF5 Vector\n",
      "*** Warning: Reading non-scalar data in HDF5 Vector\n",
      "*** Warning: Reading non-scalar data in HDF5 Vector\n",
      "*** Warning: Reading non-scalar data in HDF5 Vector\n",
      "*** Warning: Reading non-scalar data in HDF5 Vector\n",
      "*** Warning: Reading non-scalar data in HDF5 Vector\n"
     ]
    },
    {
     "name": "stderr",
     "output_type": "stream",
     "text": [
      "ROOT -2024-09-07 03:30:50,909 mechanotransduction - INFO - Solve for time step 5974.709879 (2087672043.py:4)\n"
     ]
    },
    {
     "name": "stdout",
     "output_type": "stream",
     "text": [
      "*** Warning: Reading non-scalar data in HDF5 Vector\n",
      "*** Warning: Reading non-scalar data in HDF5 Vector\n",
      "*** Warning: Reading non-scalar data in HDF5 Vector\n",
      "*** Warning: Reading non-scalar data in HDF5 Vector\n",
      "*** Warning: Reading non-scalar data in HDF5 Vector\n",
      "*** Warning: Reading non-scalar data in HDF5 Vector\n",
      "*** Warning: Reading non-scalar data in HDF5 Vector\n",
      "*** Warning: Reading non-scalar data in HDF5 Vector\n"
     ]
    },
    {
     "name": "stderr",
     "output_type": "stream",
     "text": [
      "ROOT -2024-09-07 03:31:15,952 mechanotransduction - INFO - Solve for time step 6273.509207 (2087672043.py:4)\n"
     ]
    },
    {
     "name": "stdout",
     "output_type": "stream",
     "text": [
      "*** Warning: Reading non-scalar data in HDF5 Vector\n",
      "*** Warning: Reading non-scalar data in HDF5 Vector\n",
      "*** Warning: Reading non-scalar data in HDF5 Vector\n",
      "*** Warning: Reading non-scalar data in HDF5 Vector\n",
      "*** Warning: Reading non-scalar data in HDF5 Vector\n",
      "*** Warning: Reading non-scalar data in HDF5 Vector\n",
      "*** Warning: Reading non-scalar data in HDF5 Vector\n",
      "*** Warning: Reading non-scalar data in HDF5 Vector\n"
     ]
    },
    {
     "name": "stderr",
     "output_type": "stream",
     "text": [
      "ROOT -2024-09-07 03:31:52,416 mechanotransduction - INFO - Solve for time step 6587.248501 (2087672043.py:4)\n"
     ]
    },
    {
     "name": "stdout",
     "output_type": "stream",
     "text": [
      "*** Warning: Reading non-scalar data in HDF5 Vector\n",
      "*** Warning: Reading non-scalar data in HDF5 Vector\n",
      "*** Warning: Reading non-scalar data in HDF5 Vector\n",
      "*** Warning: Reading non-scalar data in HDF5 Vector\n",
      "*** Warning: Reading non-scalar data in HDF5 Vector\n",
      "*** Warning: Reading non-scalar data in HDF5 Vector\n",
      "*** Warning: Reading non-scalar data in HDF5 Vector\n",
      "*** Warning: Reading non-scalar data in HDF5 Vector\n"
     ]
    },
    {
     "name": "stderr",
     "output_type": "stream",
     "text": [
      "ROOT -2024-09-07 03:32:29,205 mechanotransduction - INFO - Solve for time step 6916.674760 (2087672043.py:4)\n"
     ]
    },
    {
     "name": "stdout",
     "output_type": "stream",
     "text": [
      "*** Warning: Reading non-scalar data in HDF5 Vector\n",
      "*** Warning: Reading non-scalar data in HDF5 Vector\n",
      "*** Warning: Reading non-scalar data in HDF5 Vector\n",
      "*** Warning: Reading non-scalar data in HDF5 Vector\n",
      "*** Warning: Reading non-scalar data in HDF5 Vector\n",
      "*** Warning: Reading non-scalar data in HDF5 Vector\n",
      "*** Warning: Reading non-scalar data in HDF5 Vector\n",
      "*** Warning: Reading non-scalar data in HDF5 Vector\n"
     ]
    },
    {
     "name": "stderr",
     "output_type": "stream",
     "text": [
      "ROOT -2024-09-07 03:33:06,085 mechanotransduction - INFO - Solve for time step 7262.572332 (2087672043.py:4)\n"
     ]
    },
    {
     "name": "stdout",
     "output_type": "stream",
     "text": [
      "*** Warning: Reading non-scalar data in HDF5 Vector\n",
      "*** Warning: Reading non-scalar data in HDF5 Vector\n",
      "*** Warning: Reading non-scalar data in HDF5 Vector\n",
      "*** Warning: Reading non-scalar data in HDF5 Vector\n",
      "*** Warning: Reading non-scalar data in HDF5 Vector\n",
      "*** Warning: Reading non-scalar data in HDF5 Vector\n",
      "*** Warning: Reading non-scalar data in HDF5 Vector\n",
      "*** Warning: Reading non-scalar data in HDF5 Vector\n"
     ]
    },
    {
     "name": "stderr",
     "output_type": "stream",
     "text": [
      "ROOT -2024-09-07 03:33:43,553 mechanotransduction - INFO - Solve for time step 7625.764783 (2087672043.py:4)\n"
     ]
    },
    {
     "name": "stdout",
     "output_type": "stream",
     "text": [
      "*** Warning: Reading non-scalar data in HDF5 Vector\n",
      "*** Warning: Reading non-scalar data in HDF5 Vector\n",
      "*** Warning: Reading non-scalar data in HDF5 Vector\n",
      "*** Warning: Reading non-scalar data in HDF5 Vector\n",
      "*** Warning: Reading non-scalar data in HDF5 Vector\n",
      "*** Warning: Reading non-scalar data in HDF5 Vector\n",
      "*** Warning: Reading non-scalar data in HDF5 Vector\n",
      "*** Warning: Reading non-scalar data in HDF5 Vector\n"
     ]
    },
    {
     "name": "stderr",
     "output_type": "stream",
     "text": [
      "ROOT -2024-09-07 03:34:20,382 mechanotransduction - INFO - Solve for time step 8007.116857 (2087672043.py:4)\n"
     ]
    },
    {
     "name": "stdout",
     "output_type": "stream",
     "text": [
      "*** Warning: Reading non-scalar data in HDF5 Vector\n",
      "*** Warning: Reading non-scalar data in HDF5 Vector\n",
      "*** Warning: Reading non-scalar data in HDF5 Vector\n",
      "*** Warning: Reading non-scalar data in HDF5 Vector\n",
      "*** Warning: Reading non-scalar data in HDF5 Vector\n",
      "*** Warning: Reading non-scalar data in HDF5 Vector\n",
      "*** Warning: Reading non-scalar data in HDF5 Vector\n",
      "*** Warning: Reading non-scalar data in HDF5 Vector\n"
     ]
    },
    {
     "name": "stderr",
     "output_type": "stream",
     "text": [
      "ROOT -2024-09-07 03:34:57,014 mechanotransduction - INFO - Solve for time step 8407.536535 (2087672043.py:4)\n"
     ]
    },
    {
     "name": "stdout",
     "output_type": "stream",
     "text": [
      "*** Warning: Reading non-scalar data in HDF5 Vector\n",
      "*** Warning: Reading non-scalar data in HDF5 Vector\n",
      "*** Warning: Reading non-scalar data in HDF5 Vector\n",
      "*** Warning: Reading non-scalar data in HDF5 Vector\n",
      "*** Warning: Reading non-scalar data in HDF5 Vector\n",
      "*** Warning: Reading non-scalar data in HDF5 Vector\n",
      "*** Warning: Reading non-scalar data in HDF5 Vector\n",
      "*** Warning: Reading non-scalar data in HDF5 Vector\n"
     ]
    },
    {
     "name": "stderr",
     "output_type": "stream",
     "text": [
      "ROOT -2024-09-07 03:35:33,625 mechanotransduction - INFO - Solve for time step 8827.977197 (2087672043.py:4)\n"
     ]
    },
    {
     "name": "stdout",
     "output_type": "stream",
     "text": [
      "*** Warning: Reading non-scalar data in HDF5 Vector\n",
      "*** Warning: Reading non-scalar data in HDF5 Vector\n",
      "*** Warning: Reading non-scalar data in HDF5 Vector\n",
      "*** Warning: Reading non-scalar data in HDF5 Vector\n",
      "*** Warning: Reading non-scalar data in HDF5 Vector\n",
      "*** Warning: Reading non-scalar data in HDF5 Vector\n",
      "*** Warning: Reading non-scalar data in HDF5 Vector\n",
      "*** Warning: Reading non-scalar data in HDF5 Vector\n"
     ]
    },
    {
     "name": "stderr",
     "output_type": "stream",
     "text": [
      "ROOT -2024-09-07 03:36:10,458 mechanotransduction - INFO - Solve for time step 9269.439892 (2087672043.py:4)\n"
     ]
    },
    {
     "name": "stdout",
     "output_type": "stream",
     "text": [
      "*** Warning: Reading non-scalar data in HDF5 Vector\n",
      "*** Warning: Reading non-scalar data in HDF5 Vector\n",
      "*** Warning: Reading non-scalar data in HDF5 Vector\n",
      "*** Warning: Reading non-scalar data in HDF5 Vector\n",
      "*** Warning: Reading non-scalar data in HDF5 Vector\n",
      "*** Warning: Reading non-scalar data in HDF5 Vector\n",
      "*** Warning: Reading non-scalar data in HDF5 Vector\n",
      "*** Warning: Reading non-scalar data in HDF5 Vector\n"
     ]
    },
    {
     "name": "stderr",
     "output_type": "stream",
     "text": [
      "ROOT -2024-09-07 03:36:47,146 mechanotransduction - INFO - Solve for time step 9732.975722 (2087672043.py:4)\n"
     ]
    },
    {
     "name": "stdout",
     "output_type": "stream",
     "text": [
      "*** Warning: Reading non-scalar data in HDF5 Vector\n",
      "*** Warning: Reading non-scalar data in HDF5 Vector\n",
      "*** Warning: Reading non-scalar data in HDF5 Vector\n",
      "*** Warning: Reading non-scalar data in HDF5 Vector\n"
     ]
    }
   ],
   "source": [
    "# Solve\n",
    "displayed = False\n",
    "while True:\n",
    "    logger.info(f\"Solve for time step {model_cur.t}\")\n",
    "    model_cur.monolithic_solve()\n",
    "    model_cur.adjust_dt()\n",
    "\n",
    "    nucMesh = model_cur.cc[\"Nuc\"].dolfin_mesh\n",
    "    dx = d.Measure(\"dx\", domain=nucMesh)\n",
    "    int_val = d.assemble_mixed(model_cur.sc[\"YAPTAZ_nuc\"].u[\"u\"] * dx)\n",
    "    volume = d.assemble_mixed(1.0 * dx)\n",
    "    current_YAPTAZ_nuc = np.array([int_val / volume])\n",
    "    YAPTAZ_nuc_vec = np.concatenate((YAPTAZ_nuc_vec, current_YAPTAZ_nuc))\n",
    "\n",
    "    # Save results for post processing\n",
    "    for species_name, species in model_cur.sc.items:\n",
    "        results[species_name].write(model_cur.sc[species_name].u[\"u\"], model_cur.t)\n",
    "\n",
    "    if model_cur.mpi_comm_world.rank == 0: \n",
    "        np.savetxt(result_folder / \"YAPTAZ_nuc.txt\", YAPTAZ_nuc_vec.astype(np.float32))\n",
    "        np.savetxt(result_folder / \"tvec.txt\", np.array(model_cur.tvec).astype(np.float32))\n",
    "    # End if we've passed the final time\n",
    "    if model_cur.t >= model_cur.final_t:\n",
    "        break"
   ]
  },
  {
   "cell_type": "code",
   "execution_count": 27,
   "id": "7487d59d",
   "metadata": {},
   "outputs": [
    {
     "name": "stderr",
     "output_type": "stream",
     "text": [
      "ROOT -2024-09-07 03:37:12,616 mechanotransduction - INFO - Done with solve loop (96121900.py:1)\n"
     ]
    }
   ],
   "source": [
    "logger.info(\"Done with solve loop\")\n",
    "timer.stop()\n",
    "timings = d.timings(\n",
    "    d.TimingClear.keep,\n",
    "    [d.TimingType.wall, d.TimingType.user, d.TimingType.system],\n",
    ").str(True)"
   ]
  },
  {
   "cell_type": "code",
   "execution_count": 28,
   "id": "53bcd900",
   "metadata": {},
   "outputs": [
    {
     "name": "stdout",
     "output_type": "stream",
     "text": [
      "Summary of timings                           |   reps    wall avg    wall tot     usr avg  usr tot     sys avg  sys tot\n",
      "-----------------------------------------------------------------------------------------------------------------------\n",
      "Apply (PETScMatrix)                          |   2432   1.351e-05    0.032857  8.2237e-06     0.02           0        0\n",
      "Apply (PETScVector)                          |  24035  5.6043e-06      0.1347  5.8248e-06     0.14           0        0\n",
      "Assemble cells                               |      7     0.01373    0.096112    0.012857     0.09   0.0014286     0.01\n",
      "Assemble system                              |      2     0.33089     0.66177        0.33     0.66           0        0\n",
      "Build sparsity                               |   5690  0.00012404     0.70581  0.00013884     0.79           0        0\n",
      "Compute SCOTCH graph re-ordering             |     16    0.008153     0.13045     0.00875     0.14    0.000625     0.01\n",
      "Compute connectivity 0-0                     |      1   0.0030431   0.0030431           0        0           0        0\n",
      "Compute connectivity 0-2                     |      1  0.00017832  0.00017832           0        0           0        0\n",
      "Compute connectivity 0-3                     |      2    0.012602    0.025204        0.01     0.02           0        0\n",
      "Compute connectivity 1-2                     |      2   0.0025122   0.0050244       0.005     0.01           0        0\n",
      "Compute connectivity 2-3                     |      4    0.048973     0.19589      0.0475     0.19      0.0025     0.01\n",
      "Compute connectivity 3-3                     |      1    0.029526    0.029526        0.03     0.03           0        0\n",
      "Compute entities dim = 1                     |      2    0.015882    0.031763        0.02     0.04           0        0\n",
      "Compute entities dim = 2                     |      5     0.20623      1.0311       0.194     0.97       0.012     0.06\n",
      "Delete sparsity                              |   5690  4.0919e-07   0.0023283           0        0           0        0\n",
      "DistributedMeshTools: reorder vertex values  |    828   0.0019706      1.6317   0.0015942     1.32  7.2464e-05     0.06\n",
      "HDF5: read mesh                              |      2    0.069645     0.13929       0.005     0.01        0.01     0.02\n",
      "Init dof vector                              |     26   0.0018287    0.047547   0.0019231     0.05  0.00038462     0.01\n",
      "Init dofmap                                  |     16     0.11433      1.8294      0.1125      1.8    0.001875     0.03\n",
      "Init dofmap from UFC dofmap                  |     16    0.013898     0.22237      0.0125      0.2    0.000625     0.01\n",
      "Init tensor                                  |   5690  0.00096401      5.4852  0.00095958     5.46  1.7575e-06     0.01\n",
      "Initialize Model                             |      2      88.267      176.53       87.68   175.36       0.165     0.33\n",
      "Initialize PETSc Nested Matrix               |      1      2.3667      2.3667        2.34     2.34        0.02     0.02\n",
      "Initialize PETSc Nested Vector               |      1      1.7423      1.7423        1.74     1.74           0        0\n",
      "Initialize model step 1                      |      2   0.0025094   0.0050188       0.005     0.01           0        0\n",
      "Initialize model step 2                      |      2    0.028378    0.056756        0.03     0.06           0        0\n",
      "Initialize model step 3                      |      1       2.511       2.511        2.37     2.37           0        0\n",
      "Initialize model step 4                      |      1      166.24      166.24      165.44   165.44        0.16     0.16\n",
      "Initialize model step 5                      |      1       7.671       7.671        7.43     7.43        0.17     0.17\n",
      "Initialize smartSNESProblem                  |      1   0.0025348   0.0025348        0.01     0.01           0        0\n",
      "LU solver                                    |      2      1.4344      2.8687        1.33     2.66         0.1      0.2\n",
      "Number distributed mesh entities             |     22  0.00015473   0.0034041           0        0           0        0\n",
      "PETSc Krylov solver                          |      2      1.4343      2.8685        1.33     2.66         0.1      0.2\n",
      "SCOTCH: call SCOTCH_graphBuild               |     16  2.5824e-05  0.00041318    0.000625     0.01           0        0\n",
      "SCOTCH: call SCOTCH_graphOrder               |     16   0.0071086     0.11374    0.006875     0.11    0.000625     0.01\n",
      "SNES Assemble Jacobian Nested Matrix         |    404       2.055      830.21      2.0622   833.11   0.0060149     2.43\n",
      "SNES Assemble Residual Nest Vector           |   1418      1.8321      2597.9       1.838   2606.2   0.0047109     6.68\n",
      "Solving linear system                        |      2      1.4358      2.8716       1.335     2.67         0.1      0.2\n",
      "[MixedAssembler] Assemble cells              |   8522     0.39923      3402.2     0.40057   3413.6   0.0010631     9.06\n",
      "mechanotransduction-example                  |      1       11678       11678      5174.4   5174.4       16.99    16.99\n"
     ]
    },
    {
     "data": {
      "image/png": "[encoded data removed]",
      "text/plain": [
       "<Figure size 640x480 with 1 Axes>"
      ]
     },
     "metadata": {},
     "output_type": "display_data"
    }
   ],
   "source": [
    "if model_cur.mpi_comm_world.size > 1:\n",
    "    d.MPI.comm_world.Barrier()\n",
    "\n",
    "if model_cur.mpi_comm_world.rank == 0:\n",
    "    print(timings)\n",
    "    (result_folder / \"timings.txt\").write_text(timings)\n",
    "    plt.plot(model_cur.tvec, YAPTAZ_nuc_vec)\n",
    "    plt.xlabel(\"Time (s)\")\n",
    "    plt.ylabel(\"YAPTAZ_nuc (μM)\")\n",
    "    plt.savefig(result_folder / \"YAPTAZ_nuc.png\")"
   ]
  }
 ],
 "metadata": {
  "kernelspec": {
   "display_name": "Python 3",
   "language": "python",
   "name": "python3"
  },
  "language_info": {
   "codemirror_mode": {
    "name": "ipython",
    "version": 3
   },
   "file_extension": ".py",
   "mimetype": "text/x-python",
   "name": "python",
   "nbconvert_exporter": "python",
   "pygments_lexer": "ipython3",
   "version": "3.10.12"
  }
 },
 "nbformat": 4,
 "nbformat_minor": 5
}
